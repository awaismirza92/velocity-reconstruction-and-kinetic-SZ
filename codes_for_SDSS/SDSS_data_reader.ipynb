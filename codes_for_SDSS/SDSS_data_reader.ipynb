{
 "cells": [
  {
   "cell_type": "code",
   "execution_count": 6,
   "id": "5136e3d4-cc49-488a-81f2-556fcfe1deae",
   "metadata": {},
   "outputs": [],
   "source": [
    "import pandas as pd\n",
    "from astropy.table import Table\n"
   ]
  },
  {
   "cell_type": "code",
   "execution_count": 13,
   "id": "8c7d37e4-fd93-4a20-af3b-5c2447879331",
   "metadata": {},
   "outputs": [
    {
     "name": "stdout",
     "output_type": "stream",
     "text": [
      "\u001b[0m\u001b[01;32m'BOSS_Stellar _Masses_2M_Skyserver_SQL5_10_2021 5_00_41 PM.csv'\u001b[0m*\n",
      "\u001b[01;32m'BOSS_Stellar_Masses_BC03_Skyserver_SQL5_10_2021 2_17_18 PM.csv'\u001b[0m*\n",
      "\u001b[01;32m'BOSS_Stellar_Masses_M11_Skyserver_SQL5_10_2021 2_17_18 PM.csv'\u001b[0m*\n",
      "\u001b[01;32m'BOSS_Stellar_Masses_other_two_tables_removed_Skyserver_SQL5_10_2021 4_48_11 PM.csv'\u001b[0m\u001b[K*\n"
     ]
    }
   ],
   "source": [
    "ls Data/Using_Queries/"
   ]
  },
  {
   "cell_type": "code",
   "execution_count": 8,
   "id": "8babe2e5-62ea-4231-a380-f3177f4e31af",
   "metadata": {},
   "outputs": [],
   "source": [
    "data_address = 'Data/'"
   ]
  },
  {
   "cell_type": "code",
   "execution_count": 9,
   "id": "d5d568e6-0f64-4919-95a8-8c85d2296add",
   "metadata": {},
   "outputs": [
    {
     "data": {
      "text/html": [
       "<div>\n",
       "<style scoped>\n",
       "    .dataframe tbody tr th:only-of-type {\n",
       "        vertical-align: middle;\n",
       "    }\n",
       "\n",
       "    .dataframe tbody tr th {\n",
       "        vertical-align: top;\n",
       "    }\n",
       "\n",
       "    .dataframe thead th {\n",
       "        text-align: right;\n",
       "    }\n",
       "</style>\n",
       "<table border=\"1\" class=\"dataframe\">\n",
       "  <thead>\n",
       "    <tr style=\"text-align: right;\">\n",
       "      <th></th>\n",
       "      <th>fiberID</th>\n",
       "      <th>ra</th>\n",
       "      <th>dec</th>\n",
       "      <th>z_noqso</th>\n",
       "      <th>z_noqso_err</th>\n",
       "      <th>passive_logmass</th>\n",
       "      <th>starforming_logmass</th>\n",
       "      <th>pca_logmass</th>\n",
       "    </tr>\n",
       "  </thead>\n",
       "  <tbody>\n",
       "    <tr>\n",
       "      <th>count</th>\n",
       "      <td>556.000000</td>\n",
       "      <td>556.000000</td>\n",
       "      <td>556.000000</td>\n",
       "      <td>556.000000</td>\n",
       "      <td>556.000000</td>\n",
       "      <td>556.000000</td>\n",
       "      <td>556.000000</td>\n",
       "      <td>556.000000</td>\n",
       "    </tr>\n",
       "    <tr>\n",
       "      <th>mean</th>\n",
       "      <td>473.708633</td>\n",
       "      <td>28.201466</td>\n",
       "      <td>-0.059819</td>\n",
       "      <td>0.479890</td>\n",
       "      <td>0.000310</td>\n",
       "      <td>11.145180</td>\n",
       "      <td>10.976295</td>\n",
       "      <td>11.319160</td>\n",
       "    </tr>\n",
       "    <tr>\n",
       "      <th>std</th>\n",
       "      <td>281.052208</td>\n",
       "      <td>0.679221</td>\n",
       "      <td>0.701225</td>\n",
       "      <td>0.146217</td>\n",
       "      <td>0.004418</td>\n",
       "      <td>0.420125</td>\n",
       "      <td>0.570480</td>\n",
       "      <td>0.521165</td>\n",
       "    </tr>\n",
       "    <tr>\n",
       "      <th>min</th>\n",
       "      <td>1.000000</td>\n",
       "      <td>26.522150</td>\n",
       "      <td>-1.248156</td>\n",
       "      <td>0.029998</td>\n",
       "      <td>0.000007</td>\n",
       "      <td>8.290000</td>\n",
       "      <td>7.450000</td>\n",
       "      <td>8.147198</td>\n",
       "    </tr>\n",
       "    <tr>\n",
       "      <th>25%</th>\n",
       "      <td>223.750000</td>\n",
       "      <td>27.618291</td>\n",
       "      <td>-0.659683</td>\n",
       "      <td>0.429754</td>\n",
       "      <td>0.000076</td>\n",
       "      <td>11.050000</td>\n",
       "      <td>10.840000</td>\n",
       "      <td>11.248655</td>\n",
       "    </tr>\n",
       "    <tr>\n",
       "      <th>50%</th>\n",
       "      <td>470.000000</td>\n",
       "      <td>28.278122</td>\n",
       "      <td>-0.111160</td>\n",
       "      <td>0.496848</td>\n",
       "      <td>0.000122</td>\n",
       "      <td>11.200000</td>\n",
       "      <td>11.080000</td>\n",
       "      <td>11.416934</td>\n",
       "    </tr>\n",
       "    <tr>\n",
       "      <th>75%</th>\n",
       "      <td>711.500000</td>\n",
       "      <td>28.773997</td>\n",
       "      <td>0.507400</td>\n",
       "      <td>0.566482</td>\n",
       "      <td>0.000160</td>\n",
       "      <td>11.350000</td>\n",
       "      <td>11.290000</td>\n",
       "      <td>11.566204</td>\n",
       "    </tr>\n",
       "    <tr>\n",
       "      <th>max</th>\n",
       "      <td>997.000000</td>\n",
       "      <td>29.473433</td>\n",
       "      <td>1.248110</td>\n",
       "      <td>0.799239</td>\n",
       "      <td>0.104294</td>\n",
       "      <td>11.920000</td>\n",
       "      <td>11.960000</td>\n",
       "      <td>12.859290</td>\n",
       "    </tr>\n",
       "  </tbody>\n",
       "</table>\n",
       "</div>"
      ],
      "text/plain": [
       "          fiberID          ra         dec     z_noqso  z_noqso_err  \\\n",
       "count  556.000000  556.000000  556.000000  556.000000   556.000000   \n",
       "mean   473.708633   28.201466   -0.059819    0.479890     0.000310   \n",
       "std    281.052208    0.679221    0.701225    0.146217     0.004418   \n",
       "min      1.000000   26.522150   -1.248156    0.029998     0.000007   \n",
       "25%    223.750000   27.618291   -0.659683    0.429754     0.000076   \n",
       "50%    470.000000   28.278122   -0.111160    0.496848     0.000122   \n",
       "75%    711.500000   28.773997    0.507400    0.566482     0.000160   \n",
       "max    997.000000   29.473433    1.248110    0.799239     0.104294   \n",
       "\n",
       "       passive_logmass  starforming_logmass  pca_logmass  \n",
       "count       556.000000           556.000000   556.000000  \n",
       "mean         11.145180            10.976295    11.319160  \n",
       "std           0.420125             0.570480     0.521165  \n",
       "min           8.290000             7.450000     8.147198  \n",
       "25%          11.050000            10.840000    11.248655  \n",
       "50%          11.200000            11.080000    11.416934  \n",
       "75%          11.350000            11.290000    11.566204  \n",
       "max          11.920000            11.960000    12.859290  "
      ]
     },
     "execution_count": 9,
     "metadata": {},
     "output_type": "execute_result"
    }
   ],
   "source": [
    "df = pd.read_csv(data_address + 'Using_Queries/BOSS_Stellar_Masses_BC03_Skyserver_SQL5_10_2021 2_17_18 PM.csv', \n",
    "                 skiprows = 1)\n",
    "\n",
    "df.describe()"
   ]
  },
  {
   "cell_type": "code",
   "execution_count": 10,
   "id": "3d2e715e-458e-4885-a834-0620bcbdee9f",
   "metadata": {},
   "outputs": [
    {
     "data": {
      "text/html": [
       "<div>\n",
       "<style scoped>\n",
       "    .dataframe tbody tr th:only-of-type {\n",
       "        vertical-align: middle;\n",
       "    }\n",
       "\n",
       "    .dataframe tbody tr th {\n",
       "        vertical-align: top;\n",
       "    }\n",
       "\n",
       "    .dataframe thead th {\n",
       "        text-align: right;\n",
       "    }\n",
       "</style>\n",
       "<table border=\"1\" class=\"dataframe\">\n",
       "  <thead>\n",
       "    <tr style=\"text-align: right;\">\n",
       "      <th></th>\n",
       "      <th>fiberID</th>\n",
       "      <th>ra</th>\n",
       "      <th>dec</th>\n",
       "      <th>z_noqso</th>\n",
       "      <th>z_noqso_err</th>\n",
       "      <th>passive_logmass</th>\n",
       "      <th>starforming_logmass</th>\n",
       "      <th>pca_logmass</th>\n",
       "    </tr>\n",
       "  </thead>\n",
       "  <tbody>\n",
       "    <tr>\n",
       "      <th>count</th>\n",
       "      <td>556.000000</td>\n",
       "      <td>556.000000</td>\n",
       "      <td>556.000000</td>\n",
       "      <td>556.000000</td>\n",
       "      <td>556.000000</td>\n",
       "      <td>556.000000</td>\n",
       "      <td>556.000000</td>\n",
       "      <td>556.000000</td>\n",
       "    </tr>\n",
       "    <tr>\n",
       "      <th>mean</th>\n",
       "      <td>473.708633</td>\n",
       "      <td>28.201466</td>\n",
       "      <td>-0.059819</td>\n",
       "      <td>0.479890</td>\n",
       "      <td>0.000310</td>\n",
       "      <td>11.145180</td>\n",
       "      <td>10.976295</td>\n",
       "      <td>11.307341</td>\n",
       "    </tr>\n",
       "    <tr>\n",
       "      <th>std</th>\n",
       "      <td>281.052208</td>\n",
       "      <td>0.679221</td>\n",
       "      <td>0.701225</td>\n",
       "      <td>0.146217</td>\n",
       "      <td>0.004418</td>\n",
       "      <td>0.420125</td>\n",
       "      <td>0.570480</td>\n",
       "      <td>0.510787</td>\n",
       "    </tr>\n",
       "    <tr>\n",
       "      <th>min</th>\n",
       "      <td>1.000000</td>\n",
       "      <td>26.522150</td>\n",
       "      <td>-1.248156</td>\n",
       "      <td>0.029998</td>\n",
       "      <td>0.000007</td>\n",
       "      <td>8.290000</td>\n",
       "      <td>7.450000</td>\n",
       "      <td>8.139327</td>\n",
       "    </tr>\n",
       "    <tr>\n",
       "      <th>25%</th>\n",
       "      <td>223.750000</td>\n",
       "      <td>27.618291</td>\n",
       "      <td>-0.659683</td>\n",
       "      <td>0.429754</td>\n",
       "      <td>0.000076</td>\n",
       "      <td>11.050000</td>\n",
       "      <td>10.840000</td>\n",
       "      <td>11.234329</td>\n",
       "    </tr>\n",
       "    <tr>\n",
       "      <th>50%</th>\n",
       "      <td>470.000000</td>\n",
       "      <td>28.278122</td>\n",
       "      <td>-0.111160</td>\n",
       "      <td>0.496848</td>\n",
       "      <td>0.000122</td>\n",
       "      <td>11.200000</td>\n",
       "      <td>11.080000</td>\n",
       "      <td>11.405090</td>\n",
       "    </tr>\n",
       "    <tr>\n",
       "      <th>75%</th>\n",
       "      <td>711.500000</td>\n",
       "      <td>28.773997</td>\n",
       "      <td>0.507400</td>\n",
       "      <td>0.566482</td>\n",
       "      <td>0.000160</td>\n",
       "      <td>11.350000</td>\n",
       "      <td>11.290000</td>\n",
       "      <td>11.551062</td>\n",
       "    </tr>\n",
       "    <tr>\n",
       "      <th>max</th>\n",
       "      <td>997.000000</td>\n",
       "      <td>29.473433</td>\n",
       "      <td>1.248110</td>\n",
       "      <td>0.799239</td>\n",
       "      <td>0.104294</td>\n",
       "      <td>11.920000</td>\n",
       "      <td>11.960000</td>\n",
       "      <td>12.861318</td>\n",
       "    </tr>\n",
       "  </tbody>\n",
       "</table>\n",
       "</div>"
      ],
      "text/plain": [
       "          fiberID          ra         dec     z_noqso  z_noqso_err  \\\n",
       "count  556.000000  556.000000  556.000000  556.000000   556.000000   \n",
       "mean   473.708633   28.201466   -0.059819    0.479890     0.000310   \n",
       "std    281.052208    0.679221    0.701225    0.146217     0.004418   \n",
       "min      1.000000   26.522150   -1.248156    0.029998     0.000007   \n",
       "25%    223.750000   27.618291   -0.659683    0.429754     0.000076   \n",
       "50%    470.000000   28.278122   -0.111160    0.496848     0.000122   \n",
       "75%    711.500000   28.773997    0.507400    0.566482     0.000160   \n",
       "max    997.000000   29.473433    1.248110    0.799239     0.104294   \n",
       "\n",
       "       passive_logmass  starforming_logmass  pca_logmass  \n",
       "count       556.000000           556.000000   556.000000  \n",
       "mean         11.145180            10.976295    11.307341  \n",
       "std           0.420125             0.570480     0.510787  \n",
       "min           8.290000             7.450000     8.139327  \n",
       "25%          11.050000            10.840000    11.234329  \n",
       "50%          11.200000            11.080000    11.405090  \n",
       "75%          11.350000            11.290000    11.551062  \n",
       "max          11.920000            11.960000    12.861318  "
      ]
     },
     "execution_count": 10,
     "metadata": {},
     "output_type": "execute_result"
    }
   ],
   "source": [
    "df = pd.read_csv(data_address + 'Using_Queries/BOSS_Stellar_Masses_M11_Skyserver_SQL5_10_2021 2_17_18 PM.csv', \n",
    "                 skiprows = 1)\n",
    "\n",
    "df.describe()"
   ]
  },
  {
   "cell_type": "code",
   "execution_count": 11,
   "id": "c8290c8b-9ae4-4750-9fbe-15b4211a3c7a",
   "metadata": {},
   "outputs": [
    {
     "ename": "FileNotFoundError",
     "evalue": "[Errno 2] No such file or directory: 'Data/Using_Queries/BOSS_Stellar _Masses_10000_Skyserver_SQL5_10_2021 4_48_11 PM.csv'",
     "output_type": "error",
     "traceback": [
      "\u001b[0;31m---------------------------------------------------------------------------\u001b[0m",
      "\u001b[0;31mFileNotFoundError\u001b[0m                         Traceback (most recent call last)",
      "\u001b[0;32m<ipython-input-11-1caf09e6fc69>\u001b[0m in \u001b[0;36m<module>\u001b[0;34m\u001b[0m\n\u001b[0;32m----> 1\u001b[0;31m df = pd.read_csv(data_address + 'Using_Queries/BOSS_Stellar _Masses_10000_Skyserver_SQL5_10_2021 4_48_11 PM.csv', \n\u001b[0m\u001b[1;32m      2\u001b[0m                  skiprows = 1)\n\u001b[1;32m      3\u001b[0m \u001b[0;34m\u001b[0m\u001b[0m\n\u001b[1;32m      4\u001b[0m \u001b[0mdf\u001b[0m\u001b[0;34m.\u001b[0m\u001b[0mdescribe\u001b[0m\u001b[0;34m(\u001b[0m\u001b[0;34m)\u001b[0m\u001b[0;34m\u001b[0m\u001b[0;34m\u001b[0m\u001b[0m\n",
      "\u001b[0;32m/mnt/d_drive/Installed_Softwares/Anaconda/lib/python3.8/site-packages/pandas/io/parsers.py\u001b[0m in \u001b[0;36mread_csv\u001b[0;34m(filepath_or_buffer, sep, delimiter, header, names, index_col, usecols, squeeze, prefix, mangle_dupe_cols, dtype, engine, converters, true_values, false_values, skipinitialspace, skiprows, skipfooter, nrows, na_values, keep_default_na, na_filter, verbose, skip_blank_lines, parse_dates, infer_datetime_format, keep_date_col, date_parser, dayfirst, cache_dates, iterator, chunksize, compression, thousands, decimal, lineterminator, quotechar, quoting, doublequote, escapechar, comment, encoding, dialect, error_bad_lines, warn_bad_lines, delim_whitespace, low_memory, memory_map, float_precision, storage_options)\u001b[0m\n\u001b[1;32m    608\u001b[0m     \u001b[0mkwds\u001b[0m\u001b[0;34m.\u001b[0m\u001b[0mupdate\u001b[0m\u001b[0;34m(\u001b[0m\u001b[0mkwds_defaults\u001b[0m\u001b[0;34m)\u001b[0m\u001b[0;34m\u001b[0m\u001b[0;34m\u001b[0m\u001b[0m\n\u001b[1;32m    609\u001b[0m \u001b[0;34m\u001b[0m\u001b[0m\n\u001b[0;32m--> 610\u001b[0;31m     \u001b[0;32mreturn\u001b[0m \u001b[0m_read\u001b[0m\u001b[0;34m(\u001b[0m\u001b[0mfilepath_or_buffer\u001b[0m\u001b[0;34m,\u001b[0m \u001b[0mkwds\u001b[0m\u001b[0;34m)\u001b[0m\u001b[0;34m\u001b[0m\u001b[0;34m\u001b[0m\u001b[0m\n\u001b[0m\u001b[1;32m    611\u001b[0m \u001b[0;34m\u001b[0m\u001b[0m\n\u001b[1;32m    612\u001b[0m \u001b[0;34m\u001b[0m\u001b[0m\n",
      "\u001b[0;32m/mnt/d_drive/Installed_Softwares/Anaconda/lib/python3.8/site-packages/pandas/io/parsers.py\u001b[0m in \u001b[0;36m_read\u001b[0;34m(filepath_or_buffer, kwds)\u001b[0m\n\u001b[1;32m    460\u001b[0m \u001b[0;34m\u001b[0m\u001b[0m\n\u001b[1;32m    461\u001b[0m     \u001b[0;31m# Create the parser.\u001b[0m\u001b[0;34m\u001b[0m\u001b[0;34m\u001b[0m\u001b[0;34m\u001b[0m\u001b[0m\n\u001b[0;32m--> 462\u001b[0;31m     \u001b[0mparser\u001b[0m \u001b[0;34m=\u001b[0m \u001b[0mTextFileReader\u001b[0m\u001b[0;34m(\u001b[0m\u001b[0mfilepath_or_buffer\u001b[0m\u001b[0;34m,\u001b[0m \u001b[0;34m**\u001b[0m\u001b[0mkwds\u001b[0m\u001b[0;34m)\u001b[0m\u001b[0;34m\u001b[0m\u001b[0;34m\u001b[0m\u001b[0m\n\u001b[0m\u001b[1;32m    463\u001b[0m \u001b[0;34m\u001b[0m\u001b[0m\n\u001b[1;32m    464\u001b[0m     \u001b[0;32mif\u001b[0m \u001b[0mchunksize\u001b[0m \u001b[0;32mor\u001b[0m \u001b[0miterator\u001b[0m\u001b[0;34m:\u001b[0m\u001b[0;34m\u001b[0m\u001b[0;34m\u001b[0m\u001b[0m\n",
      "\u001b[0;32m/mnt/d_drive/Installed_Softwares/Anaconda/lib/python3.8/site-packages/pandas/io/parsers.py\u001b[0m in \u001b[0;36m__init__\u001b[0;34m(self, f, engine, **kwds)\u001b[0m\n\u001b[1;32m    817\u001b[0m             \u001b[0mself\u001b[0m\u001b[0;34m.\u001b[0m\u001b[0moptions\u001b[0m\u001b[0;34m[\u001b[0m\u001b[0;34m\"has_index_names\"\u001b[0m\u001b[0;34m]\u001b[0m \u001b[0;34m=\u001b[0m \u001b[0mkwds\u001b[0m\u001b[0;34m[\u001b[0m\u001b[0;34m\"has_index_names\"\u001b[0m\u001b[0;34m]\u001b[0m\u001b[0;34m\u001b[0m\u001b[0;34m\u001b[0m\u001b[0m\n\u001b[1;32m    818\u001b[0m \u001b[0;34m\u001b[0m\u001b[0m\n\u001b[0;32m--> 819\u001b[0;31m         \u001b[0mself\u001b[0m\u001b[0;34m.\u001b[0m\u001b[0m_engine\u001b[0m \u001b[0;34m=\u001b[0m \u001b[0mself\u001b[0m\u001b[0;34m.\u001b[0m\u001b[0m_make_engine\u001b[0m\u001b[0;34m(\u001b[0m\u001b[0mself\u001b[0m\u001b[0;34m.\u001b[0m\u001b[0mengine\u001b[0m\u001b[0;34m)\u001b[0m\u001b[0;34m\u001b[0m\u001b[0;34m\u001b[0m\u001b[0m\n\u001b[0m\u001b[1;32m    820\u001b[0m \u001b[0;34m\u001b[0m\u001b[0m\n\u001b[1;32m    821\u001b[0m     \u001b[0;32mdef\u001b[0m \u001b[0mclose\u001b[0m\u001b[0;34m(\u001b[0m\u001b[0mself\u001b[0m\u001b[0;34m)\u001b[0m\u001b[0;34m:\u001b[0m\u001b[0;34m\u001b[0m\u001b[0;34m\u001b[0m\u001b[0m\n",
      "\u001b[0;32m/mnt/d_drive/Installed_Softwares/Anaconda/lib/python3.8/site-packages/pandas/io/parsers.py\u001b[0m in \u001b[0;36m_make_engine\u001b[0;34m(self, engine)\u001b[0m\n\u001b[1;32m   1048\u001b[0m             )\n\u001b[1;32m   1049\u001b[0m         \u001b[0;31m# error: Too many arguments for \"ParserBase\"\u001b[0m\u001b[0;34m\u001b[0m\u001b[0;34m\u001b[0m\u001b[0;34m\u001b[0m\u001b[0m\n\u001b[0;32m-> 1050\u001b[0;31m         \u001b[0;32mreturn\u001b[0m \u001b[0mmapping\u001b[0m\u001b[0;34m[\u001b[0m\u001b[0mengine\u001b[0m\u001b[0;34m]\u001b[0m\u001b[0;34m(\u001b[0m\u001b[0mself\u001b[0m\u001b[0;34m.\u001b[0m\u001b[0mf\u001b[0m\u001b[0;34m,\u001b[0m \u001b[0;34m**\u001b[0m\u001b[0mself\u001b[0m\u001b[0;34m.\u001b[0m\u001b[0moptions\u001b[0m\u001b[0;34m)\u001b[0m  \u001b[0;31m# type: ignore[call-arg]\u001b[0m\u001b[0;34m\u001b[0m\u001b[0;34m\u001b[0m\u001b[0m\n\u001b[0m\u001b[1;32m   1051\u001b[0m \u001b[0;34m\u001b[0m\u001b[0m\n\u001b[1;32m   1052\u001b[0m     \u001b[0;32mdef\u001b[0m \u001b[0m_failover_to_python\u001b[0m\u001b[0;34m(\u001b[0m\u001b[0mself\u001b[0m\u001b[0;34m)\u001b[0m\u001b[0;34m:\u001b[0m\u001b[0;34m\u001b[0m\u001b[0;34m\u001b[0m\u001b[0m\n",
      "\u001b[0;32m/mnt/d_drive/Installed_Softwares/Anaconda/lib/python3.8/site-packages/pandas/io/parsers.py\u001b[0m in \u001b[0;36m__init__\u001b[0;34m(self, src, **kwds)\u001b[0m\n\u001b[1;32m   1865\u001b[0m \u001b[0;34m\u001b[0m\u001b[0m\n\u001b[1;32m   1866\u001b[0m         \u001b[0;31m# open handles\u001b[0m\u001b[0;34m\u001b[0m\u001b[0;34m\u001b[0m\u001b[0;34m\u001b[0m\u001b[0m\n\u001b[0;32m-> 1867\u001b[0;31m         \u001b[0mself\u001b[0m\u001b[0;34m.\u001b[0m\u001b[0m_open_handles\u001b[0m\u001b[0;34m(\u001b[0m\u001b[0msrc\u001b[0m\u001b[0;34m,\u001b[0m \u001b[0mkwds\u001b[0m\u001b[0;34m)\u001b[0m\u001b[0;34m\u001b[0m\u001b[0;34m\u001b[0m\u001b[0m\n\u001b[0m\u001b[1;32m   1868\u001b[0m         \u001b[0;32massert\u001b[0m \u001b[0mself\u001b[0m\u001b[0;34m.\u001b[0m\u001b[0mhandles\u001b[0m \u001b[0;32mis\u001b[0m \u001b[0;32mnot\u001b[0m \u001b[0;32mNone\u001b[0m\u001b[0;34m\u001b[0m\u001b[0;34m\u001b[0m\u001b[0m\n\u001b[1;32m   1869\u001b[0m         \u001b[0;32mfor\u001b[0m \u001b[0mkey\u001b[0m \u001b[0;32min\u001b[0m \u001b[0;34m(\u001b[0m\u001b[0;34m\"storage_options\"\u001b[0m\u001b[0;34m,\u001b[0m \u001b[0;34m\"encoding\"\u001b[0m\u001b[0;34m,\u001b[0m \u001b[0;34m\"memory_map\"\u001b[0m\u001b[0;34m,\u001b[0m \u001b[0;34m\"compression\"\u001b[0m\u001b[0;34m)\u001b[0m\u001b[0;34m:\u001b[0m\u001b[0;34m\u001b[0m\u001b[0;34m\u001b[0m\u001b[0m\n",
      "\u001b[0;32m/mnt/d_drive/Installed_Softwares/Anaconda/lib/python3.8/site-packages/pandas/io/parsers.py\u001b[0m in \u001b[0;36m_open_handles\u001b[0;34m(self, src, kwds)\u001b[0m\n\u001b[1;32m   1360\u001b[0m         \u001b[0mLet\u001b[0m \u001b[0mthe\u001b[0m \u001b[0mreaders\u001b[0m \u001b[0mopen\u001b[0m \u001b[0mIOHanldes\u001b[0m \u001b[0mafter\u001b[0m \u001b[0mthey\u001b[0m \u001b[0mare\u001b[0m \u001b[0mdone\u001b[0m \u001b[0;32mwith\u001b[0m \u001b[0mtheir\u001b[0m \u001b[0mpotential\u001b[0m \u001b[0mraises\u001b[0m\u001b[0;34m.\u001b[0m\u001b[0;34m\u001b[0m\u001b[0;34m\u001b[0m\u001b[0m\n\u001b[1;32m   1361\u001b[0m         \"\"\"\n\u001b[0;32m-> 1362\u001b[0;31m         self.handles = get_handle(\n\u001b[0m\u001b[1;32m   1363\u001b[0m             \u001b[0msrc\u001b[0m\u001b[0;34m,\u001b[0m\u001b[0;34m\u001b[0m\u001b[0;34m\u001b[0m\u001b[0m\n\u001b[1;32m   1364\u001b[0m             \u001b[0;34m\"r\"\u001b[0m\u001b[0;34m,\u001b[0m\u001b[0;34m\u001b[0m\u001b[0;34m\u001b[0m\u001b[0m\n",
      "\u001b[0;32m/mnt/d_drive/Installed_Softwares/Anaconda/lib/python3.8/site-packages/pandas/io/common.py\u001b[0m in \u001b[0;36mget_handle\u001b[0;34m(path_or_buf, mode, encoding, compression, memory_map, is_text, errors, storage_options)\u001b[0m\n\u001b[1;32m    640\u001b[0m                 \u001b[0merrors\u001b[0m \u001b[0;34m=\u001b[0m \u001b[0;34m\"replace\"\u001b[0m\u001b[0;34m\u001b[0m\u001b[0;34m\u001b[0m\u001b[0m\n\u001b[1;32m    641\u001b[0m             \u001b[0;31m# Encoding\u001b[0m\u001b[0;34m\u001b[0m\u001b[0;34m\u001b[0m\u001b[0;34m\u001b[0m\u001b[0m\n\u001b[0;32m--> 642\u001b[0;31m             handle = open(\n\u001b[0m\u001b[1;32m    643\u001b[0m                 \u001b[0mhandle\u001b[0m\u001b[0;34m,\u001b[0m\u001b[0;34m\u001b[0m\u001b[0;34m\u001b[0m\u001b[0m\n\u001b[1;32m    644\u001b[0m                 \u001b[0mioargs\u001b[0m\u001b[0;34m.\u001b[0m\u001b[0mmode\u001b[0m\u001b[0;34m,\u001b[0m\u001b[0;34m\u001b[0m\u001b[0;34m\u001b[0m\u001b[0m\n",
      "\u001b[0;31mFileNotFoundError\u001b[0m: [Errno 2] No such file or directory: 'Data/Using_Queries/BOSS_Stellar _Masses_10000_Skyserver_SQL5_10_2021 4_48_11 PM.csv'"
     ]
    }
   ],
   "source": [
    "df = pd.read_csv(data_address + 'Using_Queries/BOSS_Stellar _Masses_10000_Skyserver_SQL5_10_2021 4_48_11 PM.csv', \n",
    "                 skiprows = 1)\n",
    "\n",
    "df.describe()"
   ]
  },
  {
   "cell_type": "code",
   "execution_count": 3,
   "id": "7f2a62e5-f045-45e6-9f35-abaa10f51d8e",
   "metadata": {},
   "outputs": [
    {
     "data": {
      "text/html": [
       "<div>\n",
       "<style scoped>\n",
       "    .dataframe tbody tr th:only-of-type {\n",
       "        vertical-align: middle;\n",
       "    }\n",
       "\n",
       "    .dataframe tbody tr th {\n",
       "        vertical-align: top;\n",
       "    }\n",
       "\n",
       "    .dataframe thead th {\n",
       "        text-align: right;\n",
       "    }\n",
       "</style>\n",
       "<table border=\"1\" class=\"dataframe\">\n",
       "  <thead>\n",
       "    <tr style=\"text-align: right;\">\n",
       "      <th></th>\n",
       "      <th>ra</th>\n",
       "      <th>dec</th>\n",
       "      <th>z</th>\n",
       "      <th>zerr</th>\n",
       "      <th>logmass</th>\n",
       "    </tr>\n",
       "  </thead>\n",
       "  <tbody>\n",
       "    <tr>\n",
       "      <th>count</th>\n",
       "      <td>2.432671e+06</td>\n",
       "      <td>2.432671e+06</td>\n",
       "      <td>2.432671e+06</td>\n",
       "      <td>2.432671e+06</td>\n",
       "      <td>2.432671e+06</td>\n",
       "    </tr>\n",
       "    <tr>\n",
       "      <th>mean</th>\n",
       "      <td>1.763453e+02</td>\n",
       "      <td>2.304631e+01</td>\n",
       "      <td>3.517255e-01</td>\n",
       "      <td>1.226747e-04</td>\n",
       "      <td>1.102975e+01</td>\n",
       "    </tr>\n",
       "    <tr>\n",
       "      <th>std</th>\n",
       "      <td>8.799669e+01</td>\n",
       "      <td>1.888588e+01</td>\n",
       "      <td>2.114294e-01</td>\n",
       "      <td>3.736183e-03</td>\n",
       "      <td>6.020443e-01</td>\n",
       "    </tr>\n",
       "    <tr>\n",
       "      <th>min</th>\n",
       "      <td>9.090791e-05</td>\n",
       "      <td>-1.675662e+01</td>\n",
       "      <td>7.629748e-06</td>\n",
       "      <td>1.071480e-08</td>\n",
       "      <td>-1.680000e+00</td>\n",
       "    </tr>\n",
       "    <tr>\n",
       "      <th>25%</th>\n",
       "      <td>1.336020e+02</td>\n",
       "      <td>6.666414e+00</td>\n",
       "      <td>1.349897e-01</td>\n",
       "      <td>2.501590e-05</td>\n",
       "      <td>1.085000e+01</td>\n",
       "    </tr>\n",
       "    <tr>\n",
       "      <th>50%</th>\n",
       "      <td>1.798373e+02</td>\n",
       "      <td>2.109045e+01</td>\n",
       "      <td>3.767147e-01</td>\n",
       "      <td>7.512666e-05</td>\n",
       "      <td>1.119000e+01</td>\n",
       "    </tr>\n",
       "    <tr>\n",
       "      <th>75%</th>\n",
       "      <td>2.250679e+02</td>\n",
       "      <td>3.727470e+01</td>\n",
       "      <td>5.307386e-01</td>\n",
       "      <td>1.415154e-04</td>\n",
       "      <td>1.138000e+01</td>\n",
       "    </tr>\n",
       "    <tr>\n",
       "      <th>max</th>\n",
       "      <td>3.599991e+02</td>\n",
       "      <td>8.427037e+01</td>\n",
       "      <td>1.985725e+00</td>\n",
       "      <td>1.243545e+00</td>\n",
       "      <td>1.525000e+01</td>\n",
       "    </tr>\n",
       "  </tbody>\n",
       "</table>\n",
       "</div>"
      ],
      "text/plain": [
       "                 ra           dec             z          zerr       logmass\n",
       "count  2.432671e+06  2.432671e+06  2.432671e+06  2.432671e+06  2.432671e+06\n",
       "mean   1.763453e+02  2.304631e+01  3.517255e-01  1.226747e-04  1.102975e+01\n",
       "std    8.799669e+01  1.888588e+01  2.114294e-01  3.736183e-03  6.020443e-01\n",
       "min    9.090791e-05 -1.675662e+01  7.629748e-06  1.071480e-08 -1.680000e+00\n",
       "25%    1.336020e+02  6.666414e+00  1.349897e-01  2.501590e-05  1.085000e+01\n",
       "50%    1.798373e+02  2.109045e+01  3.767147e-01  7.512666e-05  1.119000e+01\n",
       "75%    2.250679e+02  3.727470e+01  5.307386e-01  1.415154e-04  1.138000e+01\n",
       "max    3.599991e+02  8.427037e+01  1.985725e+00  1.243545e+00  1.525000e+01"
      ]
     },
     "execution_count": 3,
     "metadata": {},
     "output_type": "execute_result"
    }
   ],
   "source": [
    "df = pd.read_csv('BOSS_Stellar _Masses_2M_Skyserver_SQL5_10_2021 5_00_41 PM.csv'\n",
    "                 )\n",
    "\n",
    "df.describe()"
   ]
  },
  {
   "cell_type": "code",
   "execution_count": 18,
   "id": "c18dd411-9f81-4ed7-9165-814a9fde80c8",
   "metadata": {},
   "outputs": [
    {
     "data": {
      "image/png": "[encoded data removed]",
      "text/plain": [
       "<Figure size 432x288 with 1 Axes>"
      ]
     },
     "metadata": {
      "needs_background": "light"
     },
     "output_type": "display_data"
    }
   ],
   "source": [
    "import matplotlib.pyplot as plt\n",
    "plt.hist(df['z'], bins = 100);"
   ]
  },
  {
   "cell_type": "code",
   "execution_count": 20,
   "id": "57bd6779-1c1c-47c5-8ebf-7f9865789fe9",
   "metadata": {},
   "outputs": [
    {
     "data": {
      "text/plain": [
       "(7.5, 15.0)"
      ]
     },
     "execution_count": 20,
     "metadata": {},
     "output_type": "execute_result"
    },
    {
     "data": {
      "image/png": "[encoded data removed]",
      "text/plain": [
       "<Figure size 432x288 with 1 Axes>"
      ]
     },
     "metadata": {
      "needs_background": "light"
     },
     "output_type": "display_data"
    }
   ],
   "source": [
    "import matplotlib.pyplot as plt\n",
    "plt.hist(df['logmass'], bins = 100);\n",
    "plt.xlim(7.5,15)"
   ]
  },
  {
   "cell_type": "code",
   "execution_count": 14,
   "id": "4cf1f601-101d-4cfc-aca4-dde96b36a4a6",
   "metadata": {},
   "outputs": [
    {
     "data": {
      "image/png": "[encoded data removed]",
      "text/plain": [
       "<Figure size 432x288 with 1 Axes>"
      ]
     },
     "metadata": {
      "needs_background": "light"
     },
     "output_type": "display_data"
    }
   ],
   "source": [
    "import matplotlib.pyplot as plt\n",
    "plt.hist(df['logmass'], bins = 100);\n",
    "plt.xlim(-3,17)\n",
    "plt.yscale('log')"
   ]
  },
  {
   "cell_type": "code",
   "execution_count": null,
   "id": "73ae9089-4295-45b5-910c-48294527e55b",
   "metadata": {},
   "outputs": [],
   "source": []
  }
 ],
 "metadata": {
  "kernelspec": {
   "display_name": "Python 3",
   "language": "python",
   "name": "python3"
  },
  "language_info": {
   "codemirror_mode": {
    "name": "ipython",
    "version": 3
   },
   "file_extension": ".py",
   "mimetype": "text/x-python",
   "name": "python",
   "nbconvert_exporter": "python",
   "pygments_lexer": "ipython3",
   "version": "3.8.8"
  }
 },
 "nbformat": 4,
 "nbformat_minor": 5
}
