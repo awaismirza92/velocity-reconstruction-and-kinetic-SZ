{
 "cells": [
  {
   "cell_type": "markdown",
   "metadata": {},
   "source": [
    "**Importing libraries**"
   ]
  },
  {
   "cell_type": "code",
   "execution_count": 1,
   "metadata": {
    "_cell_guid": "b1076dfc-b9ad-4769-8c92-a6c4dae69d19",
    "_uuid": "8f2839f25d086af736a60e9eeb907d3b93b6e0e5"
   },
   "outputs": [],
   "source": [
    "# This Python 3 environment comes with many helpful analytics libraries installed\n",
    "# It is defined by the kaggle/python Docker image: https://github.com/kaggle/docker-python\n",
    "# For example, here's several helpful packages to load\n",
    "\n",
    "import numpy as np # linear algebra\n",
    "import pandas as pd # data processing, CSV file I/O (e.g. pd.read_csv)\n",
    "\n",
    "\n",
    "# Input data files are available in the read-only \"../input/\" directory\n",
    "# For example, running this (by clicking run or pressing Shift+Enter) will list all files under the input directory\n",
    "\n",
    "# import os\n",
    "# for dirname, _, filenames in os.walk('/kaggle/input'):\n",
    "#     for filename in filenames:\n",
    "#         print(os.path.join(dirname, filename))\n",
    "\n",
    "# You can write up to 20GB to the current directory (/kaggle/working/) that gets preserved as output when you create a version using \"Save & Run All\" \n",
    "# You can also write temporary files to /kaggle/temp/, but they won't be saved outside of the current session"
   ]
  },
  {
   "cell_type": "markdown",
   "metadata": {},
   "source": [
    "**Defining constants**"
   ]
  },
  {
   "cell_type": "code",
   "execution_count": 2,
   "metadata": {
    "_cell_guid": "79c7e3d0-c299-4dcb-8224-4455121ee9b0",
    "_uuid": "d629ff2d2480ee46fbb7e2d37f6b5fab8052498a"
   },
   "outputs": [],
   "source": [
    "omega_m = 0.272\n",
    "omega_l = 1 - omega_m\n",
    "H_o = 70.4                 #Hubble constant in km s^−1 Mpc^−1\n",
    "f = omega_m**0.545\n"
   ]
  },
  {
   "cell_type": "markdown",
   "metadata": {},
   "source": [
    "**Defining Functions**"
   ]
  },
  {
   "cell_type": "code",
   "execution_count": 3,
   "metadata": {},
   "outputs": [],
   "source": [
    "def H(z):                           #hubble parameter (in km s^-1 Mpc^-1) using Eq. 4.33 in Peter's book\n",
    "    return np.sqrt( H_o**2 * ( (1+z)**3 * omega_m + omega_l ) ) \n"
   ]
  },
  {
   "cell_type": "markdown",
   "metadata": {},
   "source": [
    "**Reading galaxies dataset**"
   ]
  },
  {
   "cell_type": "code",
   "execution_count": 4,
   "metadata": {},
   "outputs": [
    {
     "name": "stdout",
     "output_type": "stream",
     "text": [
      "    x[kpc/h]   y[kpc/h]   z[kpc/h]     m[Msol/h]\n",
      "0  416658.59  455771.69  72710.742  9.539830e+12\n",
      "1  416819.56  455645.44  72682.742  6.425460e+11\n",
      "2  416375.28  455986.09  72565.555  5.747420e+11\n",
      "3  417055.16  455752.81  72579.039  7.524050e+11\n",
      "4  416468.00  455417.97  73096.898  8.804670e+11\n",
      "CPU times: user 50.3 ms, sys: 12.6 ms, total: 62.9 ms\n",
      "Wall time: 63.8 ms\n"
     ]
    },
    {
     "data": {
      "text/plain": [
       "(93097, 4)"
      ]
     },
     "execution_count": 4,
     "metadata": {},
     "output_type": "execute_result"
    }
   ],
   "source": [
    "%%time\n",
    "z = 0.42\n",
    "# data_address = '../input/magneticumsnap027z042-massfiltered/'\n",
    "data_address = 'Data/'\n",
    "df_gal = pd.read_csv(data_address + 'massive_galaxies.csv')             #massive_galaxies.csv contains galaxies with mass greater than 1.8 ×10^{11} h^{−1} M_sun as done by Tanimura et al. (2020)\n",
    "print(df_gal.head())\n",
    "df_gal.shape"
   ]
  },
  {
   "cell_type": "markdown",
   "metadata": {},
   "source": [
    "**Reading clusters dataset**"
   ]
  },
  {
   "cell_type": "code",
   "execution_count": 5,
   "metadata": {},
   "outputs": [
    {
     "name": "stdout",
     "output_type": "stream",
     "text": [
      "   UID   x[kpc/h]   y[kpc/h]    z[kpc/h]  x_pix  y_pix  i_sector  \\\n",
      "0    0  416658.59  455771.69   72710.742  10666   4716        18   \n",
      "1    1  457001.00  220719.88  279137.470  11699  10733        32   \n",
      "2    2  546352.06  317522.00  322111.530  13986   8255        26   \n",
      "3    3  178209.08  431001.19  432031.660   4562   5350        15   \n",
      "4    4  232882.92  440987.19  452662.310   5961   5094        16   \n",
      "\n",
      "   m500c[Msol/h]  r500c[kpc/h]  gas_frac  star_frac   T[kev]  Lx[1e44erg/s]  \\\n",
      "0   7.438200e+14       1346.37  0.128781   0.026921  8.21176        25.9788   \n",
      "1   4.723990e+14       1157.33  0.125627   0.030589  6.49616        15.9667   \n",
      "2   5.932360e+14       1248.60  0.133647   0.029565  6.64855        32.3791   \n",
      "3   7.220310e+14       1333.15  0.126156   0.026663  8.29691        24.3332   \n",
      "4   6.558890e+14       1291.09  0.125098   0.027383  7.06222        24.6993   \n",
      "\n",
      "        Y500c  M_sat/M_cD  cshift[kpc]  vx[km/s]  vy[km/s]  vz[km/s]  \n",
      "0  125.124350    0.146322          0.0  -484.186  114.8290 -384.0200  \n",
      "1   82.994687    0.173823          0.0  -164.106  315.2340 -225.1460  \n",
      "2   97.495154    0.123564          0.0   146.947  317.5720 -158.6690  \n",
      "3  122.615600    0.372392          0.0  -112.361 -193.4300  220.0250  \n",
      "4  100.237730    0.251730          0.0   117.801   64.2292   92.0462  \n",
      "CPU times: user 29.8 ms, sys: 4.16 ms, total: 34 ms\n",
      "Wall time: 32.6 ms\n"
     ]
    },
    {
     "data": {
      "text/plain": [
       "(6080, 19)"
      ]
     },
     "execution_count": 5,
     "metadata": {},
     "output_type": "execute_result"
    }
   ],
   "source": [
    "%%time\n",
    "\n",
    "df_clusters = pd.read_csv(data_address + 'massive_clusters.csv')  #massive_clusters.csv contains clusters with M_500c greater than 10^13.5 h^{-1} M_sun as done by Tanimura et al. (2020)\n",
    "\n",
    "print(df_clusters.head())\n",
    "df_clusters.shape"
   ]
  },
  {
   "cell_type": "markdown",
   "metadata": {},
   "source": [
    "**Specifying prefactors for Eq. 1 of Tanimura et al. (2020)**"
   ]
  },
  {
   "cell_type": "code",
   "execution_count": 6,
   "metadata": {},
   "outputs": [
    {
     "name": "stdout",
     "output_type": "stream",
     "text": [
      "0.7042253521126761\n"
     ]
    }
   ],
   "source": [
    "# %%time\n",
    "a = 1/(1+z)\n",
    "H(z)\n",
    "print(a)"
   ]
  },
  {
   "cell_type": "markdown",
   "metadata": {},
   "source": [
    "**Computing density contrast for the Eq. 1**"
   ]
  },
  {
   "cell_type": "code",
   "execution_count": 7,
   "metadata": {},
   "outputs": [
    {
     "name": "stdout",
     "output_type": "stream",
     "text": [
      "CPU times: user 3min 10s, sys: 649 ms, total: 3min 11s\n",
      "Wall time: 3min 12s\n"
     ]
    },
    {
     "data": {
      "text/html": [
       "<div>\n",
       "<style scoped>\n",
       "    .dataframe tbody tr th:only-of-type {\n",
       "        vertical-align: middle;\n",
       "    }\n",
       "\n",
       "    .dataframe tbody tr th {\n",
       "        vertical-align: top;\n",
       "    }\n",
       "\n",
       "    .dataframe thead th {\n",
       "        text-align: right;\n",
       "    }\n",
       "</style>\n",
       "<table border=\"1\" class=\"dataframe\">\n",
       "  <thead>\n",
       "    <tr style=\"text-align: right;\">\n",
       "      <th></th>\n",
       "      <th>x[kpc/h]</th>\n",
       "      <th>y[kpc/h]</th>\n",
       "      <th>z[kpc/h]</th>\n",
       "      <th>m[Msol/h]</th>\n",
       "    </tr>\n",
       "  </thead>\n",
       "  <tbody>\n",
       "    <tr>\n",
       "      <th>0</th>\n",
       "      <td>416658.59</td>\n",
       "      <td>455771.69</td>\n",
       "      <td>72710.742</td>\n",
       "      <td>9.539830e+12</td>\n",
       "    </tr>\n",
       "    <tr>\n",
       "      <th>1</th>\n",
       "      <td>416819.56</td>\n",
       "      <td>455645.44</td>\n",
       "      <td>72682.742</td>\n",
       "      <td>6.425460e+11</td>\n",
       "    </tr>\n",
       "    <tr>\n",
       "      <th>2</th>\n",
       "      <td>416375.28</td>\n",
       "      <td>455986.09</td>\n",
       "      <td>72565.555</td>\n",
       "      <td>5.747420e+11</td>\n",
       "    </tr>\n",
       "    <tr>\n",
       "      <th>3</th>\n",
       "      <td>417055.16</td>\n",
       "      <td>455752.81</td>\n",
       "      <td>72579.039</td>\n",
       "      <td>7.524050e+11</td>\n",
       "    </tr>\n",
       "    <tr>\n",
       "      <th>4</th>\n",
       "      <td>416468.00</td>\n",
       "      <td>455417.97</td>\n",
       "      <td>73096.898</td>\n",
       "      <td>8.804670e+11</td>\n",
       "    </tr>\n",
       "    <tr>\n",
       "      <th>...</th>\n",
       "      <td>...</td>\n",
       "      <td>...</td>\n",
       "      <td>...</td>\n",
       "      <td>...</td>\n",
       "    </tr>\n",
       "    <tr>\n",
       "      <th>93002</th>\n",
       "      <td>472120.56</td>\n",
       "      <td>353170.09</td>\n",
       "      <td>140795.610</td>\n",
       "      <td>1.805510e+11</td>\n",
       "    </tr>\n",
       "    <tr>\n",
       "      <th>93009</th>\n",
       "      <td>509923.62</td>\n",
       "      <td>400768.66</td>\n",
       "      <td>15343.682</td>\n",
       "      <td>1.838470e+11</td>\n",
       "    </tr>\n",
       "    <tr>\n",
       "      <th>93032</th>\n",
       "      <td>493037.16</td>\n",
       "      <td>569709.44</td>\n",
       "      <td>174671.220</td>\n",
       "      <td>1.867950e+11</td>\n",
       "    </tr>\n",
       "    <tr>\n",
       "      <th>93037</th>\n",
       "      <td>476074.31</td>\n",
       "      <td>346173.25</td>\n",
       "      <td>68664.602</td>\n",
       "      <td>1.810640e+11</td>\n",
       "    </tr>\n",
       "    <tr>\n",
       "      <th>93067</th>\n",
       "      <td>355990.38</td>\n",
       "      <td>336145.28</td>\n",
       "      <td>42697.438</td>\n",
       "      <td>1.906710e+11</td>\n",
       "    </tr>\n",
       "  </tbody>\n",
       "</table>\n",
       "<p>4401 rows × 4 columns</p>\n",
       "</div>"
      ],
      "text/plain": [
       "        x[kpc/h]   y[kpc/h]    z[kpc/h]     m[Msol/h]\n",
       "0      416658.59  455771.69   72710.742  9.539830e+12\n",
       "1      416819.56  455645.44   72682.742  6.425460e+11\n",
       "2      416375.28  455986.09   72565.555  5.747420e+11\n",
       "3      417055.16  455752.81   72579.039  7.524050e+11\n",
       "4      416468.00  455417.97   73096.898  8.804670e+11\n",
       "...          ...        ...         ...           ...\n",
       "93002  472120.56  353170.09  140795.610  1.805510e+11\n",
       "93009  509923.62  400768.66   15343.682  1.838470e+11\n",
       "93032  493037.16  569709.44  174671.220  1.867950e+11\n",
       "93037  476074.31  346173.25   68664.602  1.810640e+11\n",
       "93067  355990.38  336145.28   42697.438  1.906710e+11\n",
       "\n",
       "[4401 rows x 4 columns]"
      ]
     },
     "execution_count": 7,
     "metadata": {},
     "output_type": "execute_result"
    }
   ],
   "source": [
    "%%time\n",
    "for clus_x, clus_y, clus_z in zip(df_clusters['x[kpc/h]'], df_clusters['y[kpc/h]'], df_clusters['z[kpc/h]']):\n",
    "    df_gal_selected = df_gal[(df_gal['x[kpc/h]'] >= (clus_x - 120000)) & (df_gal['x[kpc/h]'] <= (clus_x + 120000))\n",
    "                            & (df_gal['y[kpc/h]'] >= (clus_y - 120000)) & (df_gal['y[kpc/h]'] <= (clus_y + 120000)) \n",
    "                             & (df_gal['z[kpc/h]'] >= (clus_z - 120000)) & (df_gal['z[kpc/h]'] <= (clus_z + 120000))]\n",
    "        \n",
    "    gals_in_cell = np.empty((48, 48, 48))\n",
    "    gals_in_cell[:] = np.NaN\n",
    "    \n",
    "    for i, cell_x_low in enumerate(np.arange(clus_x - 120000, clus_x + 115001, 5000)):\n",
    "        for j, cell_y_low in enumerate(np.arange(clus_y - 120000, clus_y + 115001, 5000)):\n",
    "            for k, cell_z_low in enumerate(np.arange(clus_z - 120000, clus_z + 115001, 5000)):\n",
    "\n",
    "                x_condition = (df_gal_selected['x[kpc/h]'] >= (cell_x_low)) & (df_gal_selected['x[kpc/h]'] < (cell_x_low + 5000))\n",
    "                y_condition = (df_gal_selected['y[kpc/h]'] >= (cell_y_low)) & (df_gal_selected['y[kpc/h]'] < (cell_y_low + 5000)) \n",
    "                z_condition = (df_gal_selected['z[kpc/h]'] >= (cell_z_low)) & (df_gal_selected['z[kpc/h]'] < (cell_z_low + 5000))\n",
    "    \n",
    "                count = len(df_gal_selected[ x_condition & y_condition & z_condition ])\n",
    "                gals_in_cell[i][j][k] = count\n",
    "                \n",
    "#         print(i)\n",
    "        \n",
    "    break\n",
    "    \n",
    "import os\n",
    "duration = 1  # seconds\n",
    "freq = 440  # Hz\n",
    "os.system('play -nq -t alsa synth {} sine {}'.format(duration, freq)) \n",
    "\n",
    "df_gal_selected"
   ]
  },
  {
   "cell_type": "markdown",
   "metadata": {},
   "source": [
    "**Checking if galaxies in cells match galaxies in the first cluster box**"
   ]
  },
  {
   "cell_type": "code",
   "execution_count": 8,
   "metadata": {},
   "outputs": [
    {
     "name": "stdout",
     "output_type": "stream",
     "text": [
      "4401.0\n",
      "8.0\n"
     ]
    }
   ],
   "source": [
    "print(np.nansum(gals_in_cell))\n",
    "print(np.nanmax(gals_in_cell))"
   ]
  },
  {
   "cell_type": "markdown",
   "metadata": {},
   "source": [
    "**First cluster box containing 48 x 48 x 48 cells**"
   ]
  },
  {
   "cell_type": "code",
   "execution_count": 9,
   "metadata": {},
   "outputs": [
    {
     "data": {
      "text/plain": [
       "array([[[0., 0., 0., ..., 0., 0., 0.],\n",
       "        [0., 0., 0., ..., 0., 0., 0.],\n",
       "        [0., 0., 0., ..., 0., 0., 0.],\n",
       "        ...,\n",
       "        [0., 0., 0., ..., 0., 0., 0.],\n",
       "        [0., 0., 0., ..., 1., 0., 0.],\n",
       "        [0., 0., 0., ..., 0., 0., 0.]],\n",
       "\n",
       "       [[0., 0., 0., ..., 0., 0., 0.],\n",
       "        [0., 0., 0., ..., 0., 0., 0.],\n",
       "        [0., 0., 0., ..., 0., 0., 0.],\n",
       "        ...,\n",
       "        [0., 0., 0., ..., 0., 0., 0.],\n",
       "        [0., 0., 0., ..., 0., 0., 1.],\n",
       "        [0., 0., 0., ..., 0., 0., 0.]],\n",
       "\n",
       "       [[0., 0., 0., ..., 0., 0., 1.],\n",
       "        [0., 0., 0., ..., 0., 0., 0.],\n",
       "        [0., 0., 0., ..., 0., 0., 0.],\n",
       "        ...,\n",
       "        [0., 0., 0., ..., 0., 0., 0.],\n",
       "        [0., 0., 0., ..., 0., 0., 0.],\n",
       "        [0., 0., 0., ..., 0., 0., 0.]],\n",
       "\n",
       "       ...,\n",
       "\n",
       "       [[0., 0., 0., ..., 0., 0., 1.],\n",
       "        [0., 0., 0., ..., 0., 0., 0.],\n",
       "        [0., 0., 0., ..., 0., 0., 0.],\n",
       "        ...,\n",
       "        [0., 0., 0., ..., 0., 0., 0.],\n",
       "        [0., 0., 0., ..., 0., 0., 0.],\n",
       "        [0., 0., 0., ..., 0., 0., 0.]],\n",
       "\n",
       "       [[0., 0., 0., ..., 0., 0., 0.],\n",
       "        [0., 0., 0., ..., 0., 0., 0.],\n",
       "        [0., 0., 0., ..., 0., 0., 0.],\n",
       "        ...,\n",
       "        [0., 0., 0., ..., 0., 0., 0.],\n",
       "        [0., 0., 0., ..., 1., 0., 0.],\n",
       "        [0., 0., 0., ..., 0., 0., 0.]],\n",
       "\n",
       "       [[0., 0., 0., ..., 0., 0., 0.],\n",
       "        [0., 0., 0., ..., 0., 0., 0.],\n",
       "        [0., 0., 0., ..., 0., 0., 0.],\n",
       "        ...,\n",
       "        [0., 0., 0., ..., 0., 0., 0.],\n",
       "        [0., 0., 0., ..., 0., 0., 0.],\n",
       "        [0., 0., 0., ..., 0., 0., 0.]]])"
      ]
     },
     "execution_count": 9,
     "metadata": {},
     "output_type": "execute_result"
    }
   ],
   "source": [
    "gals_in_cell"
   ]
  },
  {
   "cell_type": "markdown",
   "metadata": {},
   "source": [
    "**Estimating time for four nested loops**"
   ]
  },
  {
   "cell_type": "code",
   "execution_count": 10,
   "metadata": {},
   "outputs": [
    {
     "ename": "KeyboardInterrupt",
     "evalue": "",
     "output_type": "error",
     "traceback": [
      "\u001b[0;31m---------------------------------------------------------------------------\u001b[0m",
      "\u001b[0;31mKeyboardInterrupt\u001b[0m                         Traceback (most recent call last)",
      "\u001b[0;32m<ipython-input-10-b3ba1c8b31ec>\u001b[0m in \u001b[0;36m<module>\u001b[0;34m\u001b[0m\n\u001b[1;32m     11\u001b[0m         \u001b[0;32mfor\u001b[0m \u001b[0m_\u001b[0m \u001b[0;32min\u001b[0m \u001b[0mc\u001b[0m\u001b[0;34m:\u001b[0m\u001b[0;34m\u001b[0m\u001b[0;34m\u001b[0m\u001b[0m\n\u001b[1;32m     12\u001b[0m             \u001b[0;32mfor\u001b[0m \u001b[0m_\u001b[0m \u001b[0;32min\u001b[0m \u001b[0md\u001b[0m\u001b[0;34m:\u001b[0m\u001b[0;34m\u001b[0m\u001b[0;34m\u001b[0m\u001b[0m\n\u001b[0;32m---> 13\u001b[0;31m                 \u001b[0mend\u001b[0m \u001b[0;34m=\u001b[0m \u001b[0mtime\u001b[0m\u001b[0;34m.\u001b[0m\u001b[0mtime\u001b[0m\u001b[0;34m(\u001b[0m\u001b[0;34m)\u001b[0m \u001b[0;34m-\u001b[0m \u001b[0mt\u001b[0m\u001b[0;34m\u001b[0m\u001b[0;34m\u001b[0m\u001b[0m\n\u001b[0m\u001b[1;32m     14\u001b[0m \u001b[0mprint\u001b[0m\u001b[0;34m(\u001b[0m\u001b[0mend\u001b[0m\u001b[0;34m)\u001b[0m\u001b[0;34m\u001b[0m\u001b[0;34m\u001b[0m\u001b[0m\n",
      "\u001b[0;31mKeyboardInterrupt\u001b[0m: "
     ]
    }
   ],
   "source": [
    "import  numpy as np\n",
    "import time\n",
    "a = np.arange(6000)\n",
    "b = np.arange(48)\n",
    "c = np.arange(48)\n",
    "d = np.arange(48)\n",
    "\n",
    "t = time.time()\n",
    "for _ in a:\n",
    "    for _ in b:\n",
    "        for _ in c:\n",
    "            for _ in d:\n",
    "                end = time.time() - t\n",
    "print(end)"
   ]
  },
  {
   "cell_type": "markdown",
   "metadata": {},
   "source": [
    "**Trying while loop for computing density contrast**"
   ]
  },
  {
   "cell_type": "code",
   "execution_count": 11,
   "metadata": {},
   "outputs": [
    {
     "name": "stdout",
     "output_type": "stream",
     "text": [
      "CPU times: user 3min 2s, sys: 880 ms, total: 3min 3s\n",
      "Wall time: 3min 3s\n"
     ]
    },
    {
     "data": {
      "text/html": [
       "<div>\n",
       "<style scoped>\n",
       "    .dataframe tbody tr th:only-of-type {\n",
       "        vertical-align: middle;\n",
       "    }\n",
       "\n",
       "    .dataframe tbody tr th {\n",
       "        vertical-align: top;\n",
       "    }\n",
       "\n",
       "    .dataframe thead th {\n",
       "        text-align: right;\n",
       "    }\n",
       "</style>\n",
       "<table border=\"1\" class=\"dataframe\">\n",
       "  <thead>\n",
       "    <tr style=\"text-align: right;\">\n",
       "      <th></th>\n",
       "      <th>x[kpc/h]</th>\n",
       "      <th>y[kpc/h]</th>\n",
       "      <th>z[kpc/h]</th>\n",
       "      <th>m[Msol/h]</th>\n",
       "    </tr>\n",
       "  </thead>\n",
       "  <tbody>\n",
       "    <tr>\n",
       "      <th>0</th>\n",
       "      <td>416658.59</td>\n",
       "      <td>455771.69</td>\n",
       "      <td>72710.742</td>\n",
       "      <td>9.539830e+12</td>\n",
       "    </tr>\n",
       "    <tr>\n",
       "      <th>1</th>\n",
       "      <td>416819.56</td>\n",
       "      <td>455645.44</td>\n",
       "      <td>72682.742</td>\n",
       "      <td>6.425460e+11</td>\n",
       "    </tr>\n",
       "    <tr>\n",
       "      <th>2</th>\n",
       "      <td>416375.28</td>\n",
       "      <td>455986.09</td>\n",
       "      <td>72565.555</td>\n",
       "      <td>5.747420e+11</td>\n",
       "    </tr>\n",
       "    <tr>\n",
       "      <th>3</th>\n",
       "      <td>417055.16</td>\n",
       "      <td>455752.81</td>\n",
       "      <td>72579.039</td>\n",
       "      <td>7.524050e+11</td>\n",
       "    </tr>\n",
       "    <tr>\n",
       "      <th>4</th>\n",
       "      <td>416468.00</td>\n",
       "      <td>455417.97</td>\n",
       "      <td>73096.898</td>\n",
       "      <td>8.804670e+11</td>\n",
       "    </tr>\n",
       "    <tr>\n",
       "      <th>...</th>\n",
       "      <td>...</td>\n",
       "      <td>...</td>\n",
       "      <td>...</td>\n",
       "      <td>...</td>\n",
       "    </tr>\n",
       "    <tr>\n",
       "      <th>93002</th>\n",
       "      <td>472120.56</td>\n",
       "      <td>353170.09</td>\n",
       "      <td>140795.610</td>\n",
       "      <td>1.805510e+11</td>\n",
       "    </tr>\n",
       "    <tr>\n",
       "      <th>93009</th>\n",
       "      <td>509923.62</td>\n",
       "      <td>400768.66</td>\n",
       "      <td>15343.682</td>\n",
       "      <td>1.838470e+11</td>\n",
       "    </tr>\n",
       "    <tr>\n",
       "      <th>93032</th>\n",
       "      <td>493037.16</td>\n",
       "      <td>569709.44</td>\n",
       "      <td>174671.220</td>\n",
       "      <td>1.867950e+11</td>\n",
       "    </tr>\n",
       "    <tr>\n",
       "      <th>93037</th>\n",
       "      <td>476074.31</td>\n",
       "      <td>346173.25</td>\n",
       "      <td>68664.602</td>\n",
       "      <td>1.810640e+11</td>\n",
       "    </tr>\n",
       "    <tr>\n",
       "      <th>93067</th>\n",
       "      <td>355990.38</td>\n",
       "      <td>336145.28</td>\n",
       "      <td>42697.438</td>\n",
       "      <td>1.906710e+11</td>\n",
       "    </tr>\n",
       "  </tbody>\n",
       "</table>\n",
       "<p>4401 rows × 4 columns</p>\n",
       "</div>"
      ],
      "text/plain": [
       "        x[kpc/h]   y[kpc/h]    z[kpc/h]     m[Msol/h]\n",
       "0      416658.59  455771.69   72710.742  9.539830e+12\n",
       "1      416819.56  455645.44   72682.742  6.425460e+11\n",
       "2      416375.28  455986.09   72565.555  5.747420e+11\n",
       "3      417055.16  455752.81   72579.039  7.524050e+11\n",
       "4      416468.00  455417.97   73096.898  8.804670e+11\n",
       "...          ...        ...         ...           ...\n",
       "93002  472120.56  353170.09  140795.610  1.805510e+11\n",
       "93009  509923.62  400768.66   15343.682  1.838470e+11\n",
       "93032  493037.16  569709.44  174671.220  1.867950e+11\n",
       "93037  476074.31  346173.25   68664.602  1.810640e+11\n",
       "93067  355990.38  336145.28   42697.438  1.906710e+11\n",
       "\n",
       "[4401 rows x 4 columns]"
      ]
     },
     "execution_count": 11,
     "metadata": {},
     "output_type": "execute_result"
    }
   ],
   "source": [
    "%%time\n",
    "for clus_x, clus_y, clus_z in zip(df_clusters['x[kpc/h]'], df_clusters['y[kpc/h]'], df_clusters['z[kpc/h]']):\n",
    "    df_gal_selected = df_gal[(df_gal['x[kpc/h]'] >= (clus_x - 120000)) & (df_gal['x[kpc/h]'] <= (clus_x + 120000))\n",
    "                            & (df_gal['y[kpc/h]'] >= (clus_y - 120000)) & (df_gal['y[kpc/h]'] <= (clus_y + 120000)) \n",
    "                             & (df_gal['z[kpc/h]'] >= (clus_z - 120000)) & (df_gal['z[kpc/h]'] <= (clus_z + 120000))]\n",
    "    \n",
    "   \n",
    "    gals_in_cell = np.empty((48, 48, 48))\n",
    "    gals_in_cell[:] = np.NaN\n",
    "    \n",
    "\n",
    "    cell_x_low = np.arange(clus_x - 120000, clus_x + 115001, 5000)\n",
    "    cell_y_low = np.arange(clus_y - 120000, clus_y + 115001, 5000)\n",
    "    cell_z_low = np.arange(clus_z - 120000, clus_z + 115001, 5000)\n",
    "    k = 0\n",
    "    i = 0\n",
    "    j = 0\n",
    "    while(k<=47):\n",
    "        if (i == 47):\n",
    "            i = 0\n",
    "            j = j + 1\n",
    "            if (j == 47):\n",
    "                j = 0\n",
    "                k = k + 1\n",
    "                \n",
    "        else:\n",
    "            x_condition = (df_gal_selected['x[kpc/h]'] >= (cell_x_low[i])) & (df_gal_selected['x[kpc/h]'] < (cell_x_low[i] + 5000))\n",
    "            y_condition = (df_gal_selected['y[kpc/h]'] >= (cell_y_low[j])) & (df_gal_selected['y[kpc/h]'] < (cell_y_low[j] + 5000)) \n",
    "            z_condition = (df_gal_selected['z[kpc/h]'] >= (cell_z_low[k])) & (df_gal_selected['z[kpc/h]'] < (cell_z_low[k] + 5000))\n",
    "\n",
    "            count = len(df_gal_selected[ x_condition & y_condition & z_condition ])\n",
    "            gals_in_cell[i][j][k] = count\n",
    "        i = i + 1\n",
    "    break\n",
    "        \n",
    "\n",
    "        \n",
    "    break\n",
    "    \n",
    "import os\n",
    "duration = 1  # seconds\n",
    "freq = 440  # Hz\n",
    "os.system('play -nq -t alsa synth {} sine {}'.format(duration, freq)) \n",
    "\n",
    "df_gal_selected"
   ]
  },
  {
   "cell_type": "markdown",
   "metadata": {},
   "source": [
    "**Implementing another strategy to reduced comutation time for density contrast**"
   ]
  },
  {
   "cell_type": "code",
   "execution_count": 12,
   "metadata": {},
   "outputs": [
    {
     "ename": "ValueError",
     "evalue": "Lengths must match to compare",
     "output_type": "error",
     "traceback": [
      "\u001b[0;31m---------------------------------------------------------------------------\u001b[0m",
      "\u001b[0;31mValueError\u001b[0m                                Traceback (most recent call last)",
      "\u001b[0;32m<timed exec>\u001b[0m in \u001b[0;36m<module>\u001b[0;34m\u001b[0m\n",
      "\u001b[0;32m/mnt/d_drive/Installed_Softwares/anaconda/lib/python3.8/site-packages/pandas/core/ops/common.py\u001b[0m in \u001b[0;36mnew_method\u001b[0;34m(self, other)\u001b[0m\n\u001b[1;32m     62\u001b[0m         \u001b[0mother\u001b[0m \u001b[0;34m=\u001b[0m \u001b[0mitem_from_zerodim\u001b[0m\u001b[0;34m(\u001b[0m\u001b[0mother\u001b[0m\u001b[0;34m)\u001b[0m\u001b[0;34m\u001b[0m\u001b[0;34m\u001b[0m\u001b[0m\n\u001b[1;32m     63\u001b[0m \u001b[0;34m\u001b[0m\u001b[0m\n\u001b[0;32m---> 64\u001b[0;31m         \u001b[0;32mreturn\u001b[0m \u001b[0mmethod\u001b[0m\u001b[0;34m(\u001b[0m\u001b[0mself\u001b[0m\u001b[0;34m,\u001b[0m \u001b[0mother\u001b[0m\u001b[0;34m)\u001b[0m\u001b[0;34m\u001b[0m\u001b[0;34m\u001b[0m\u001b[0m\n\u001b[0m\u001b[1;32m     65\u001b[0m \u001b[0;34m\u001b[0m\u001b[0m\n\u001b[1;32m     66\u001b[0m     \u001b[0;32mreturn\u001b[0m \u001b[0mnew_method\u001b[0m\u001b[0;34m\u001b[0m\u001b[0;34m\u001b[0m\u001b[0m\n",
      "\u001b[0;32m/mnt/d_drive/Installed_Softwares/anaconda/lib/python3.8/site-packages/pandas/core/ops/__init__.py\u001b[0m in \u001b[0;36mwrapper\u001b[0;34m(self, other)\u001b[0m\n\u001b[1;32m    527\u001b[0m         \u001b[0mrvalues\u001b[0m \u001b[0;34m=\u001b[0m \u001b[0mextract_array\u001b[0m\u001b[0;34m(\u001b[0m\u001b[0mother\u001b[0m\u001b[0;34m,\u001b[0m \u001b[0mextract_numpy\u001b[0m\u001b[0;34m=\u001b[0m\u001b[0;32mTrue\u001b[0m\u001b[0;34m)\u001b[0m\u001b[0;34m\u001b[0m\u001b[0;34m\u001b[0m\u001b[0m\n\u001b[1;32m    528\u001b[0m \u001b[0;34m\u001b[0m\u001b[0m\n\u001b[0;32m--> 529\u001b[0;31m         \u001b[0mres_values\u001b[0m \u001b[0;34m=\u001b[0m \u001b[0mcomparison_op\u001b[0m\u001b[0;34m(\u001b[0m\u001b[0mlvalues\u001b[0m\u001b[0;34m,\u001b[0m \u001b[0mrvalues\u001b[0m\u001b[0;34m,\u001b[0m \u001b[0mop\u001b[0m\u001b[0;34m)\u001b[0m\u001b[0;34m\u001b[0m\u001b[0;34m\u001b[0m\u001b[0m\n\u001b[0m\u001b[1;32m    530\u001b[0m \u001b[0;34m\u001b[0m\u001b[0m\n\u001b[1;32m    531\u001b[0m         \u001b[0;32mreturn\u001b[0m \u001b[0m_construct_result\u001b[0m\u001b[0;34m(\u001b[0m\u001b[0mself\u001b[0m\u001b[0;34m,\u001b[0m \u001b[0mres_values\u001b[0m\u001b[0;34m,\u001b[0m \u001b[0mindex\u001b[0m\u001b[0;34m=\u001b[0m\u001b[0mself\u001b[0m\u001b[0;34m.\u001b[0m\u001b[0mindex\u001b[0m\u001b[0;34m,\u001b[0m \u001b[0mname\u001b[0m\u001b[0;34m=\u001b[0m\u001b[0mres_name\u001b[0m\u001b[0;34m)\u001b[0m\u001b[0;34m\u001b[0m\u001b[0;34m\u001b[0m\u001b[0m\n",
      "\u001b[0;32m/mnt/d_drive/Installed_Softwares/anaconda/lib/python3.8/site-packages/pandas/core/ops/array_ops.py\u001b[0m in \u001b[0;36mcomparison_op\u001b[0;34m(left, right, op)\u001b[0m\n\u001b[1;32m    232\u001b[0m         \u001b[0;31m#  The ambiguous case is object-dtype.  See GH#27803\u001b[0m\u001b[0;34m\u001b[0m\u001b[0;34m\u001b[0m\u001b[0;34m\u001b[0m\u001b[0m\n\u001b[1;32m    233\u001b[0m         \u001b[0;32mif\u001b[0m \u001b[0mlen\u001b[0m\u001b[0;34m(\u001b[0m\u001b[0mlvalues\u001b[0m\u001b[0;34m)\u001b[0m \u001b[0;34m!=\u001b[0m \u001b[0mlen\u001b[0m\u001b[0;34m(\u001b[0m\u001b[0mrvalues\u001b[0m\u001b[0;34m)\u001b[0m\u001b[0;34m:\u001b[0m\u001b[0;34m\u001b[0m\u001b[0;34m\u001b[0m\u001b[0m\n\u001b[0;32m--> 234\u001b[0;31m             \u001b[0;32mraise\u001b[0m \u001b[0mValueError\u001b[0m\u001b[0;34m(\u001b[0m\u001b[0;34m\"Lengths must match to compare\"\u001b[0m\u001b[0;34m)\u001b[0m\u001b[0;34m\u001b[0m\u001b[0;34m\u001b[0m\u001b[0m\n\u001b[0m\u001b[1;32m    235\u001b[0m \u001b[0;34m\u001b[0m\u001b[0m\n\u001b[1;32m    236\u001b[0m     \u001b[0;32mif\u001b[0m \u001b[0mshould_extension_dispatch\u001b[0m\u001b[0;34m(\u001b[0m\u001b[0mlvalues\u001b[0m\u001b[0;34m,\u001b[0m \u001b[0mrvalues\u001b[0m\u001b[0;34m)\u001b[0m\u001b[0;34m:\u001b[0m\u001b[0;34m\u001b[0m\u001b[0;34m\u001b[0m\u001b[0m\n",
      "\u001b[0;31mValueError\u001b[0m: Lengths must match to compare"
     ]
    }
   ],
   "source": [
    "%%time\n",
    "for clus_x, clus_y, clus_z in zip(df_clusters['x[kpc/h]'], df_clusters['y[kpc/h]'], df_clusters['z[kpc/h]']):\n",
    "    \n",
    "    df_gal_selected = df_gal[(df_gal['x[kpc/h]'] >= (clus_x - 120000)) & (df_gal['x[kpc/h]'] <= (clus_x + 120000))\n",
    "                            & (df_gal['y[kpc/h]'] >= (clus_y - 120000)) & (df_gal['y[kpc/h]'] <= (clus_y + 120000)) \n",
    "                             & (df_gal['z[kpc/h]'] >= (clus_z - 120000)) & (df_gal['z[kpc/h]'] <= (clus_z + 120000))]\n",
    "    \n",
    "   \n",
    "    gals_in_cell = np.empty((48, 48, 48))\n",
    "    gals_in_cell[:] = np.NaN\n",
    "    \n",
    "\n",
    "    cell_x_low = np.arange(clus_x - 120000, clus_x + 115001, 5000)\n",
    "    cell_y_low = np.arange(clus_y - 120000, clus_y + 115001, 5000)\n",
    "    cell_z_low = np.arange(clus_z - 120000, clus_z + 115001, 5000)\n",
    "    k = 0\n",
    "    i = 0\n",
    "    j = 0\n",
    "\n",
    "                \n",
    "    x_condition = (df_gal_selected['x[kpc/h]'] >= (cell_x_low)) & (df_gal_selected['x[kpc/h]'] < (cell_x_low + 5000))\n",
    "    y_condition = (df_gal_selected['y[kpc/h]'] >= (cell_y_low)) & (df_gal_selected['y[kpc/h]'] < (cell_y_low + 5000)) \n",
    "    z_condition = (df_gal_selected['z[kpc/h]'] >= (cell_z_low)) & (df_gal_selected['z[kpc/h]'] < (cell_z_low + 5000))\n",
    "\n",
    "    count = len(df_gal_selected[ x_condition & y_condition & z_condition ])\n",
    "    gals_in_cell[i][j][k] = count\n",
    "\n",
    "        \n",
    "\n",
    "        \n",
    "    \n",
    "import os\n",
    "duration = 1  # seconds\n",
    "freq = 440  # Hz\n",
    "os.system('play -nq -t alsa synth {} sine {}'.format(duration, freq)) \n",
    "\n",
    "df_gal_selected"
   ]
  },
  {
   "cell_type": "code",
   "execution_count": null,
   "metadata": {},
   "outputs": [],
   "source": []
  }
 ],
 "metadata": {
  "kernelspec": {
   "display_name": "Python 3",
   "language": "python",
   "name": "python3"
  },
  "language_info": {
   "codemirror_mode": {
    "name": "ipython",
    "version": 3
   },
   "file_extension": ".py",
   "mimetype": "text/x-python",
   "name": "python",
   "nbconvert_exporter": "python",
   "pygments_lexer": "ipython3",
   "version": "3.8.3"
  }
 },
 "nbformat": 4,
 "nbformat_minor": 4
}
