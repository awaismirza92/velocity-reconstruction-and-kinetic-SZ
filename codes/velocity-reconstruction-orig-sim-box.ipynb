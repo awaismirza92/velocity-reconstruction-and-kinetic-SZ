{
 "cells": [
  {
   "cell_type": "markdown",
   "metadata": {},
   "source": [
    "**Importing libraries**"
   ]
  },
  {
   "cell_type": "code",
   "execution_count": 16,
   "metadata": {
    "_cell_guid": "b1076dfc-b9ad-4769-8c92-a6c4dae69d19",
    "_uuid": "8f2839f25d086af736a60e9eeb907d3b93b6e0e5"
   },
   "outputs": [],
   "source": [
    "import numpy as np \n",
    "import pandas as pd \n",
    "import multiprocessing as multi\n",
    "from scipy.ndimage import gaussian_filter\n",
    "import matplotlib.pyplot as plt\n"
   ]
  },
  {
   "cell_type": "markdown",
   "metadata": {},
   "source": [
    "**Defining constants**"
   ]
  },
  {
   "cell_type": "code",
   "execution_count": 17,
   "metadata": {
    "_cell_guid": "79c7e3d0-c299-4dcb-8224-4455121ee9b0",
    "_uuid": "d629ff2d2480ee46fbb7e2d37f6b5fab8052498a"
   },
   "outputs": [],
   "source": [
    "omega_m = 0.272            #matter density paratmeter from Komatsu et al. (2011) \n",
    "omega_l = 1 - omega_m      #vacuum density paratmeter assuming flat universe\n",
    "H_o = 70.4                 #Hubble constant in km s^−1 Mpc^−1 from Komatsu et al. (2011) \n",
    "f = omega_m**0.545         #linear velocity growth rate from Tanimura et al. (2020)\n"
   ]
  },
  {
   "cell_type": "markdown",
   "metadata": {},
   "source": [
    "**Defining Functions**"
   ]
  },
  {
   "cell_type": "code",
   "execution_count": 18,
   "metadata": {},
   "outputs": [],
   "source": [
    "def H(z):                           #hubble parameter (in km s^-1 Mpc^-1) using Eq. 4.33 in Peter's book\n",
    "    return np.sqrt( H_o**2 * ( (1+z)**3 * omega_m + omega_l ) ) \n"
   ]
  },
  {
   "cell_type": "markdown",
   "metadata": {},
   "source": [
    "**Reading galaxies dataset**"
   ]
  },
  {
   "cell_type": "code",
   "execution_count": 19,
   "metadata": {},
   "outputs": [
    {
     "name": "stdout",
     "output_type": "stream",
     "text": [
      "            x[kpc/h]       y[kpc/h]       z[kpc/h]     m[Msol/h]\n",
      "count   93097.000000   93097.000000   93097.000000  9.309700e+04\n",
      "mean   325576.133087  322500.028738  320613.762863  3.993206e+11\n",
      "std    184863.273960  182799.587421  183249.915097  3.995129e+11\n",
      "min         1.864417      10.164207       0.260974  1.800010e+11\n",
      "25%    163866.950000  166201.380000  162514.560000  2.161480e+11\n",
      "50%    332449.620000  329260.160000  319925.780000  2.784900e+11\n",
      "75%    483949.000000  475466.120000  478698.410000  4.192930e+11\n",
      "max    639996.190000  639980.940000  639993.120000  1.077460e+13\n",
      "CPU times: user 79.4 ms, sys: 12.5 ms, total: 91.9 ms\n",
      "Wall time: 91.2 ms\n"
     ]
    }
   ],
   "source": [
    "%%time\n",
    "z = 0.42\n",
    "# data_address = '../input/magneticumsnap027z042-massfiltered/'\n",
    "data_address = 'Data/'\n",
    "df_gal = pd.read_csv(data_address + 'massive_galaxies.csv')      #massive_galaxies.csv contains galaxies with mass greater than 1.8 ×10^{11} h^{−1} M_sun as done by Tanimura et al. (2020)\n",
    "print(df_gal.describe())\n"
   ]
  },
  {
   "cell_type": "markdown",
   "metadata": {},
   "source": [
    "**Reading clusters dataset**"
   ]
  },
  {
   "cell_type": "code",
   "execution_count": 45,
   "metadata": {},
   "outputs": [
    {
     "name": "stdout",
     "output_type": "stream",
     "text": [
      "            x[kpc/h]       y[kpc/h]       z[kpc/h]  m500c[Msol/h]  \\\n",
      "count    1592.000000    1592.000000    1592.000000   1.592000e+03   \n",
      "mean   326225.714152  330893.131420  319484.322167   6.318661e+13   \n",
      "std    117744.272442  117949.607936  117197.038213   4.845334e+13   \n",
      "min    120050.600000  120120.120000  120140.480000   3.163600e+13   \n",
      "25%    225829.552500  234986.600000  221053.682500   3.819940e+13   \n",
      "50%    328897.030000  336651.920000  313286.765000   4.811530e+13   \n",
      "75%    427401.647500  433925.950000  426564.770000   7.023110e+13   \n",
      "max    529929.500000  529911.120000  529783.620000   7.220310e+14   \n",
      "\n",
      "          vx[km/s]     vy[km/s]     vz[km/s]  \n",
      "count  1592.000000  1592.000000  1592.000000  \n",
      "mean     56.881581    47.430418    -7.541318  \n",
      "std     285.013942   296.601694   277.891742  \n",
      "min   -1179.530000 -1107.410000 -1064.920000  \n",
      "25%    -120.642250  -147.272250  -186.943250  \n",
      "50%      58.529550    60.448700   -13.359600  \n",
      "75%     238.076250   252.000000   177.276500  \n",
      "max    1109.160000  1164.960000   900.098000  \n",
      "CPU times: user 31.6 ms, sys: 8.59 ms, total: 40.2 ms\n",
      "Wall time: 38.1 ms\n"
     ]
    }
   ],
   "source": [
    "%%time\n",
    "\n",
    "df_clusters = pd.read_csv(data_address + 'massive_clusters.csv', \n",
    "                          usecols = ['x[kpc/h]', 'y[kpc/h]', 'z[kpc/h]', 'm500c[Msol/h]', 'vx[km/s]', 'vy[km/s]', 'vz[km/s]'    ])  #massive_clusters.csv contains clusters with M_500c greater than 10^13.5 h^{-1} M_sun as done by Tanimura et al. (2020)\n",
    "\n",
    "#removing cluster at edges of the survey volume as done by Tanimura et al. 2020\n",
    "df_clusters = df_clusters[(df_clusters['x[kpc/h]'] > 120000) & (df_clusters['x[kpc/h]'] < 530000) \n",
    "                          & (df_clusters['y[kpc/h]'] > 120000) & (df_clusters['y[kpc/h]'] < 530000) \n",
    "                          & (df_clusters['z[kpc/h]'] > 120000) & (df_clusters['z[kpc/h]'] < 530000)]\n",
    "        \n",
    "print(df_clusters.describe())"
   ]
  },
  {
   "cell_type": "markdown",
   "metadata": {},
   "source": [
    "**Specifying prefactors for Eq. 1 of Tanimura et al. (2020)**"
   ]
  },
  {
   "cell_type": "code",
   "execution_count": 46,
   "metadata": {},
   "outputs": [
    {
     "name": "stdout",
     "output_type": "stream",
     "text": [
      "0.7042253521126761\n"
     ]
    },
    {
     "data": {
      "text/plain": [
       "2.3820143592892085"
      ]
     },
     "execution_count": 46,
     "metadata": {},
     "output_type": "execute_result"
    }
   ],
   "source": [
    "a = 1/(1+z)\n",
    "H(z)\n",
    "print(a)\n",
    "\n",
    "pre_fac = (f * a * H(z) / (4 * np.pi))\n",
    "pre_fac"
   ]
  },
  {
   "cell_type": "markdown",
   "metadata": {},
   "source": [
    "**Computing density contrast for the Eq. 1**"
   ]
  },
  {
   "cell_type": "code",
   "execution_count": 48,
   "metadata": {},
   "outputs": [
    {
     "name": "stdout",
     "output_type": "stream",
     "text": [
      "            x[kpc/h]       y[kpc/h]       z[kpc/h]     m[Msol/h]         denom\n",
      "count    4401.000000    4401.000000    4401.000000  4.401000e+03  4.401000e+03\n",
      "mean   414052.472079  457187.646033   92557.926067  4.021183e+11  1.573823e+15\n",
      "std     66866.355939   68213.706705   55060.324866  4.052996e+11  1.228647e+15\n",
      "min    296816.560000  335774.000000       2.833172  1.800030e+11  0.000000e+00\n",
      "25%    354711.030000  393400.690000   44557.340000  2.175220e+11  6.022194e+14\n",
      "50%    411732.310000  459381.380000   91303.219000  2.790660e+11  1.366660e+15\n",
      "75%    471579.410000  513905.620000  138854.110000  4.285530e+11  2.220936e+15\n",
      "max    536658.560000  575762.380000  192669.030000  9.539830e+12  7.783121e+15\n",
      "CPU times: user 62.6 ms, sys: 0 ns, total: 62.6 ms\n",
      "Wall time: 62.1 ms\n"
     ]
    },
    {
     "name": "stderr",
     "output_type": "stream",
     "text": [
      "/usr/lib/python3/dist-packages/ipykernel_launcher.py:57: SettingWithCopyWarning: \n",
      "A value is trying to be set on a copy of a slice from a DataFrame.\n",
      "Try using .loc[row_indexer,col_indexer] = value instead\n",
      "\n",
      "See the caveats in the documentation: http://pandas.pydata.org/pandas-docs/stable/indexing.html#indexing-view-versus-copy\n"
     ]
    }
   ],
   "source": [
    "%%time\n",
    "\n",
    "pix_size = 5000                      #h^-1 kpc\n",
    "FWHM = 2000                          #h^-1 kpc, of Gaussian kernel\n",
    "FWHM_in_pix = 2000/pix_size          #in pixel units\n",
    "sigma_in_pix = FWHM_in_pix/(2.35482) #in pixel units\n",
    "\n",
    "def density_field_calc(clus_x, clus_y, clus_z):\n",
    "\n",
    "    #converting strings into floats\n",
    "    clus_x = float(clus_x); clus_y = float(clus_y); clus_z = float(clus_z)\n",
    "    \n",
    "    #filtering galaxies in a cube of 240,000 h^-1 kpc around the given cluster\n",
    "    df_gal_select = df_gal[(df_gal['x[kpc/h]'] >= (clus_x - 120000)) & (df_gal['x[kpc/h]'] < (clus_x + 120000))\n",
    "                            & (df_gal['y[kpc/h]'] >= (clus_y - 120000)) & (df_gal['y[kpc/h]'] < (clus_y + 120000)) \n",
    "                             & (df_gal['z[kpc/h]'] >= (clus_z - 120000)) & (df_gal['z[kpc/h]'] < (clus_z + 120000))]\n",
    "    \n",
    "    #making copy to extract coordinates of cells containing the galaxies\n",
    "    df_gal_cube = df_gal_select.copy()\n",
    "    \n",
    "    #moving the galxies cube to lie within 0 to 240,000 h^-1 kpc \n",
    "    df_gal_cube['x[kpc/h]'] -= (clus_x-120000)\n",
    "    df_gal_cube['y[kpc/h]'] -= (clus_y-120000)\n",
    "    df_gal_cube['z[kpc/h]'] -= (clus_z-120000)\n",
    "\n",
    "    #now divide by 5000 (integer-div) so we get cell coordinates\n",
    "    df_gal_cube['x[kpc/h]'] = df_gal_cube['x[kpc/h]'] / 5000\n",
    "    df_gal_cube['y[kpc/h]'] = df_gal_cube['y[kpc/h]'] / 5000\n",
    "    df_gal_cube['z[kpc/h]'] = df_gal_cube['z[kpc/h]'] / 5000\n",
    "    \n",
    "    #making tuples, converting tuples to cell coordinates\n",
    "    df_gal_cube[\"cell\"] = list(zip(df_gal_cube['x[kpc/h]'].astype(int), df_gal_cube['y[kpc/h]'].astype(int), df_gal_cube['z[kpc/h]'].astype(int)))\n",
    "    \n",
    "    #array to store number of galaxies in the cells\n",
    "    gals_in_cell = np.zeros((48, 48, 48))\n",
    "    \n",
    "    #counting number of galaxies in the cells\n",
    "    for cell in df_gal_cube[\"cell\"]:\n",
    "        x, y, z = cell\n",
    "        gals_in_cell[x, y, z] += 1\n",
    "        \n",
    "    #determining the overdensity    \n",
    "    delta = (gals_in_cell/np.mean(gals_in_cell)) - 1\n",
    "    \n",
    "#     print(delta[0, :, :])\n",
    "#     plt.imshow(delta[0, :, :])\n",
    "#     plt.colorbar()\n",
    "    \n",
    "    #smoothing the overdensity\n",
    "    delta_smooth = gaussian_filter(delta, sigma = sigma_in_pix)\n",
    "    \n",
    "#     plt.figure()\n",
    "#     print(delta_smooth[0, :, :])\n",
    "#     plt.imshow(delta_smooth[0, :, :])\n",
    "#     plt.colorbar()\n",
    "    \n",
    "    df_gal_select['denom'] = (np.sqrt((df_gal_select['x[kpc/h]'] - clus_x)**2 + (df_gal_select['y[kpc/h]'] - clus_y)**2 \n",
    "                                   + (df_gal_select['z[kpc/h]'] - clus_z)**2))**3\n",
    "    print(df_gal_select.describe())\n",
    "    \n",
    "#     vx_est = pre_fac * \n",
    "\n",
    "clus_coord = [(clus_x, clus_y, clus_z) for clus_x, clus_y, clus_z in zip(df_clusters['x[kpc/h]'], df_clusters['y[kpc/h]'], df_clusters['z[kpc/h]'])]\n",
    "\n",
    "\n",
    "density_field_calc('416658.59', '455771.69', '72710.742')\n",
    "\n",
    "# pool = multi.Pool(processes = 42)\n",
    "# pool.starmap(density_field_calc, clus_coord)"
   ]
  },
  {
   "cell_type": "code",
   "execution_count": null,
   "metadata": {},
   "outputs": [],
   "source": []
  }
 ],
 "metadata": {
  "kernelspec": {
   "display_name": "Python 3",
   "language": "python",
   "name": "python3"
  },
  "language_info": {
   "codemirror_mode": {
    "name": "ipython",
    "version": 3
   },
   "file_extension": ".py",
   "mimetype": "text/x-python",
   "name": "python",
   "nbconvert_exporter": "python",
   "pygments_lexer": "ipython3",
   "version": "3.6.9"
  }
 },
 "nbformat": 4,
 "nbformat_minor": 4
}
