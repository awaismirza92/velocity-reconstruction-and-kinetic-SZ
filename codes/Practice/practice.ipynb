{
 "cells": [
  {
   "cell_type": "code",
   "execution_count": 24,
   "metadata": {},
   "outputs": [
    {
     "name": "stdout",
     "output_type": "stream",
     "text": [
      "g\n"
     ]
    }
   ],
   "source": [
    "# import pandas and numpy  \n",
    "import pandas as pd \n",
    "import numpy as np \n",
    "import matplotlib.pyplot as plt\n",
    "  \n",
    "# creating simple array \n",
    "data = np.array(['g', 'e', 'e', 'k', 's', 'f', 'o', 'r', 'g', 'e', 'e', 'k', 's']) \n",
    "ser = pd.Series(data) \n",
    "   \n",
    "\n",
    "   \n",
    "\n",
    "# retrieve the first element \n",
    "print(ser[0]) "
   ]
  },
  {
   "cell_type": "raw",
   "metadata": {},
   "source": [
    "ser[-10:-5]"
   ]
  },
  {
   "cell_type": "code",
   "execution_count": 20,
   "metadata": {
    "tags": []
   },
   "outputs": [
    {
     "name": "stdout",
     "output_type": "stream",
     "text": [
      "   Num\n",
      "0    1\n",
      "nan\n",
      "0.0\n",
      "nan\n",
      "0.0\n"
     ]
    },
    {
     "name": "stderr",
     "output_type": "stream",
     "text": [
      "/vol/science12/data1/amirza/Misc/installed_packages/anaconda3/lib/python3.8/site-packages/numpy/core/fromnumeric.py:3621: RuntimeWarning: Degrees of freedom <= 0 for slice\n",
      "  return _methods._var(a, axis=axis, dtype=dtype, out=out, ddof=ddof,\n",
      "/vol/science12/data1/amirza/Misc/installed_packages/anaconda3/lib/python3.8/site-packages/numpy/core/_methods.py:226: RuntimeWarning: invalid value encountered in double_scalars\n",
      "  ret = ret.dtype.type(ret / rcount)\n"
     ]
    }
   ],
   "source": [
    "df = pd.DataFrame(np.arange(1, 2), columns = ['Num'])\n",
    "print(df)\n",
    "print(df['Num'].std(ddof = 1))\n",
    "print(np.std(df['Num']))\n",
    "print(np.nanstd(df['Num'], ddof = 1))\n",
    "print(np.nanstd(df['Num']))"
   ]
  },
  {
   "cell_type": "code",
   "execution_count": 21,
   "metadata": {
    "tags": []
   },
   "outputs": [
    {
     "name": "stdout",
     "output_type": "stream",
     "text": [
      "Empty DataFrame\n",
      "Columns: [Num]\n",
      "Index: []\n",
      "nan\n"
     ]
    },
    {
     "ename": "ZeroDivisionError",
     "evalue": "division by zero",
     "output_type": "error",
     "traceback": [
      "\u001b[0;31m---------------------------------------------------------------------------\u001b[0m",
      "\u001b[0;31mZeroDivisionError\u001b[0m                         Traceback (most recent call last)",
      "\u001b[0;32m<ipython-input-21-6775f2f0b270>\u001b[0m in \u001b[0;36m<module>\u001b[0;34m\u001b[0m\n\u001b[1;32m      2\u001b[0m \u001b[0mprint\u001b[0m\u001b[0;34m(\u001b[0m\u001b[0mdf\u001b[0m\u001b[0;34m)\u001b[0m\u001b[0;34m\u001b[0m\u001b[0;34m\u001b[0m\u001b[0m\n\u001b[1;32m      3\u001b[0m \u001b[0mprint\u001b[0m\u001b[0;34m(\u001b[0m\u001b[0mdf\u001b[0m\u001b[0;34m[\u001b[0m\u001b[0;34m'Num'\u001b[0m\u001b[0;34m]\u001b[0m\u001b[0;34m.\u001b[0m\u001b[0mstd\u001b[0m\u001b[0;34m(\u001b[0m\u001b[0mddof\u001b[0m \u001b[0;34m=\u001b[0m \u001b[0;36m1\u001b[0m\u001b[0;34m)\u001b[0m\u001b[0;34m)\u001b[0m\u001b[0;34m\u001b[0m\u001b[0;34m\u001b[0m\u001b[0m\n\u001b[0;32m----> 4\u001b[0;31m \u001b[0mprint\u001b[0m\u001b[0;34m(\u001b[0m\u001b[0mnp\u001b[0m\u001b[0;34m.\u001b[0m\u001b[0mnanstd\u001b[0m\u001b[0;34m(\u001b[0m\u001b[0mdf\u001b[0m\u001b[0;34m[\u001b[0m\u001b[0;34m'Num'\u001b[0m\u001b[0;34m]\u001b[0m\u001b[0;34m,\u001b[0m \u001b[0mddof\u001b[0m \u001b[0;34m=\u001b[0m \u001b[0;36m1\u001b[0m\u001b[0;34m)\u001b[0m\u001b[0;34m)\u001b[0m\u001b[0;34m\u001b[0m\u001b[0;34m\u001b[0m\u001b[0m\n\u001b[0m\u001b[1;32m      5\u001b[0m \u001b[0mprint\u001b[0m\u001b[0;34m(\u001b[0m\u001b[0mnp\u001b[0m\u001b[0;34m.\u001b[0m\u001b[0mnanstd\u001b[0m\u001b[0;34m(\u001b[0m\u001b[0mdf\u001b[0m\u001b[0;34m[\u001b[0m\u001b[0;34m'Num'\u001b[0m\u001b[0;34m]\u001b[0m\u001b[0;34m)\u001b[0m\u001b[0;34m)\u001b[0m\u001b[0;34m\u001b[0m\u001b[0;34m\u001b[0m\u001b[0m\n",
      "\u001b[0;32m<__array_function__ internals>\u001b[0m in \u001b[0;36mnanstd\u001b[0;34m(*args, **kwargs)\u001b[0m\n",
      "\u001b[0;32m/vol/science12/data1/amirza/Misc/installed_packages/anaconda3/lib/python3.8/site-packages/numpy/lib/nanfunctions.py\u001b[0m in \u001b[0;36mnanstd\u001b[0;34m(a, axis, dtype, out, ddof, keepdims)\u001b[0m\n\u001b[1;32m   1662\u001b[0m \u001b[0;34m\u001b[0m\u001b[0m\n\u001b[1;32m   1663\u001b[0m     \"\"\"\n\u001b[0;32m-> 1664\u001b[0;31m     var = nanvar(a, axis=axis, dtype=dtype, out=out, ddof=ddof,\n\u001b[0m\u001b[1;32m   1665\u001b[0m                  keepdims=keepdims)\n\u001b[1;32m   1666\u001b[0m     \u001b[0;32mif\u001b[0m \u001b[0misinstance\u001b[0m\u001b[0;34m(\u001b[0m\u001b[0mvar\u001b[0m\u001b[0;34m,\u001b[0m \u001b[0mnp\u001b[0m\u001b[0;34m.\u001b[0m\u001b[0mndarray\u001b[0m\u001b[0;34m)\u001b[0m\u001b[0;34m:\u001b[0m\u001b[0;34m\u001b[0m\u001b[0;34m\u001b[0m\u001b[0m\n",
      "\u001b[0;32m<__array_function__ internals>\u001b[0m in \u001b[0;36mnanvar\u001b[0;34m(*args, **kwargs)\u001b[0m\n",
      "\u001b[0;32m/vol/science12/data1/amirza/Misc/installed_packages/anaconda3/lib/python3.8/site-packages/numpy/lib/nanfunctions.py\u001b[0m in \u001b[0;36mnanvar\u001b[0;34m(a, axis, dtype, out, ddof, keepdims)\u001b[0m\n\u001b[1;32m   1534\u001b[0m     \u001b[0mcnt\u001b[0m \u001b[0;34m=\u001b[0m \u001b[0mnp\u001b[0m\u001b[0;34m.\u001b[0m\u001b[0msum\u001b[0m\u001b[0;34m(\u001b[0m\u001b[0;34m~\u001b[0m\u001b[0mmask\u001b[0m\u001b[0;34m,\u001b[0m \u001b[0maxis\u001b[0m\u001b[0;34m=\u001b[0m\u001b[0maxis\u001b[0m\u001b[0;34m,\u001b[0m \u001b[0mdtype\u001b[0m\u001b[0;34m=\u001b[0m\u001b[0mnp\u001b[0m\u001b[0;34m.\u001b[0m\u001b[0mintp\u001b[0m\u001b[0;34m,\u001b[0m \u001b[0mkeepdims\u001b[0m\u001b[0;34m=\u001b[0m\u001b[0m_keepdims\u001b[0m\u001b[0;34m)\u001b[0m\u001b[0;34m\u001b[0m\u001b[0;34m\u001b[0m\u001b[0m\n\u001b[1;32m   1535\u001b[0m     \u001b[0mavg\u001b[0m \u001b[0;34m=\u001b[0m \u001b[0mnp\u001b[0m\u001b[0;34m.\u001b[0m\u001b[0msum\u001b[0m\u001b[0;34m(\u001b[0m\u001b[0marr\u001b[0m\u001b[0;34m,\u001b[0m \u001b[0maxis\u001b[0m\u001b[0;34m=\u001b[0m\u001b[0maxis\u001b[0m\u001b[0;34m,\u001b[0m \u001b[0mdtype\u001b[0m\u001b[0;34m=\u001b[0m\u001b[0mdtype\u001b[0m\u001b[0;34m,\u001b[0m \u001b[0mkeepdims\u001b[0m\u001b[0;34m=\u001b[0m\u001b[0m_keepdims\u001b[0m\u001b[0;34m)\u001b[0m\u001b[0;34m\u001b[0m\u001b[0;34m\u001b[0m\u001b[0m\n\u001b[0;32m-> 1536\u001b[0;31m     \u001b[0mavg\u001b[0m \u001b[0;34m=\u001b[0m \u001b[0m_divide_by_count\u001b[0m\u001b[0;34m(\u001b[0m\u001b[0mavg\u001b[0m\u001b[0;34m,\u001b[0m \u001b[0mcnt\u001b[0m\u001b[0;34m)\u001b[0m\u001b[0;34m\u001b[0m\u001b[0;34m\u001b[0m\u001b[0m\n\u001b[0m\u001b[1;32m   1537\u001b[0m \u001b[0;34m\u001b[0m\u001b[0m\n\u001b[1;32m   1538\u001b[0m     \u001b[0;31m# Compute squared deviation from mean.\u001b[0m\u001b[0;34m\u001b[0m\u001b[0;34m\u001b[0m\u001b[0;34m\u001b[0m\u001b[0m\n",
      "\u001b[0;32m/vol/science12/data1/amirza/Misc/installed_packages/anaconda3/lib/python3.8/site-packages/numpy/lib/nanfunctions.py\u001b[0m in \u001b[0;36m_divide_by_count\u001b[0;34m(a, b, out)\u001b[0m\n\u001b[1;32m    210\u001b[0m         \u001b[0;32mif\u001b[0m \u001b[0misinstance\u001b[0m\u001b[0;34m(\u001b[0m\u001b[0ma\u001b[0m\u001b[0;34m,\u001b[0m \u001b[0mnp\u001b[0m\u001b[0;34m.\u001b[0m\u001b[0mndarray\u001b[0m\u001b[0;34m)\u001b[0m\u001b[0;34m:\u001b[0m\u001b[0;34m\u001b[0m\u001b[0;34m\u001b[0m\u001b[0m\n\u001b[1;32m    211\u001b[0m             \u001b[0;32mif\u001b[0m \u001b[0mout\u001b[0m \u001b[0;32mis\u001b[0m \u001b[0;32mNone\u001b[0m\u001b[0;34m:\u001b[0m\u001b[0;34m\u001b[0m\u001b[0;34m\u001b[0m\u001b[0m\n\u001b[0;32m--> 212\u001b[0;31m                 \u001b[0;32mreturn\u001b[0m \u001b[0mnp\u001b[0m\u001b[0;34m.\u001b[0m\u001b[0mdivide\u001b[0m\u001b[0;34m(\u001b[0m\u001b[0ma\u001b[0m\u001b[0;34m,\u001b[0m \u001b[0mb\u001b[0m\u001b[0;34m,\u001b[0m \u001b[0mout\u001b[0m\u001b[0;34m=\u001b[0m\u001b[0ma\u001b[0m\u001b[0;34m,\u001b[0m \u001b[0mcasting\u001b[0m\u001b[0;34m=\u001b[0m\u001b[0;34m'unsafe'\u001b[0m\u001b[0;34m)\u001b[0m\u001b[0;34m\u001b[0m\u001b[0;34m\u001b[0m\u001b[0m\n\u001b[0m\u001b[1;32m    213\u001b[0m             \u001b[0;32melse\u001b[0m\u001b[0;34m:\u001b[0m\u001b[0;34m\u001b[0m\u001b[0;34m\u001b[0m\u001b[0m\n\u001b[1;32m    214\u001b[0m                 \u001b[0;32mreturn\u001b[0m \u001b[0mnp\u001b[0m\u001b[0;34m.\u001b[0m\u001b[0mdivide\u001b[0m\u001b[0;34m(\u001b[0m\u001b[0ma\u001b[0m\u001b[0;34m,\u001b[0m \u001b[0mb\u001b[0m\u001b[0;34m,\u001b[0m \u001b[0mout\u001b[0m\u001b[0;34m=\u001b[0m\u001b[0mout\u001b[0m\u001b[0;34m,\u001b[0m \u001b[0mcasting\u001b[0m\u001b[0;34m=\u001b[0m\u001b[0;34m'unsafe'\u001b[0m\u001b[0;34m)\u001b[0m\u001b[0;34m\u001b[0m\u001b[0;34m\u001b[0m\u001b[0m\n",
      "\u001b[0;31mZeroDivisionError\u001b[0m: division by zero"
     ]
    }
   ],
   "source": [
    "df = pd.DataFrame(columns = ['Num'])\n",
    "print(df)\n",
    "print(df['Num'].std(ddof = 1))\n",
    "print(np.nanstd(df['Num'], ddof = 1))\n",
    "print(np.nanstd(df['Num']))"
   ]
  },
  {
   "cell_type": "code",
   "execution_count": 29,
   "metadata": {},
   "outputs": [
    {
     "data": {
      "text/plain": [
       "<ErrorbarContainer object of 3 artists>"
      ]
     },
     "execution_count": 29,
     "metadata": {},
     "output_type": "execute_result"
    },
    {
     "data": {
      "image/png": "[encoded data removed]",
      "text/plain": [
       "<Figure size 432x288 with 1 Axes>"
      ]
     },
     "metadata": {
      "needs_background": "light"
     },
     "output_type": "display_data"
    }
   ],
   "source": [
    "x = np.arange(1, 5)\n",
    "\n",
    "y = x.copy()\n",
    "\n",
    "y_err = np.random.normal(0, 1)\n",
    "\n",
    "plt.errorbar(x, y, yerr = y_err, ecolor = 'C1')"
   ]
  },
  {
   "cell_type": "code",
   "execution_count": null,
   "metadata": {},
   "outputs": [],
   "source": []
  },
  {
   "cell_type": "code",
   "execution_count": 30,
   "metadata": {},
   "outputs": [
    {
     "name": "stdout",
     "output_type": "stream",
     "text": [
      "check\n"
     ]
    }
   ],
   "source": [
    "print('check')"
   ]
  },
  {
   "cell_type": "code",
   "execution_count": 9,
   "metadata": {
    "execution": {
     "iopub.execute_input": "2021-11-16T16:39:41.001421Z",
     "iopub.status.busy": "2021-11-16T16:39:41.001092Z",
     "iopub.status.idle": "2021-11-16T16:39:41.004924Z",
     "shell.execute_reply": "2021-11-16T16:39:41.004395Z",
     "shell.execute_reply.started": "2021-11-16T16:39:41.001390Z"
    },
    "tags": []
   },
   "outputs": [],
   "source": [
    "from uncertainties import ufloat\n",
    "from uncertainties.umath import *  # sin(), etc.\n",
    "import numpy as np\n"
   ]
  },
  {
   "cell_type": "code",
   "execution_count": 4,
   "metadata": {
    "execution": {
     "iopub.execute_input": "2021-11-16T16:27:05.805171Z",
     "iopub.status.busy": "2021-11-16T16:27:05.804890Z",
     "iopub.status.idle": "2021-11-16T16:27:05.809943Z",
     "shell.execute_reply": "2021-11-16T16:27:05.809431Z",
     "shell.execute_reply.started": "2021-11-16T16:27:05.805144Z"
    },
    "tags": []
   },
   "outputs": [
    {
     "name": "stdout",
     "output_type": "stream",
     "text": [
      "2.00+/-0.20\n"
     ]
    }
   ],
   "source": [
    "x = ufloat(1, 0.1)  # x = 1+/-0.1\n",
    "print(2*x)"
   ]
  },
  {
   "cell_type": "code",
   "execution_count": 56,
   "metadata": {
    "execution": {
     "iopub.execute_input": "2021-11-16T21:43:50.050828Z",
     "iopub.status.busy": "2021-11-16T21:43:50.050498Z",
     "iopub.status.idle": "2021-11-16T21:43:50.056656Z",
     "shell.execute_reply": "2021-11-16T21:43:50.055577Z",
     "shell.execute_reply.started": "2021-11-16T21:43:50.050796Z"
    },
    "tags": []
   },
   "outputs": [
    {
     "name": "stdout",
     "output_type": "stream",
     "text": [
      "3.00+/-0.30\n"
     ]
    }
   ],
   "source": [
    "x = ufloat(1, 0.1)  # x = 1+/-0.1\n",
    "b = 3\n",
    "print(b*x)"
   ]
  },
  {
   "cell_type": "code",
   "execution_count": 5,
   "metadata": {
    "execution": {
     "iopub.execute_input": "2021-11-16T16:27:36.822892Z",
     "iopub.status.busy": "2021-11-16T16:27:36.822619Z",
     "iopub.status.idle": "2021-11-16T16:27:36.833996Z",
     "shell.execute_reply": "2021-11-16T16:27:36.833459Z",
     "shell.execute_reply.started": "2021-11-16T16:27:36.822865Z"
    },
    "tags": []
   },
   "outputs": [
    {
     "data": {
      "text/plain": [
       "uncertainties.core.Variable"
      ]
     },
     "execution_count": 5,
     "metadata": {},
     "output_type": "execute_result"
    }
   ],
   "source": [
    "type(x)"
   ]
  },
  {
   "cell_type": "code",
   "execution_count": 50,
   "metadata": {
    "execution": {
     "iopub.execute_input": "2021-11-16T20:44:02.531796Z",
     "iopub.status.busy": "2021-11-16T20:44:02.531403Z",
     "iopub.status.idle": "2021-11-16T20:44:02.536396Z",
     "shell.execute_reply": "2021-11-16T20:44:02.535846Z",
     "shell.execute_reply.started": "2021-11-16T20:44:02.531764Z"
    },
    "tags": []
   },
   "outputs": [
    {
     "name": "stdout",
     "output_type": "stream",
     "text": [
      "1.00+/-0.20\n",
      "0.0+/-0\n",
      "2.00+/-0.20\n"
     ]
    }
   ],
   "source": [
    "x = ufloat(1, 0.1)  # x = 1+/-0.1\n",
    "print(x*x)\n",
    "print(x - x)\n",
    "print(x + x)"
   ]
  },
  {
   "cell_type": "code",
   "execution_count": 6,
   "metadata": {
    "execution": {
     "iopub.execute_input": "2021-11-16T16:29:14.837711Z",
     "iopub.status.busy": "2021-11-16T16:29:14.837416Z",
     "iopub.status.idle": "2021-11-16T16:29:14.842591Z",
     "shell.execute_reply": "2021-11-16T16:29:14.842091Z",
     "shell.execute_reply.started": "2021-11-16T16:29:14.837683Z"
    }
   },
   "outputs": [
    {
     "data": {
      "text/plain": [
       "5.87+/-0.06403124237432849"
      ]
     },
     "execution_count": 6,
     "metadata": {},
     "output_type": "execute_result"
    }
   ],
   "source": [
    "x = ufloat(3.52, 0.05)\n",
    "y = ufloat(2.35, 0.04)\n",
    "\n",
    "z = x + y\n",
    "z"
   ]
  },
  {
   "cell_type": "code",
   "execution_count": 16,
   "metadata": {
    "execution": {
     "iopub.execute_input": "2021-11-16T18:38:45.416427Z",
     "iopub.status.busy": "2021-11-16T18:38:45.416082Z",
     "iopub.status.idle": "2021-11-16T18:38:45.421511Z",
     "shell.execute_reply": "2021-11-16T18:38:45.420817Z",
     "shell.execute_reply.started": "2021-11-16T18:38:45.416394Z"
    },
    "tags": []
   },
   "outputs": [
    {
     "name": "stdout",
     "output_type": "stream",
     "text": [
      "9386+/-15\n",
      "9385.5256\n",
      "15.363233701275263\n"
     ]
    }
   ],
   "source": [
    "x = ufloat(49.52, 0.08)\n",
    "y = ufloat(189.53, 0.05)\n",
    "    \n",
    "z = x * y\n",
    "print(z)\n",
    "print(z.nominal_value)\n",
    "print(z.std_dev)"
   ]
  },
  {
   "cell_type": "code",
   "execution_count": 12,
   "metadata": {
    "execution": {
     "iopub.execute_input": "2021-11-16T16:43:44.293035Z",
     "iopub.status.busy": "2021-11-16T16:43:44.292715Z",
     "iopub.status.idle": "2021-11-16T16:43:44.300697Z",
     "shell.execute_reply": "2021-11-16T16:43:44.299899Z",
     "shell.execute_reply.started": "2021-11-16T16:43:44.293004Z"
    },
    "tags": []
   },
   "outputs": [
    {
     "data": {
      "text/plain": [
       "28.765103858668745+/-11.596282594003993"
      ]
     },
     "execution_count": 12,
     "metadata": {},
     "output_type": "execute_result"
    }
   ],
   "source": [
    "w = ufloat(4.52, 0.02)\n",
    "y = ufloat(3.0, 0.6)\n",
    "A = ufloat(2.0, 0.2)\n",
    "    \n",
    "z = w * y**2 / sqrt(A)\n",
    "z"
   ]
  },
  {
   "cell_type": "code",
   "execution_count": 51,
   "metadata": {
    "execution": {
     "iopub.execute_input": "2021-11-16T20:50:42.528658Z",
     "iopub.status.busy": "2021-11-16T20:50:42.528332Z",
     "iopub.status.idle": "2021-11-16T20:50:42.535532Z",
     "shell.execute_reply": "2021-11-16T20:50:42.534727Z",
     "shell.execute_reply.started": "2021-11-16T20:50:42.528626Z"
    },
    "tags": []
   },
   "outputs": [
    {
     "data": {
      "text/plain": [
       "18.04+/-3.711982758580648"
      ]
     },
     "execution_count": 51,
     "metadata": {},
     "output_type": "execute_result"
    }
   ],
   "source": [
    "w = ufloat(4.52, 0.02)\n",
    "y = ufloat(3.0, 0.6)\n",
    "x = ufloat(2.0, 0.2)\n",
    "    \n",
    "z = w * x + y**2 \n",
    "z"
   ]
  },
  {
   "cell_type": "code",
   "execution_count": 52,
   "metadata": {
    "execution": {
     "iopub.execute_input": "2021-11-16T20:54:23.366125Z",
     "iopub.status.busy": "2021-11-16T20:54:23.365859Z",
     "iopub.status.idle": "2021-11-16T20:54:23.370443Z",
     "shell.execute_reply": "2021-11-16T20:54:23.369987Z",
     "shell.execute_reply.started": "2021-11-16T20:54:23.366097Z"
    },
    "tags": []
   },
   "outputs": [
    {
     "data": {
      "text/plain": [
       "190.109375+/-7.9350000000000005"
      ]
     },
     "execution_count": 52,
     "metadata": {},
     "output_type": "execute_result"
    }
   ],
   "source": [
    "# w = ufloat(4.52, 0.02)\n",
    "# y = ufloat(3.0, 0.6)\n",
    "x = ufloat(5.75, 0.08)\n",
    "    \n",
    "z = x**3 \n",
    "z"
   ]
  },
  {
   "cell_type": "code",
   "execution_count": 11,
   "metadata": {
    "execution": {
     "iopub.execute_input": "2021-11-16T16:41:17.491293Z",
     "iopub.status.busy": "2021-11-16T16:41:17.490962Z",
     "iopub.status.idle": "2021-11-16T16:41:17.498215Z",
     "shell.execute_reply": "2021-11-16T16:41:17.497131Z",
     "shell.execute_reply.started": "2021-11-16T16:41:17.491260Z"
    },
    "tags": []
   },
   "outputs": [
    {
     "data": {
      "text/plain": [
       "3.1622776601683795"
      ]
     },
     "execution_count": 11,
     "metadata": {},
     "output_type": "execute_result"
    }
   ],
   "source": [
    "np.sqrt(10)"
   ]
  },
  {
   "cell_type": "code",
   "execution_count": 23,
   "metadata": {
    "execution": {
     "iopub.execute_input": "2021-11-16T19:00:49.048231Z",
     "iopub.status.busy": "2021-11-16T19:00:49.047881Z",
     "iopub.status.idle": "2021-11-16T19:00:49.051897Z",
     "shell.execute_reply": "2021-11-16T19:00:49.051354Z",
     "shell.execute_reply.started": "2021-11-16T19:00:49.048197Z"
    },
    "tags": []
   },
   "outputs": [],
   "source": [
    "import pandas as pd"
   ]
  },
  {
   "cell_type": "code",
   "execution_count": 25,
   "metadata": {
    "execution": {
     "iopub.execute_input": "2021-11-16T19:01:03.213390Z",
     "iopub.status.busy": "2021-11-16T19:01:03.213092Z",
     "iopub.status.idle": "2021-11-16T19:01:03.227272Z",
     "shell.execute_reply": "2021-11-16T19:01:03.226693Z",
     "shell.execute_reply.started": "2021-11-16T19:01:03.213361Z"
    },
    "tags": []
   },
   "outputs": [
    {
     "data": {
      "text/html": [
       "<div>\n",
       "<style scoped>\n",
       "    .dataframe tbody tr th:only-of-type {\n",
       "        vertical-align: middle;\n",
       "    }\n",
       "\n",
       "    .dataframe tbody tr th {\n",
       "        vertical-align: top;\n",
       "    }\n",
       "\n",
       "    .dataframe thead th {\n",
       "        text-align: right;\n",
       "    }\n",
       "</style>\n",
       "<table border=\"1\" class=\"dataframe\">\n",
       "  <thead>\n",
       "    <tr style=\"text-align: right;\">\n",
       "      <th></th>\n",
       "      <th>a</th>\n",
       "      <th>b</th>\n",
       "    </tr>\n",
       "  </thead>\n",
       "  <tbody>\n",
       "    <tr>\n",
       "      <th>0</th>\n",
       "      <td>0</td>\n",
       "      <td>0.10</td>\n",
       "    </tr>\n",
       "    <tr>\n",
       "      <th>1</th>\n",
       "      <td>1</td>\n",
       "      <td>0.20</td>\n",
       "    </tr>\n",
       "    <tr>\n",
       "      <th>2</th>\n",
       "      <td>2</td>\n",
       "      <td>0.32</td>\n",
       "    </tr>\n",
       "    <tr>\n",
       "      <th>3</th>\n",
       "      <td>3</td>\n",
       "      <td>0.22</td>\n",
       "    </tr>\n",
       "  </tbody>\n",
       "</table>\n",
       "</div>"
      ],
      "text/plain": [
       "   a     b\n",
       "0  0  0.10\n",
       "1  1  0.20\n",
       "2  2  0.32\n",
       "3  3  0.22"
      ]
     },
     "execution_count": 25,
     "metadata": {},
     "output_type": "execute_result"
    }
   ],
   "source": [
    "df = pd.DataFrame({'a':[0, 1, 2, 3], 'b': [0.1, 0.2, 0.32, 0.22]})\n",
    "df"
   ]
  },
  {
   "cell_type": "code",
   "execution_count": 47,
   "metadata": {
    "execution": {
     "iopub.execute_input": "2021-11-16T20:37:10.592654Z",
     "iopub.status.busy": "2021-11-16T20:37:10.592316Z",
     "iopub.status.idle": "2021-11-16T20:37:10.606669Z",
     "shell.execute_reply": "2021-11-16T20:37:10.605881Z",
     "shell.execute_reply.started": "2021-11-16T20:37:10.592619Z"
    },
    "tags": []
   },
   "outputs": [
    {
     "data": {
      "text/html": [
       "<div>\n",
       "<style scoped>\n",
       "    .dataframe tbody tr th:only-of-type {\n",
       "        vertical-align: middle;\n",
       "    }\n",
       "\n",
       "    .dataframe tbody tr th {\n",
       "        vertical-align: top;\n",
       "    }\n",
       "\n",
       "    .dataframe thead th {\n",
       "        text-align: right;\n",
       "    }\n",
       "</style>\n",
       "<table border=\"1\" class=\"dataframe\">\n",
       "  <thead>\n",
       "    <tr style=\"text-align: right;\">\n",
       "      <th></th>\n",
       "      <th>a</th>\n",
       "      <th>error</th>\n",
       "      <th>a_with_error</th>\n",
       "    </tr>\n",
       "  </thead>\n",
       "  <tbody>\n",
       "    <tr>\n",
       "      <th>0</th>\n",
       "      <td>0</td>\n",
       "      <td>0.10</td>\n",
       "      <td>0.00+/-0.10</td>\n",
       "    </tr>\n",
       "    <tr>\n",
       "      <th>1</th>\n",
       "      <td>1</td>\n",
       "      <td>0.20</td>\n",
       "      <td>1.00+/-0.20</td>\n",
       "    </tr>\n",
       "    <tr>\n",
       "      <th>2</th>\n",
       "      <td>2</td>\n",
       "      <td>0.32</td>\n",
       "      <td>2.00+/-0.32</td>\n",
       "    </tr>\n",
       "    <tr>\n",
       "      <th>3</th>\n",
       "      <td>3</td>\n",
       "      <td>0.22</td>\n",
       "      <td>3.00+/-0.22</td>\n",
       "    </tr>\n",
       "  </tbody>\n",
       "</table>\n",
       "</div>"
      ],
      "text/plain": [
       "   a  error a_with_error\n",
       "0  0   0.10  0.00+/-0.10\n",
       "1  1   0.20  1.00+/-0.20\n",
       "2  2   0.32  2.00+/-0.32\n",
       "3  3   0.22  3.00+/-0.22"
      ]
     },
     "execution_count": 47,
     "metadata": {},
     "output_type": "execute_result"
    }
   ],
   "source": [
    "df = pd.DataFrame({'a':[0, 1, 2, 3], 'error': [0.1, 0.2, 0.32, 0.22]})\n",
    "# df['a_with_error'] = ufloat(df['a'], df['b'])\n",
    "\n",
    "# a_with_errors = []\n",
    "# for i, row in df.iterrows():\n",
    "#     a_with_errors.append(ufloat(row['a'], row['error']))\n",
    "    \n",
    "# df['a_with_error'] = a_with_errors\n",
    "\n",
    "df['a_with_error'] = unumpy.uarray(df['a'], df['error'])\n",
    "\n",
    "df"
   ]
  },
  {
   "cell_type": "code",
   "execution_count": 32,
   "metadata": {
    "execution": {
     "iopub.execute_input": "2021-11-16T19:10:34.959247Z",
     "iopub.status.busy": "2021-11-16T19:10:34.958903Z",
     "iopub.status.idle": "2021-11-16T19:10:34.965419Z",
     "shell.execute_reply": "2021-11-16T19:10:34.964672Z",
     "shell.execute_reply.started": "2021-11-16T19:10:34.959214Z"
    },
    "tags": []
   },
   "outputs": [
    {
     "data": {
      "text/plain": [
       "6.0+/-0.4481071300481616"
      ]
     },
     "execution_count": 32,
     "metadata": {},
     "output_type": "execute_result"
    }
   ],
   "source": [
    "df['a_with_error'].sum()"
   ]
  },
  {
   "cell_type": "code",
   "execution_count": 54,
   "metadata": {
    "execution": {
     "iopub.execute_input": "2021-11-16T21:42:11.838288Z",
     "iopub.status.busy": "2021-11-16T21:42:11.837953Z",
     "iopub.status.idle": "2021-11-16T21:42:11.849542Z",
     "shell.execute_reply": "2021-11-16T21:42:11.848732Z",
     "shell.execute_reply.started": "2021-11-16T21:42:11.838255Z"
    },
    "tags": []
   },
   "outputs": [
    {
     "data": {
      "text/plain": [
       "0      0.0+/-0\n",
       "1    1.0+/-0.4\n",
       "2    4.0+/-1.3\n",
       "3    9.0+/-1.3\n",
       "Name: a_with_error_square, dtype: object"
      ]
     },
     "execution_count": 54,
     "metadata": {},
     "output_type": "execute_result"
    }
   ],
   "source": [
    "df['a_with_error_square'] = df['a_with_error']**2\n",
    "df['a_with_error_square']"
   ]
  },
  {
   "cell_type": "code",
   "execution_count": 45,
   "metadata": {
    "execution": {
     "iopub.execute_input": "2021-11-16T20:34:59.676104Z",
     "iopub.status.busy": "2021-11-16T20:34:59.675767Z",
     "iopub.status.idle": "2021-11-16T20:34:59.681970Z",
     "shell.execute_reply": "2021-11-16T20:34:59.681218Z",
     "shell.execute_reply.started": "2021-11-16T20:34:59.676069Z"
    },
    "tags": []
   },
   "outputs": [
    {
     "data": {
      "text/plain": [
       "array([0., 1., 4., 9.])"
      ]
     },
     "execution_count": 45,
     "metadata": {},
     "output_type": "execute_result"
    }
   ],
   "source": [
    "from uncertainties import unumpy\n",
    "\n",
    "unumpy.nominal_values(df['a_with_error_square'])\n"
   ]
  },
  {
   "cell_type": "code",
   "execution_count": 55,
   "metadata": {
    "execution": {
     "iopub.execute_input": "2021-11-16T21:42:17.148228Z",
     "iopub.status.busy": "2021-11-16T21:42:17.147891Z",
     "iopub.status.idle": "2021-11-16T21:42:17.154554Z",
     "shell.execute_reply": "2021-11-16T21:42:17.153750Z",
     "shell.execute_reply.started": "2021-11-16T21:42:17.148196Z"
    },
    "tags": []
   },
   "outputs": [
    {
     "data": {
      "text/plain": [
       "array([0.  , 0.4 , 1.28, 1.32])"
      ]
     },
     "execution_count": 55,
     "metadata": {},
     "output_type": "execute_result"
    }
   ],
   "source": [
    "unumpy.std_devs(df['a_with_error_square'])"
   ]
  },
  {
   "cell_type": "code",
   "execution_count": null,
   "metadata": {},
   "outputs": [],
   "source": []
  }
 ],
 "metadata": {
  "kernelspec": {
   "display_name": "Python 3",
   "language": "python",
   "name": "python3"
  },
  "language_info": {
   "codemirror_mode": {
    "name": "ipython",
    "version": 3
   },
   "file_extension": ".py",
   "mimetype": "text/x-python",
   "name": "python",
   "nbconvert_exporter": "python",
   "pygments_lexer": "ipython3",
   "version": "3.8.10"
  }
 },
 "nbformat": 4,
 "nbformat_minor": 4
}
