{
 "cells": [
  {
   "cell_type": "markdown",
   "metadata": {},
   "source": [
    "**Importing libraries**"
   ]
  },
  {
   "cell_type": "code",
   "execution_count": 7,
   "metadata": {
    "_cell_guid": "b1076dfc-b9ad-4769-8c92-a6c4dae69d19",
    "_uuid": "8f2839f25d086af736a60e9eeb907d3b93b6e0e5",
    "execution": {
     "iopub.execute_input": "2021-11-30T17:54:33.857282Z",
     "iopub.status.busy": "2021-11-30T17:54:33.856890Z",
     "iopub.status.idle": "2021-11-30T17:54:42.806580Z",
     "shell.execute_reply": "2021-11-30T17:54:42.805802Z",
     "shell.execute_reply.started": "2021-11-30T17:54:33.857253Z"
    },
    "tags": []
   },
   "outputs": [],
   "source": [
    "import numpy as np \n",
    "import pandas as pd \n",
    "import multiprocessing as multi\n",
    "import matplotlib.pyplot as plt\n",
    "import os\n",
    "from IPython.display import clear_output\n",
    "from scipy.optimize import curve_fit\n",
    "from lmfit.models import LinearModel\n",
    "from lmfit import Parameters\n",
    "import time\n",
    "import corner\n",
    "import linmix\n",
    "from astropy.cosmology import WMAP7 as cosmo_wmap7"
   ]
  },
  {
   "cell_type": "markdown",
   "metadata": {},
   "source": [
    "**Capturing name of the PC**"
   ]
  },
  {
   "cell_type": "code",
   "execution_count": 8,
   "metadata": {
    "execution": {
     "iopub.execute_input": "2021-11-30T17:54:42.807988Z",
     "iopub.status.busy": "2021-11-30T17:54:42.807797Z",
     "iopub.status.idle": "2021-11-30T17:54:42.938682Z",
     "shell.execute_reply": "2021-11-30T17:54:42.937538Z",
     "shell.execute_reply.started": "2021-11-30T17:54:42.807964Z"
    },
    "tags": []
   },
   "outputs": [],
   "source": [
    "%%capture PC_name \n",
    "!hostname"
   ]
  },
  {
   "cell_type": "markdown",
   "metadata": {},
   "source": [
    "**Setting notebook parameters**"
   ]
  },
  {
   "cell_type": "code",
   "execution_count": 34,
   "metadata": {
    "execution": {
     "iopub.execute_input": "2021-11-30T18:27:11.821953Z",
     "iopub.status.busy": "2021-11-30T18:27:11.821664Z",
     "iopub.status.idle": "2021-11-30T18:27:11.831297Z",
     "shell.execute_reply": "2021-11-30T18:27:11.830483Z",
     "shell.execute_reply.started": "2021-11-30T18:27:11.821917Z"
    },
    "tags": []
   },
   "outputs": [
    {
     "name": "stdout",
     "output_type": "stream",
     "text": [
      "arc10\n",
      "42\n"
     ]
    }
   ],
   "source": [
    "#setting dots per inch for images\n",
    "dpi = 90\n",
    "\n",
    "#setting number of processors for multiprocessing\n",
    "PC_name_str = PC_name.stdout[0:-2]\n",
    "\n",
    "if (PC_name_str == 'arc10'or PC_name_str == 'science11' or \n",
    "        PC_name_str == 'science10'):\n",
    "    cores = 42        \n",
    "#     cores = multi.cpu_count()\n",
    "    \n",
    "else:\n",
    "    cores = multi.cpu_count()\n",
    "\n",
    "print(PC_name_str)\n",
    "print(cores)"
   ]
  },
  {
   "cell_type": "markdown",
   "metadata": {},
   "source": [
    "**Defining constants**"
   ]
  },
  {
   "cell_type": "code",
   "execution_count": 85,
   "metadata": {
    "_cell_guid": "79c7e3d0-c299-4dcb-8224-4455121ee9b0",
    "_uuid": "d629ff2d2480ee46fbb7e2d37f6b5fab8052498a",
    "execution": {
     "iopub.execute_input": "2021-12-13T12:05:26.737264Z",
     "iopub.status.busy": "2021-12-13T12:05:26.736661Z",
     "iopub.status.idle": "2021-12-13T12:05:26.747894Z",
     "shell.execute_reply": "2021-12-13T12:05:26.747048Z",
     "shell.execute_reply.started": "2021-12-13T12:05:26.737156Z"
    },
    "tags": []
   },
   "outputs": [],
   "source": [
    "omega_m = 0.272            #matter density paratmeter from Komatsu et al. (2011) \n",
    "omega_l = 1 - omega_m      #vacuum density paratmeter assuming flat universe\n",
    "H_o = 70.4                 #Hubble constant in km s^−1 Mpc^−1 from Komatsu et al. (2011) \n",
    "h = 0.704\n",
    "\n",
    "# f = omega_m**0.545         #linear velocity growth rate from Tanimura et al. (2020)\n",
    "z = 0.42372720\n",
    "f = cosmo_wmap7.Om(z)**0.545         #linear velocity growth rate from Tanimura et al. (2020)\n",
    "\n"
   ]
  },
  {
   "cell_type": "markdown",
   "metadata": {},
   "source": [
    "**17 Nov 2021**  \n",
    "A:\n",
    "- Omega_m (z) scales with H(z)/H(0)\n",
    "- Even with using astropy, check the formula yourself"
   ]
  },
  {
   "cell_type": "code",
   "execution_count": 95,
   "metadata": {
    "execution": {
     "iopub.execute_input": "2021-12-14T13:03:10.626363Z",
     "iopub.status.busy": "2021-12-14T13:03:10.625554Z",
     "iopub.status.idle": "2021-12-14T13:03:10.636321Z",
     "shell.execute_reply": "2021-12-14T13:03:10.635380Z",
     "shell.execute_reply.started": "2021-12-14T13:03:10.626326Z"
    },
    "tags": []
   },
   "outputs": [
    {
     "data": {
      "text/plain": [
       "0.5187351829673176"
      ]
     },
     "execution_count": 95,
     "metadata": {},
     "output_type": "execute_result"
    }
   ],
   "source": [
    "cosmo_wmap7.Om(z)"
   ]
  },
  {
   "cell_type": "code",
   "execution_count": 40,
   "metadata": {
    "execution": {
     "iopub.execute_input": "2021-11-30T18:50:29.772039Z",
     "iopub.status.busy": "2021-11-30T18:50:29.771749Z",
     "iopub.status.idle": "2021-11-30T18:50:29.777291Z",
     "shell.execute_reply": "2021-11-30T18:50:29.776528Z",
     "shell.execute_reply.started": "2021-11-30T18:50:29.772011Z"
    },
    "tags": []
   },
   "outputs": [
    {
     "data": {
      "text/plain": [
       "0.4918583546888768"
      ]
     },
     "execution_count": 40,
     "metadata": {},
     "output_type": "execute_result"
    }
   ],
   "source": [
    "f"
   ]
  },
  {
   "cell_type": "code",
   "execution_count": 86,
   "metadata": {
    "execution": {
     "iopub.execute_input": "2021-12-13T12:05:30.788620Z",
     "iopub.status.busy": "2021-12-13T12:05:30.788382Z",
     "iopub.status.idle": "2021-12-13T12:05:30.793705Z",
     "shell.execute_reply": "2021-12-13T12:05:30.793208Z",
     "shell.execute_reply.started": "2021-12-13T12:05:30.788595Z"
    },
    "tags": []
   },
   "outputs": [
    {
     "data": {
      "text/plain": [
       "0.6992708252436964"
      ]
     },
     "execution_count": 86,
     "metadata": {},
     "output_type": "execute_result"
    }
   ],
   "source": [
    "f"
   ]
  },
  {
   "cell_type": "markdown",
   "metadata": {},
   "source": [
    "**Defining Functions**"
   ]
  },
  {
   "cell_type": "code",
   "execution_count": 13,
   "metadata": {
    "execution": {
     "iopub.execute_input": "2021-11-30T17:54:42.983820Z",
     "iopub.status.busy": "2021-11-30T17:54:42.983527Z",
     "iopub.status.idle": "2021-11-30T17:54:43.007031Z",
     "shell.execute_reply": "2021-11-30T17:54:43.006403Z",
     "shell.execute_reply.started": "2021-11-30T17:54:42.983795Z"
    },
    "tags": []
   },
   "outputs": [],
   "source": [
    "def H(z):                           #hubble parameter (in km s^-1 Mpc^-1) using Eq. 4.33 in Peter's book\n",
    "    return np.sqrt( H_o**2 * ( (1+z)**3 * omega_m + omega_l ) ) \n"
   ]
  },
  {
   "cell_type": "markdown",
   "metadata": {},
   "source": [
    "**Reading galaxies dataset**"
   ]
  },
  {
   "cell_type": "code",
   "execution_count": 14,
   "metadata": {
    "execution": {
     "iopub.execute_input": "2021-11-30T17:54:43.009067Z",
     "iopub.status.busy": "2021-11-30T17:54:43.008887Z",
     "iopub.status.idle": "2021-11-30T17:54:43.365001Z",
     "shell.execute_reply": "2021-11-30T17:54:43.364318Z",
     "shell.execute_reply.started": "2021-11-30T17:54:43.009044Z"
    },
    "tags": []
   },
   "outputs": [
    {
     "name": "stdout",
     "output_type": "stream",
     "text": [
      "CPU times: user 133 ms, sys: 111 ms, total: 244 ms\n",
      "Wall time: 320 ms\n"
     ]
    },
    {
     "data": {
      "text/html": [
       "<div>\n",
       "<style scoped>\n",
       "    .dataframe tbody tr th:only-of-type {\n",
       "        vertical-align: middle;\n",
       "    }\n",
       "\n",
       "    .dataframe tbody tr th {\n",
       "        vertical-align: top;\n",
       "    }\n",
       "\n",
       "    .dataframe thead th {\n",
       "        text-align: right;\n",
       "    }\n",
       "</style>\n",
       "<table border=\"1\" class=\"dataframe\">\n",
       "  <thead>\n",
       "    <tr style=\"text-align: right;\">\n",
       "      <th></th>\n",
       "      <th>x[kpc/h]</th>\n",
       "      <th>y[kpc/h]</th>\n",
       "      <th>z[kpc/h]</th>\n",
       "      <th>m[Msol/h]</th>\n",
       "      <th>host</th>\n",
       "      <th>dist[kpc/h]</th>\n",
       "      <th>vx[km/s]</th>\n",
       "      <th>vy[km/s]</th>\n",
       "      <th>vz[km/s]</th>\n",
       "    </tr>\n",
       "  </thead>\n",
       "  <tbody>\n",
       "    <tr>\n",
       "      <th>count</th>\n",
       "      <td>93097.000000</td>\n",
       "      <td>93097.000000</td>\n",
       "      <td>93097.000000</td>\n",
       "      <td>9.309700e+04</td>\n",
       "      <td>93097.000000</td>\n",
       "      <td>93097.000000</td>\n",
       "      <td>93097.000000</td>\n",
       "      <td>93097.000000</td>\n",
       "      <td>93097.000000</td>\n",
       "    </tr>\n",
       "    <tr>\n",
       "      <th>mean</th>\n",
       "      <td>325576.133087</td>\n",
       "      <td>322500.028738</td>\n",
       "      <td>320613.762863</td>\n",
       "      <td>3.993206e+11</td>\n",
       "      <td>36294.172057</td>\n",
       "      <td>49.532974</td>\n",
       "      <td>0.763965</td>\n",
       "      <td>0.349477</td>\n",
       "      <td>-0.509183</td>\n",
       "    </tr>\n",
       "    <tr>\n",
       "      <th>std</th>\n",
       "      <td>184863.273960</td>\n",
       "      <td>182799.587421</td>\n",
       "      <td>183249.915097</td>\n",
       "      <td>3.995129e+11</td>\n",
       "      <td>21403.382524</td>\n",
       "      <td>179.779705</td>\n",
       "      <td>351.345586</td>\n",
       "      <td>343.572230</td>\n",
       "      <td>328.125457</td>\n",
       "    </tr>\n",
       "    <tr>\n",
       "      <th>min</th>\n",
       "      <td>1.864417</td>\n",
       "      <td>10.164207</td>\n",
       "      <td>0.260974</td>\n",
       "      <td>1.800010e+11</td>\n",
       "      <td>0.000000</td>\n",
       "      <td>0.000000</td>\n",
       "      <td>-2896.388700</td>\n",
       "      <td>-2323.086700</td>\n",
       "      <td>-2275.444800</td>\n",
       "    </tr>\n",
       "    <tr>\n",
       "      <th>25%</th>\n",
       "      <td>163866.950000</td>\n",
       "      <td>166201.380000</td>\n",
       "      <td>162514.560000</td>\n",
       "      <td>2.161480e+11</td>\n",
       "      <td>15329.000000</td>\n",
       "      <td>0.000000</td>\n",
       "      <td>-219.363920</td>\n",
       "      <td>-215.157970</td>\n",
       "      <td>-201.740720</td>\n",
       "    </tr>\n",
       "    <tr>\n",
       "      <th>50%</th>\n",
       "      <td>332449.620000</td>\n",
       "      <td>329260.160000</td>\n",
       "      <td>319925.780000</td>\n",
       "      <td>2.784900e+11</td>\n",
       "      <td>41555.000000</td>\n",
       "      <td>0.000000</td>\n",
       "      <td>-2.822351</td>\n",
       "      <td>2.646382</td>\n",
       "      <td>-3.028148</td>\n",
       "    </tr>\n",
       "    <tr>\n",
       "      <th>75%</th>\n",
       "      <td>483949.000000</td>\n",
       "      <td>475466.120000</td>\n",
       "      <td>478698.410000</td>\n",
       "      <td>4.192930e+11</td>\n",
       "      <td>57237.000000</td>\n",
       "      <td>0.000000</td>\n",
       "      <td>216.770710</td>\n",
       "      <td>214.257250</td>\n",
       "      <td>200.506210</td>\n",
       "    </tr>\n",
       "    <tr>\n",
       "      <th>max</th>\n",
       "      <td>639996.190000</td>\n",
       "      <td>639980.940000</td>\n",
       "      <td>639993.120000</td>\n",
       "      <td>1.077460e+13</td>\n",
       "      <td>57237.000000</td>\n",
       "      <td>2471.570000</td>\n",
       "      <td>2423.330800</td>\n",
       "      <td>3048.129900</td>\n",
       "      <td>2638.449000</td>\n",
       "    </tr>\n",
       "  </tbody>\n",
       "</table>\n",
       "</div>"
      ],
      "text/plain": [
       "            x[kpc/h]       y[kpc/h]       z[kpc/h]     m[Msol/h]  \\\n",
       "count   93097.000000   93097.000000   93097.000000  9.309700e+04   \n",
       "mean   325576.133087  322500.028738  320613.762863  3.993206e+11   \n",
       "std    184863.273960  182799.587421  183249.915097  3.995129e+11   \n",
       "min         1.864417      10.164207       0.260974  1.800010e+11   \n",
       "25%    163866.950000  166201.380000  162514.560000  2.161480e+11   \n",
       "50%    332449.620000  329260.160000  319925.780000  2.784900e+11   \n",
       "75%    483949.000000  475466.120000  478698.410000  4.192930e+11   \n",
       "max    639996.190000  639980.940000  639993.120000  1.077460e+13   \n",
       "\n",
       "               host   dist[kpc/h]      vx[km/s]      vy[km/s]      vz[km/s]  \n",
       "count  93097.000000  93097.000000  93097.000000  93097.000000  93097.000000  \n",
       "mean   36294.172057     49.532974      0.763965      0.349477     -0.509183  \n",
       "std    21403.382524    179.779705    351.345586    343.572230    328.125457  \n",
       "min        0.000000      0.000000  -2896.388700  -2323.086700  -2275.444800  \n",
       "25%    15329.000000      0.000000   -219.363920   -215.157970   -201.740720  \n",
       "50%    41555.000000      0.000000     -2.822351      2.646382     -3.028148  \n",
       "75%    57237.000000      0.000000    216.770710    214.257250    200.506210  \n",
       "max    57237.000000   2471.570000   2423.330800   3048.129900   2638.449000  "
      ]
     },
     "execution_count": 14,
     "metadata": {},
     "output_type": "execute_result"
    }
   ],
   "source": [
    "%%time\n",
    "\n",
    "# data_address = '../input/magneticumsnap027z042-massfiltered/'\n",
    "data_address = 'Data/'\n",
    "df_gal = pd.read_csv(data_address + 'massive_galaxies_10_11.25.csv')      #massive_galaxies.csv contains galaxies with mass greater than 1.8 ×10^{11} h^{−1} M_sun as done by Tanimura et al. (2020)\n",
    "df_gal.describe()"
   ]
  },
  {
   "cell_type": "markdown",
   "metadata": {},
   "source": [
    "**Creating big simulation box (1920 x 1920 x 1920 h$^{-1}$Mpc) for galaxies**"
   ]
  },
  {
   "cell_type": "code",
   "execution_count": 15,
   "metadata": {
    "execution": {
     "iopub.execute_input": "2021-11-30T17:54:43.366576Z",
     "iopub.status.busy": "2021-11-30T17:54:43.366394Z",
     "iopub.status.idle": "2021-11-30T17:54:44.685530Z",
     "shell.execute_reply": "2021-11-30T17:54:44.685026Z",
     "shell.execute_reply.started": "2021-11-30T17:54:43.366552Z"
    },
    "tags": []
   },
   "outputs": [
    {
     "name": "stdout",
     "output_type": "stream",
     "text": [
      "CPU times: user 1.06 s, sys: 245 ms, total: 1.3 s\n",
      "Wall time: 1.3 s\n"
     ]
    },
    {
     "data": {
      "text/html": [
       "<div>\n",
       "<style scoped>\n",
       "    .dataframe tbody tr th:only-of-type {\n",
       "        vertical-align: middle;\n",
       "    }\n",
       "\n",
       "    .dataframe tbody tr th {\n",
       "        vertical-align: top;\n",
       "    }\n",
       "\n",
       "    .dataframe thead th {\n",
       "        text-align: right;\n",
       "    }\n",
       "</style>\n",
       "<table border=\"1\" class=\"dataframe\">\n",
       "  <thead>\n",
       "    <tr style=\"text-align: right;\">\n",
       "      <th></th>\n",
       "      <th>x[kpc/h]</th>\n",
       "      <th>y[kpc/h]</th>\n",
       "      <th>z[kpc/h]</th>\n",
       "      <th>m[Msol/h]</th>\n",
       "      <th>host</th>\n",
       "      <th>dist[kpc/h]</th>\n",
       "      <th>vx[km/s]</th>\n",
       "      <th>vy[km/s]</th>\n",
       "      <th>vz[km/s]</th>\n",
       "    </tr>\n",
       "  </thead>\n",
       "  <tbody>\n",
       "    <tr>\n",
       "      <th>count</th>\n",
       "      <td>2.513619e+06</td>\n",
       "      <td>2.513619e+06</td>\n",
       "      <td>2.513619e+06</td>\n",
       "      <td>2.513619e+06</td>\n",
       "      <td>2.513619e+06</td>\n",
       "      <td>2.513619e+06</td>\n",
       "      <td>2.513619e+06</td>\n",
       "      <td>2.513619e+06</td>\n",
       "      <td>2.513619e+06</td>\n",
       "    </tr>\n",
       "    <tr>\n",
       "      <th>mean</th>\n",
       "      <td>9.655761e+05</td>\n",
       "      <td>9.625000e+05</td>\n",
       "      <td>9.606138e+05</td>\n",
       "      <td>3.993206e+11</td>\n",
       "      <td>3.629417e+04</td>\n",
       "      <td>4.953297e+01</td>\n",
       "      <td>7.639653e-01</td>\n",
       "      <td>3.494774e-01</td>\n",
       "      <td>-5.091831e-01</td>\n",
       "    </tr>\n",
       "    <tr>\n",
       "      <th>std</th>\n",
       "      <td>5.542931e+05</td>\n",
       "      <td>5.536083e+05</td>\n",
       "      <td>5.537571e+05</td>\n",
       "      <td>3.995109e+11</td>\n",
       "      <td>2.140327e+04</td>\n",
       "      <td>1.797788e+02</td>\n",
       "      <td>3.513438e+02</td>\n",
       "      <td>3.435705e+02</td>\n",
       "      <td>3.281238e+02</td>\n",
       "    </tr>\n",
       "    <tr>\n",
       "      <th>min</th>\n",
       "      <td>1.864417e+00</td>\n",
       "      <td>1.016421e+01</td>\n",
       "      <td>2.609741e-01</td>\n",
       "      <td>1.800010e+11</td>\n",
       "      <td>0.000000e+00</td>\n",
       "      <td>0.000000e+00</td>\n",
       "      <td>-2.896389e+03</td>\n",
       "      <td>-2.323087e+03</td>\n",
       "      <td>-2.275445e+03</td>\n",
       "    </tr>\n",
       "    <tr>\n",
       "      <th>25%</th>\n",
       "      <td>4.839490e+05</td>\n",
       "      <td>4.754661e+05</td>\n",
       "      <td>4.786984e+05</td>\n",
       "      <td>2.161480e+11</td>\n",
       "      <td>1.532900e+04</td>\n",
       "      <td>0.000000e+00</td>\n",
       "      <td>-2.193639e+02</td>\n",
       "      <td>-2.151580e+02</td>\n",
       "      <td>-2.017407e+02</td>\n",
       "    </tr>\n",
       "    <tr>\n",
       "      <th>50%</th>\n",
       "      <td>9.724496e+05</td>\n",
       "      <td>9.692602e+05</td>\n",
       "      <td>9.599258e+05</td>\n",
       "      <td>2.784900e+11</td>\n",
       "      <td>4.155500e+04</td>\n",
       "      <td>0.000000e+00</td>\n",
       "      <td>-2.822351e+00</td>\n",
       "      <td>2.646382e+00</td>\n",
       "      <td>-3.028148e+00</td>\n",
       "    </tr>\n",
       "    <tr>\n",
       "      <th>75%</th>\n",
       "      <td>1.443867e+06</td>\n",
       "      <td>1.446201e+06</td>\n",
       "      <td>1.442515e+06</td>\n",
       "      <td>4.192930e+11</td>\n",
       "      <td>5.723700e+04</td>\n",
       "      <td>0.000000e+00</td>\n",
       "      <td>2.167707e+02</td>\n",
       "      <td>2.142572e+02</td>\n",
       "      <td>2.005062e+02</td>\n",
       "    </tr>\n",
       "    <tr>\n",
       "      <th>max</th>\n",
       "      <td>1.919996e+06</td>\n",
       "      <td>1.919981e+06</td>\n",
       "      <td>1.919993e+06</td>\n",
       "      <td>1.077460e+13</td>\n",
       "      <td>5.723700e+04</td>\n",
       "      <td>2.471570e+03</td>\n",
       "      <td>2.423331e+03</td>\n",
       "      <td>3.048130e+03</td>\n",
       "      <td>2.638449e+03</td>\n",
       "    </tr>\n",
       "  </tbody>\n",
       "</table>\n",
       "</div>"
      ],
      "text/plain": [
       "           x[kpc/h]      y[kpc/h]      z[kpc/h]     m[Msol/h]          host  \\\n",
       "count  2.513619e+06  2.513619e+06  2.513619e+06  2.513619e+06  2.513619e+06   \n",
       "mean   9.655761e+05  9.625000e+05  9.606138e+05  3.993206e+11  3.629417e+04   \n",
       "std    5.542931e+05  5.536083e+05  5.537571e+05  3.995109e+11  2.140327e+04   \n",
       "min    1.864417e+00  1.016421e+01  2.609741e-01  1.800010e+11  0.000000e+00   \n",
       "25%    4.839490e+05  4.754661e+05  4.786984e+05  2.161480e+11  1.532900e+04   \n",
       "50%    9.724496e+05  9.692602e+05  9.599258e+05  2.784900e+11  4.155500e+04   \n",
       "75%    1.443867e+06  1.446201e+06  1.442515e+06  4.192930e+11  5.723700e+04   \n",
       "max    1.919996e+06  1.919981e+06  1.919993e+06  1.077460e+13  5.723700e+04   \n",
       "\n",
       "        dist[kpc/h]      vx[km/s]      vy[km/s]      vz[km/s]  \n",
       "count  2.513619e+06  2.513619e+06  2.513619e+06  2.513619e+06  \n",
       "mean   4.953297e+01  7.639653e-01  3.494774e-01 -5.091831e-01  \n",
       "std    1.797788e+02  3.513438e+02  3.435705e+02  3.281238e+02  \n",
       "min    0.000000e+00 -2.896389e+03 -2.323087e+03 -2.275445e+03  \n",
       "25%    0.000000e+00 -2.193639e+02 -2.151580e+02 -2.017407e+02  \n",
       "50%    0.000000e+00 -2.822351e+00  2.646382e+00 -3.028148e+00  \n",
       "75%    0.000000e+00  2.167707e+02  2.142572e+02  2.005062e+02  \n",
       "max    2.471570e+03  2.423331e+03  3.048130e+03  2.638449e+03  "
      ]
     },
     "execution_count": 15,
     "metadata": {},
     "output_type": "execute_result"
    }
   ],
   "source": [
    "%%time\n",
    "\n",
    "df_gal_temp = df_gal.copy()\n",
    "\n",
    "df_gal_big = pd.DataFrame()\n",
    "\n",
    "for k in range(3):\n",
    "    for i in range(3):\n",
    "        for j in range(0,3):\n",
    "\n",
    "            df_gal_temp['x[kpc/h]'] = df_gal['x[kpc/h]'] + (640000 * i)\n",
    "            df_gal_temp['y[kpc/h]'] = df_gal['y[kpc/h]'] + (640000 * j)\n",
    "            df_gal_temp['z[kpc/h]'] = df_gal['z[kpc/h]'] + (640000 * k)\n",
    "\n",
    "            df_gal_big = df_gal_big.append(df_gal_temp)\n",
    "\n",
    "df_gal_big.describe()"
   ]
  },
  {
   "cell_type": "markdown",
   "metadata": {},
   "source": [
    "**Reading clusters dataset**"
   ]
  },
  {
   "cell_type": "code",
   "execution_count": 16,
   "metadata": {
    "execution": {
     "iopub.execute_input": "2021-11-30T17:54:44.686568Z",
     "iopub.status.busy": "2021-11-30T17:54:44.686390Z",
     "iopub.status.idle": "2021-11-30T17:54:44.761639Z",
     "shell.execute_reply": "2021-11-30T17:54:44.760941Z",
     "shell.execute_reply.started": "2021-11-30T17:54:44.686544Z"
    },
    "tags": []
   },
   "outputs": [
    {
     "data": {
      "text/html": [
       "<div>\n",
       "<style scoped>\n",
       "    .dataframe tbody tr th:only-of-type {\n",
       "        vertical-align: middle;\n",
       "    }\n",
       "\n",
       "    .dataframe tbody tr th {\n",
       "        vertical-align: top;\n",
       "    }\n",
       "\n",
       "    .dataframe thead th {\n",
       "        text-align: right;\n",
       "    }\n",
       "</style>\n",
       "<table border=\"1\" class=\"dataframe\">\n",
       "  <thead>\n",
       "    <tr style=\"text-align: right;\">\n",
       "      <th></th>\n",
       "      <th>x[kpc/h]</th>\n",
       "      <th>y[kpc/h]</th>\n",
       "      <th>z[kpc/h]</th>\n",
       "      <th>m500c[Msol/h]</th>\n",
       "      <th>vx[km/s]</th>\n",
       "      <th>vy[km/s]</th>\n",
       "      <th>vz[km/s]</th>\n",
       "    </tr>\n",
       "  </thead>\n",
       "  <tbody>\n",
       "    <tr>\n",
       "      <th>count</th>\n",
       "      <td>6080.000000</td>\n",
       "      <td>6080.000000</td>\n",
       "      <td>6080.000000</td>\n",
       "      <td>6.080000e+03</td>\n",
       "      <td>6080.000000</td>\n",
       "      <td>6080.000000</td>\n",
       "      <td>6080.000000</td>\n",
       "    </tr>\n",
       "    <tr>\n",
       "      <th>mean</th>\n",
       "      <td>326416.401838</td>\n",
       "      <td>322055.402286</td>\n",
       "      <td>321308.240244</td>\n",
       "      <td>6.356245e+13</td>\n",
       "      <td>2.109102</td>\n",
       "      <td>-1.647297</td>\n",
       "      <td>-4.296055</td>\n",
       "    </tr>\n",
       "    <tr>\n",
       "      <th>std</th>\n",
       "      <td>186021.550694</td>\n",
       "      <td>182650.899538</td>\n",
       "      <td>183665.854310</td>\n",
       "      <td>4.851698e+13</td>\n",
       "      <td>316.064539</td>\n",
       "      <td>306.226537</td>\n",
       "      <td>286.454388</td>\n",
       "    </tr>\n",
       "    <tr>\n",
       "      <th>min</th>\n",
       "      <td>19.163288</td>\n",
       "      <td>152.653880</td>\n",
       "      <td>87.370949</td>\n",
       "      <td>3.162340e+13</td>\n",
       "      <td>-1179.530000</td>\n",
       "      <td>-1163.520000</td>\n",
       "      <td>-1104.790000</td>\n",
       "    </tr>\n",
       "    <tr>\n",
       "      <th>25%</th>\n",
       "      <td>160978.575000</td>\n",
       "      <td>164793.430000</td>\n",
       "      <td>161863.925000</td>\n",
       "      <td>3.795035e+13</td>\n",
       "      <td>-200.229000</td>\n",
       "      <td>-205.139250</td>\n",
       "      <td>-190.806000</td>\n",
       "    </tr>\n",
       "    <tr>\n",
       "      <th>50%</th>\n",
       "      <td>338884.565000</td>\n",
       "      <td>333274.345000</td>\n",
       "      <td>322110.075000</td>\n",
       "      <td>4.801630e+13</td>\n",
       "      <td>-3.619450</td>\n",
       "      <td>1.969450</td>\n",
       "      <td>-8.055475</td>\n",
       "    </tr>\n",
       "    <tr>\n",
       "      <th>75%</th>\n",
       "      <td>486227.747500</td>\n",
       "      <td>473556.765000</td>\n",
       "      <td>478893.610000</td>\n",
       "      <td>6.945502e+13</td>\n",
       "      <td>206.816750</td>\n",
       "      <td>207.755750</td>\n",
       "      <td>181.532000</td>\n",
       "    </tr>\n",
       "    <tr>\n",
       "      <th>max</th>\n",
       "      <td>639887.560000</td>\n",
       "      <td>639933.380000</td>\n",
       "      <td>639848.380000</td>\n",
       "      <td>7.438200e+14</td>\n",
       "      <td>1197.640000</td>\n",
       "      <td>1164.960000</td>\n",
       "      <td>1201.260000</td>\n",
       "    </tr>\n",
       "  </tbody>\n",
       "</table>\n",
       "</div>"
      ],
      "text/plain": [
       "            x[kpc/h]       y[kpc/h]       z[kpc/h]  m500c[Msol/h]  \\\n",
       "count    6080.000000    6080.000000    6080.000000   6.080000e+03   \n",
       "mean   326416.401838  322055.402286  321308.240244   6.356245e+13   \n",
       "std    186021.550694  182650.899538  183665.854310   4.851698e+13   \n",
       "min        19.163288     152.653880      87.370949   3.162340e+13   \n",
       "25%    160978.575000  164793.430000  161863.925000   3.795035e+13   \n",
       "50%    338884.565000  333274.345000  322110.075000   4.801630e+13   \n",
       "75%    486227.747500  473556.765000  478893.610000   6.945502e+13   \n",
       "max    639887.560000  639933.380000  639848.380000   7.438200e+14   \n",
       "\n",
       "          vx[km/s]     vy[km/s]     vz[km/s]  \n",
       "count  6080.000000  6080.000000  6080.000000  \n",
       "mean      2.109102    -1.647297    -4.296055  \n",
       "std     316.064539   306.226537   286.454388  \n",
       "min   -1179.530000 -1163.520000 -1104.790000  \n",
       "25%    -200.229000  -205.139250  -190.806000  \n",
       "50%      -3.619450     1.969450    -8.055475  \n",
       "75%     206.816750   207.755750   181.532000  \n",
       "max    1197.640000  1164.960000  1201.260000  "
      ]
     },
     "execution_count": 16,
     "metadata": {},
     "output_type": "execute_result"
    }
   ],
   "source": [
    "df_clusters_orig = pd.read_csv(data_address + 'massive_clusters.csv', \n",
    "                          usecols = ['x[kpc/h]', 'y[kpc/h]', 'z[kpc/h]', 'm500c[Msol/h]', 'vx[km/s]', 'vy[km/s]', 'vz[km/s]'    ])  #massive_clusters.csv contains clusters with M_500c greater than 10^13.5 h^{-1} M_sun as done by Tanimura et al. (2020)\n",
    "\n",
    "df_clusters_orig.describe()"
   ]
  },
  {
   "cell_type": "markdown",
   "metadata": {},
   "source": [
    "**Creating big simulation box (1920 x 1920 x 1920 h$^{-1}$Mpc) for clusters**"
   ]
  },
  {
   "cell_type": "code",
   "execution_count": 17,
   "metadata": {
    "execution": {
     "iopub.execute_input": "2021-11-30T17:54:44.762815Z",
     "iopub.status.busy": "2021-11-30T17:54:44.762631Z",
     "iopub.status.idle": "2021-11-30T17:54:44.886551Z",
     "shell.execute_reply": "2021-11-30T17:54:44.885871Z",
     "shell.execute_reply.started": "2021-11-30T17:54:44.762791Z"
    },
    "tags": []
   },
   "outputs": [
    {
     "data": {
      "text/html": [
       "<div>\n",
       "<style scoped>\n",
       "    .dataframe tbody tr th:only-of-type {\n",
       "        vertical-align: middle;\n",
       "    }\n",
       "\n",
       "    .dataframe tbody tr th {\n",
       "        vertical-align: top;\n",
       "    }\n",
       "\n",
       "    .dataframe thead th {\n",
       "        text-align: right;\n",
       "    }\n",
       "</style>\n",
       "<table border=\"1\" class=\"dataframe\">\n",
       "  <thead>\n",
       "    <tr style=\"text-align: right;\">\n",
       "      <th></th>\n",
       "      <th>x[kpc/h]</th>\n",
       "      <th>y[kpc/h]</th>\n",
       "      <th>z[kpc/h]</th>\n",
       "      <th>m500c[Msol/h]</th>\n",
       "      <th>vx[km/s]</th>\n",
       "      <th>vy[km/s]</th>\n",
       "      <th>vz[km/s]</th>\n",
       "    </tr>\n",
       "  </thead>\n",
       "  <tbody>\n",
       "    <tr>\n",
       "      <th>count</th>\n",
       "      <td>1.641600e+05</td>\n",
       "      <td>1.641600e+05</td>\n",
       "      <td>1.641600e+05</td>\n",
       "      <td>1.641600e+05</td>\n",
       "      <td>164160.000000</td>\n",
       "      <td>164160.000000</td>\n",
       "      <td>164160.000000</td>\n",
       "    </tr>\n",
       "    <tr>\n",
       "      <th>mean</th>\n",
       "      <td>9.664164e+05</td>\n",
       "      <td>9.620554e+05</td>\n",
       "      <td>9.613082e+05</td>\n",
       "      <td>6.356245e+13</td>\n",
       "      <td>2.109102</td>\n",
       "      <td>-1.647297</td>\n",
       "      <td>-4.296055</td>\n",
       "    </tr>\n",
       "    <tr>\n",
       "      <th>std</th>\n",
       "      <td>5.546773e+05</td>\n",
       "      <td>5.535561e+05</td>\n",
       "      <td>5.538918e+05</td>\n",
       "      <td>4.851314e+13</td>\n",
       "      <td>316.039508</td>\n",
       "      <td>306.202286</td>\n",
       "      <td>286.431703</td>\n",
       "    </tr>\n",
       "    <tr>\n",
       "      <th>min</th>\n",
       "      <td>1.916329e+01</td>\n",
       "      <td>1.526539e+02</td>\n",
       "      <td>8.737095e+01</td>\n",
       "      <td>3.162340e+13</td>\n",
       "      <td>-1179.530000</td>\n",
       "      <td>-1163.520000</td>\n",
       "      <td>-1104.790000</td>\n",
       "    </tr>\n",
       "    <tr>\n",
       "      <th>25%</th>\n",
       "      <td>4.863366e+05</td>\n",
       "      <td>4.736062e+05</td>\n",
       "      <td>4.789278e+05</td>\n",
       "      <td>3.795035e+13</td>\n",
       "      <td>-200.229000</td>\n",
       "      <td>-205.139250</td>\n",
       "      <td>-190.806000</td>\n",
       "    </tr>\n",
       "    <tr>\n",
       "      <th>50%</th>\n",
       "      <td>9.788846e+05</td>\n",
       "      <td>9.732743e+05</td>\n",
       "      <td>9.621101e+05</td>\n",
       "      <td>4.801630e+13</td>\n",
       "      <td>-3.619450</td>\n",
       "      <td>1.969450</td>\n",
       "      <td>-8.055475</td>\n",
       "    </tr>\n",
       "    <tr>\n",
       "      <th>75%</th>\n",
       "      <td>1.440918e+06</td>\n",
       "      <td>1.444771e+06</td>\n",
       "      <td>1.441655e+06</td>\n",
       "      <td>6.945502e+13</td>\n",
       "      <td>206.816750</td>\n",
       "      <td>207.755750</td>\n",
       "      <td>181.532000</td>\n",
       "    </tr>\n",
       "    <tr>\n",
       "      <th>max</th>\n",
       "      <td>1.919888e+06</td>\n",
       "      <td>1.919933e+06</td>\n",
       "      <td>1.919848e+06</td>\n",
       "      <td>7.438200e+14</td>\n",
       "      <td>1197.640000</td>\n",
       "      <td>1164.960000</td>\n",
       "      <td>1201.260000</td>\n",
       "    </tr>\n",
       "  </tbody>\n",
       "</table>\n",
       "</div>"
      ],
      "text/plain": [
       "           x[kpc/h]      y[kpc/h]      z[kpc/h]  m500c[Msol/h]       vx[km/s]  \\\n",
       "count  1.641600e+05  1.641600e+05  1.641600e+05   1.641600e+05  164160.000000   \n",
       "mean   9.664164e+05  9.620554e+05  9.613082e+05   6.356245e+13       2.109102   \n",
       "std    5.546773e+05  5.535561e+05  5.538918e+05   4.851314e+13     316.039508   \n",
       "min    1.916329e+01  1.526539e+02  8.737095e+01   3.162340e+13   -1179.530000   \n",
       "25%    4.863366e+05  4.736062e+05  4.789278e+05   3.795035e+13    -200.229000   \n",
       "50%    9.788846e+05  9.732743e+05  9.621101e+05   4.801630e+13      -3.619450   \n",
       "75%    1.440918e+06  1.444771e+06  1.441655e+06   6.945502e+13     206.816750   \n",
       "max    1.919888e+06  1.919933e+06  1.919848e+06   7.438200e+14    1197.640000   \n",
       "\n",
       "            vy[km/s]       vz[km/s]  \n",
       "count  164160.000000  164160.000000  \n",
       "mean       -1.647297      -4.296055  \n",
       "std       306.202286     286.431703  \n",
       "min     -1163.520000   -1104.790000  \n",
       "25%      -205.139250    -190.806000  \n",
       "50%         1.969450      -8.055475  \n",
       "75%       207.755750     181.532000  \n",
       "max      1164.960000    1201.260000  "
      ]
     },
     "execution_count": 17,
     "metadata": {},
     "output_type": "execute_result"
    }
   ],
   "source": [
    "df_clusters_temp = df_clusters_orig.copy()\n",
    "\n",
    "df_clusters_big = pd.DataFrame()\n",
    "\n",
    "for k in range(3):\n",
    "    for i in range(3):\n",
    "        for j in range(0,3):\n",
    "\n",
    "            df_clusters_temp['x[kpc/h]'] = df_clusters_orig['x[kpc/h]'] + (640000 * i)\n",
    "            df_clusters_temp['y[kpc/h]'] = df_clusters_orig['y[kpc/h]'] + (640000 * j)\n",
    "            df_clusters_temp['z[kpc/h]'] = df_clusters_orig['z[kpc/h]'] + (640000 * k)\n",
    "\n",
    "            df_clusters_big = df_clusters_big.append(df_clusters_temp)\n",
    "\n",
    "df_clusters_big.describe()"
   ]
  },
  {
   "cell_type": "markdown",
   "metadata": {},
   "source": [
    "**Extracting clusters present in central region from 640 h$^{-1}$Mpc to 1280 h$^{-1}$Mpc**"
   ]
  },
  {
   "cell_type": "code",
   "execution_count": 18,
   "metadata": {
    "execution": {
     "iopub.execute_input": "2021-11-30T17:54:44.887826Z",
     "iopub.status.busy": "2021-11-30T17:54:44.887639Z",
     "iopub.status.idle": "2021-11-30T17:54:44.919839Z",
     "shell.execute_reply": "2021-11-30T17:54:44.919309Z",
     "shell.execute_reply.started": "2021-11-30T17:54:44.887802Z"
    },
    "tags": []
   },
   "outputs": [
    {
     "data": {
      "text/html": [
       "<div>\n",
       "<style scoped>\n",
       "    .dataframe tbody tr th:only-of-type {\n",
       "        vertical-align: middle;\n",
       "    }\n",
       "\n",
       "    .dataframe tbody tr th {\n",
       "        vertical-align: top;\n",
       "    }\n",
       "\n",
       "    .dataframe thead th {\n",
       "        text-align: right;\n",
       "    }\n",
       "</style>\n",
       "<table border=\"1\" class=\"dataframe\">\n",
       "  <thead>\n",
       "    <tr style=\"text-align: right;\">\n",
       "      <th></th>\n",
       "      <th>x[kpc/h]</th>\n",
       "      <th>y[kpc/h]</th>\n",
       "      <th>z[kpc/h]</th>\n",
       "      <th>m500c[Msol/h]</th>\n",
       "      <th>vx[km/s]</th>\n",
       "      <th>vy[km/s]</th>\n",
       "      <th>vz[km/s]</th>\n",
       "    </tr>\n",
       "  </thead>\n",
       "  <tbody>\n",
       "    <tr>\n",
       "      <th>count</th>\n",
       "      <td>6.080000e+03</td>\n",
       "      <td>6.080000e+03</td>\n",
       "      <td>6.080000e+03</td>\n",
       "      <td>6.080000e+03</td>\n",
       "      <td>6080.000000</td>\n",
       "      <td>6080.000000</td>\n",
       "      <td>6080.000000</td>\n",
       "    </tr>\n",
       "    <tr>\n",
       "      <th>mean</th>\n",
       "      <td>9.664164e+05</td>\n",
       "      <td>9.620554e+05</td>\n",
       "      <td>9.613082e+05</td>\n",
       "      <td>6.356245e+13</td>\n",
       "      <td>2.109102</td>\n",
       "      <td>-1.647297</td>\n",
       "      <td>-4.296055</td>\n",
       "    </tr>\n",
       "    <tr>\n",
       "      <th>std</th>\n",
       "      <td>1.860216e+05</td>\n",
       "      <td>1.826509e+05</td>\n",
       "      <td>1.836659e+05</td>\n",
       "      <td>4.851698e+13</td>\n",
       "      <td>316.064539</td>\n",
       "      <td>306.226537</td>\n",
       "      <td>286.454388</td>\n",
       "    </tr>\n",
       "    <tr>\n",
       "      <th>min</th>\n",
       "      <td>6.400192e+05</td>\n",
       "      <td>6.401527e+05</td>\n",
       "      <td>6.400874e+05</td>\n",
       "      <td>3.162340e+13</td>\n",
       "      <td>-1179.530000</td>\n",
       "      <td>-1163.520000</td>\n",
       "      <td>-1104.790000</td>\n",
       "    </tr>\n",
       "    <tr>\n",
       "      <th>25%</th>\n",
       "      <td>8.009786e+05</td>\n",
       "      <td>8.047934e+05</td>\n",
       "      <td>8.018639e+05</td>\n",
       "      <td>3.795035e+13</td>\n",
       "      <td>-200.229000</td>\n",
       "      <td>-205.139250</td>\n",
       "      <td>-190.806000</td>\n",
       "    </tr>\n",
       "    <tr>\n",
       "      <th>50%</th>\n",
       "      <td>9.788846e+05</td>\n",
       "      <td>9.732743e+05</td>\n",
       "      <td>9.621101e+05</td>\n",
       "      <td>4.801630e+13</td>\n",
       "      <td>-3.619450</td>\n",
       "      <td>1.969450</td>\n",
       "      <td>-8.055475</td>\n",
       "    </tr>\n",
       "    <tr>\n",
       "      <th>75%</th>\n",
       "      <td>1.126228e+06</td>\n",
       "      <td>1.113557e+06</td>\n",
       "      <td>1.118894e+06</td>\n",
       "      <td>6.945502e+13</td>\n",
       "      <td>206.816750</td>\n",
       "      <td>207.755750</td>\n",
       "      <td>181.532000</td>\n",
       "    </tr>\n",
       "    <tr>\n",
       "      <th>max</th>\n",
       "      <td>1.279888e+06</td>\n",
       "      <td>1.279933e+06</td>\n",
       "      <td>1.279848e+06</td>\n",
       "      <td>7.438200e+14</td>\n",
       "      <td>1197.640000</td>\n",
       "      <td>1164.960000</td>\n",
       "      <td>1201.260000</td>\n",
       "    </tr>\n",
       "  </tbody>\n",
       "</table>\n",
       "</div>"
      ],
      "text/plain": [
       "           x[kpc/h]      y[kpc/h]      z[kpc/h]  m500c[Msol/h]     vx[km/s]  \\\n",
       "count  6.080000e+03  6.080000e+03  6.080000e+03   6.080000e+03  6080.000000   \n",
       "mean   9.664164e+05  9.620554e+05  9.613082e+05   6.356245e+13     2.109102   \n",
       "std    1.860216e+05  1.826509e+05  1.836659e+05   4.851698e+13   316.064539   \n",
       "min    6.400192e+05  6.401527e+05  6.400874e+05   3.162340e+13 -1179.530000   \n",
       "25%    8.009786e+05  8.047934e+05  8.018639e+05   3.795035e+13  -200.229000   \n",
       "50%    9.788846e+05  9.732743e+05  9.621101e+05   4.801630e+13    -3.619450   \n",
       "75%    1.126228e+06  1.113557e+06  1.118894e+06   6.945502e+13   206.816750   \n",
       "max    1.279888e+06  1.279933e+06  1.279848e+06   7.438200e+14  1197.640000   \n",
       "\n",
       "          vy[km/s]     vz[km/s]  \n",
       "count  6080.000000  6080.000000  \n",
       "mean     -1.647297    -4.296055  \n",
       "std     306.226537   286.454388  \n",
       "min   -1163.520000 -1104.790000  \n",
       "25%    -205.139250  -190.806000  \n",
       "50%       1.969450    -8.055475  \n",
       "75%     207.755750   181.532000  \n",
       "max    1164.960000  1201.260000  "
      ]
     },
     "execution_count": 18,
     "metadata": {},
     "output_type": "execute_result"
    }
   ],
   "source": [
    "low_bound = 640000\n",
    "upp_bound = 640000 * 2  #128000\n",
    "\n",
    "df_clusters_center = df_clusters_big[(df_clusters_big['x[kpc/h]'] > low_bound) & \n",
    "                                     (df_clusters_big['x[kpc/h]'] < upp_bound) & \n",
    "                                     (df_clusters_big['y[kpc/h]'] > low_bound) & \n",
    "                                     (df_clusters_big['y[kpc/h]'] < upp_bound) & \n",
    "                                     (df_clusters_big['z[kpc/h]'] > low_bound) & \n",
    "                                     (df_clusters_big['z[kpc/h]'] < upp_bound)]\n",
    "\n",
    "df_clusters_center.describe()"
   ]
  },
  {
   "cell_type": "markdown",
   "metadata": {},
   "source": [
    "**Adding galaxy pads at the edges of central cluster region**"
   ]
  },
  {
   "cell_type": "code",
   "execution_count": 19,
   "metadata": {
    "execution": {
     "iopub.execute_input": "2021-11-30T17:54:44.920863Z",
     "iopub.status.busy": "2021-11-30T17:54:44.920691Z",
     "iopub.status.idle": "2021-11-30T17:54:44.925155Z",
     "shell.execute_reply": "2021-11-30T17:54:44.924691Z",
     "shell.execute_reply.started": "2021-11-30T17:54:44.920839Z"
    },
    "tags": []
   },
   "outputs": [],
   "source": [
    "def edge_pads_adder(clus_cube_size):\n",
    "       \n",
    "    low_bound =  640000    - (clus_cube_size//2)\n",
    "    upp_bound = (640000*2) + (clus_cube_size//2)\n",
    "    \n",
    "#     print(low_bound, upp_bound)\n",
    "    \n",
    "    df_gal_padded = df_gal_big[(df_gal_big['x[kpc/h]'] >= low_bound) & \n",
    "                               (df_gal_big['x[kpc/h]'] <= upp_bound) & \n",
    "                               (df_gal_big['y[kpc/h]'] >= low_bound) & \n",
    "                               (df_gal_big['y[kpc/h]'] <= upp_bound) & \n",
    "                               (df_gal_big['z[kpc/h]'] >= low_bound) & \n",
    "                               (df_gal_big['z[kpc/h]'] <= upp_bound)]\n",
    "            \n",
    "    return df_gal_padded\n",
    "    "
   ]
  },
  {
   "cell_type": "markdown",
   "metadata": {},
   "source": [
    "**Specifying prefactors for Eq. 1 of Tanimura et al. (2020)**"
   ]
  },
  {
   "cell_type": "code",
   "execution_count": 53,
   "metadata": {
    "execution": {
     "iopub.execute_input": "2021-11-30T21:55:08.313248Z",
     "iopub.status.busy": "2021-11-30T21:55:08.312950Z",
     "iopub.status.idle": "2021-11-30T21:55:08.319754Z",
     "shell.execute_reply": "2021-11-30T21:55:08.319231Z",
     "shell.execute_reply.started": "2021-11-30T21:55:08.313220Z"
    },
    "tags": []
   },
   "outputs": [
    {
     "name": "stdout",
     "output_type": "stream",
     "text": [
      "86.5938062370014\n"
     ]
    },
    {
     "data": {
      "text/plain": [
       "3.384508369447773"
      ]
     },
     "execution_count": 53,
     "metadata": {},
     "output_type": "execute_result"
    }
   ],
   "source": [
    "a = 1/(1+z)\n",
    "H(z)\n",
    "print(H(z))\n",
    "\n",
    "pre_fac = (f * a * H(z) / (4 * np.pi))           #in km s^−1 Mpc^−1 \n",
    "pre_fac"
   ]
  },
  {
   "cell_type": "code",
   "execution_count": 21,
   "metadata": {
    "execution": {
     "iopub.execute_input": "2021-11-30T17:54:44.936741Z",
     "iopub.status.busy": "2021-11-30T17:54:44.936575Z",
     "iopub.status.idle": "2021-11-30T17:54:44.941837Z",
     "shell.execute_reply": "2021-11-30T17:54:44.941363Z",
     "shell.execute_reply.started": "2021-11-30T17:54:44.936718Z"
    },
    "tags": []
   },
   "outputs": [],
   "source": [
    "def gehrels_confidence_limits(gals_in_cell):\n",
    "    \n",
    "    #Using Eq. 9 of Gehrels(1985)\n",
    "    S = 1 #determining 1 sigma error bars\n",
    "    gals_in_cell_up = (gals_in_cell + 1) * (1 - (1 /(9 * (gals_in_cell + 1))) + (S / (3 * np.sqrt(gals_in_cell + 1))))**3\n",
    "    \n",
    "    gals_in_cell_copy = gals_in_cell.copy() #To avoid division by zero error\n",
    "    gals_in_cell_copy[gals_in_cell == 0] = 1.5\n",
    "    \n",
    "    #using Eq. 14 of Gehrels(1985)\n",
    "    gals_in_cell_low = gals_in_cell_copy * (1 - (1 / (9 * gals_in_cell_copy)) - (S / (3 * np.sqrt(gals_in_cell_copy))))**3 #beta is 0 for S = 1\n",
    "    \n",
    "    gals_in_cell_low[gals_in_cell == 0] = 0\n",
    "    \n",
    "    gals_in_cell_up_err = gals_in_cell_up - gals_in_cell\n",
    "    gals_in_cell_low_err = gals_in_cell - gals_in_cell_low\n",
    "    \n",
    "    return gals_in_cell_up_err, gals_in_cell_low_err"
   ]
  },
  {
   "cell_type": "markdown",
   "metadata": {},
   "source": [
    "**Calculating mean density of the simulation box for Eq. 1**"
   ]
  },
  {
   "cell_type": "code",
   "execution_count": 22,
   "metadata": {
    "execution": {
     "iopub.execute_input": "2021-11-30T17:54:44.942762Z",
     "iopub.status.busy": "2021-11-30T17:54:44.942589Z",
     "iopub.status.idle": "2021-11-30T17:54:44.952719Z",
     "shell.execute_reply": "2021-11-30T17:54:44.952208Z",
     "shell.execute_reply.started": "2021-11-30T17:54:44.942739Z"
    },
    "tags": []
   },
   "outputs": [],
   "source": [
    "def delta_gal_mean_func(cell_size):\n",
    "    \n",
    "    df_gal_mean = df_gal_big.copy()\n",
    "\n",
    "    df_gal_mean['x[kpc/h]'] = df_gal_mean['x[kpc/h]'] / cell_size\n",
    "    df_gal_mean['y[kpc/h]'] = df_gal_mean['y[kpc/h]'] / cell_size\n",
    "    df_gal_mean['z[kpc/h]'] = df_gal_mean['z[kpc/h]'] / cell_size\n",
    "\n",
    "    #making tuples, converting tuples to cell coordinates\n",
    "    df_gal_mean[\"cell\"] = list(zip(df_gal_mean['x[kpc/h]'].astype(int), df_gal_mean['y[kpc/h]'].astype(int), df_gal_mean['z[kpc/h]'].astype(int)))\n",
    "\n",
    "    #array to store number of galaxies in the cells\n",
    "    sim_box_size = 640000 * 3\n",
    "    gals_in_cell = np.zeros((sim_box_size//cell_size, sim_box_size//cell_size, sim_box_size//cell_size))\n",
    "    \n",
    "    #counting number of galaxies in the cells\n",
    "    for cell in df_gal_mean[\"cell\"]:\n",
    "        x, y, z = cell\n",
    "        gals_in_cell[x, y, z] += 1\n",
    "\n",
    "    rho_gal_mean = np.mean(gals_in_cell)\n",
    "    \n",
    "    return rho_gal_mean"
   ]
  },
  {
   "cell_type": "markdown",
   "metadata": {},
   "source": [
    "**Calculating Overdensity field for Eq. 1**"
   ]
  },
  {
   "cell_type": "code",
   "execution_count": 23,
   "metadata": {
    "execution": {
     "iopub.execute_input": "2021-11-30T17:54:44.953745Z",
     "iopub.status.busy": "2021-11-30T17:54:44.953578Z",
     "iopub.status.idle": "2021-11-30T17:54:44.968107Z",
     "shell.execute_reply": "2021-11-30T17:54:44.967528Z",
     "shell.execute_reply.started": "2021-11-30T17:54:44.953723Z"
    },
    "tags": []
   },
   "outputs": [],
   "source": [
    "b = 2                                #bias for LOWZ & CMASS galaxies as taken by Tanimura et al. 2020\n",
    "\n",
    "def overdensity_field_calc(clus_x, clus_y, clus_z, rho_gal_mean,\n",
    "                           cell_size, sigma_in_pix, clus_cube_size, df_gal_padded):\n",
    "\n",
    "    #converting strings into floats\n",
    "    clus_x = float(clus_x); clus_y = float(clus_y); clus_z = float(clus_z)\n",
    "    \n",
    "    #filtering galaxies in a cube of 240,000 h^-1 kpc around the given cluster\n",
    "    df_gal_select = df_gal_padded[(df_gal_padded['x[kpc/h]'] > (clus_x - clus_cube_size//2)) & \n",
    "                                  (df_gal_padded['x[kpc/h]'] < (clus_x + clus_cube_size//2)) & \n",
    "                                  (df_gal_padded['y[kpc/h]'] > (clus_y - clus_cube_size//2)) & \n",
    "                                  (df_gal_padded['y[kpc/h]'] < (clus_y + clus_cube_size//2)) & \n",
    "                                  (df_gal_padded['z[kpc/h]'] > (clus_z - clus_cube_size//2)) & \n",
    "                                  (df_gal_padded['z[kpc/h]'] < (clus_z + clus_cube_size//2))]\n",
    "        \n",
    "    #making copy to extract coordinates of cells containing the galaxies\n",
    "    df_gal_cube = df_gal_select.copy()\n",
    "    \n",
    "    #moving the galxies cube to lie within 0 to 240,000 h^-1 kpc \n",
    "    df_gal_cube['x[kpc/h]'] -= (clus_x - (clus_cube_size//2))\n",
    "    df_gal_cube['y[kpc/h]'] -= (clus_y - (clus_cube_size//2))\n",
    "    df_gal_cube['z[kpc/h]'] -= (clus_z - (clus_cube_size//2))\n",
    "\n",
    "    #dividing by 5000 (integer-div) so we get cell coordinates\n",
    "    df_gal_cube['x[kpc/h]'] = df_gal_cube['x[kpc/h]'] // cell_size\n",
    "    df_gal_cube['y[kpc/h]'] = df_gal_cube['y[kpc/h]'] // cell_size\n",
    "    df_gal_cube['z[kpc/h]'] = df_gal_cube['z[kpc/h]'] // cell_size\n",
    "    \n",
    "    #making tuples, converting tuples to cell coordinates\n",
    "    df_gal_cube[\"cell\"] = list(zip(df_gal_cube['x[kpc/h]'].astype(int), df_gal_cube['y[kpc/h]'].astype(int), df_gal_cube['z[kpc/h]'].astype(int)))\n",
    "#     df_gal_cube[\"cell\"] = list(zip(df_gal_cube['x[kpc/h]'], df_gal_cube['y[kpc/h]'], df_gal_cube['z[kpc/h]']))\n",
    "    \n",
    "    #array to store number of galaxies in the cells\n",
    "    gals_in_cell = np.zeros((clus_cube_size//cell_size, clus_cube_size//cell_size, clus_cube_size//cell_size))\n",
    "    \n",
    "    #counting number of galaxies in the cells\n",
    "    for cell in df_gal_cube[\"cell\"]:\n",
    "        x, y, z = cell\n",
    "        gals_in_cell[x, y, z] += 1\n",
    "        \n",
    "    gals_in_cell_up_err, gals_in_cell_low_err = gehrels_confidence_limits(gals_in_cell)\n",
    "    gals_in_cell_avg_err = (gals_in_cell_low_err + gals_in_cell_up_err) / 2 \n",
    "    \n",
    "    \n",
    "    #determining the overdensity of galaxies    \n",
    "    delta_gal = (gals_in_cell/rho_gal_mean) - 1\n",
    "    delta_gal_error = gals_in_cell_avg_err/rho_gal_mean  \n",
    "    \n",
    "    #smoothing the overdensity of galaxies\n",
    "#     delta_gal_smooth = gaussian_filter(delta_gal, sigma = sigma_in_pix)\n",
    "\n",
    "    delta_gal_smooth = delta_gal.copy() #to avoid error calculation since \n",
    "    #smoothing not affecting velocities much (apparently, not at all with 2 Mpc)\n",
    "        \n",
    "    #obtaining matter overdensity from galaxies overdensity\n",
    "    delta_matter = delta_gal_smooth / b\n",
    "    delta_matter_error = delta_gal_error / b\n",
    "    \n",
    "    return delta_matter, delta_matter_error\n"
   ]
  },
  {
   "cell_type": "markdown",
   "metadata": {},
   "source": [
    "**Calculating differential, numerator & denominator for Eq. 1**"
   ]
  },
  {
   "cell_type": "code",
   "execution_count": 24,
   "metadata": {
    "execution": {
     "iopub.execute_input": "2021-11-30T17:54:44.969108Z",
     "iopub.status.busy": "2021-11-30T17:54:44.968931Z",
     "iopub.status.idle": "2021-11-30T17:54:44.980916Z",
     "shell.execute_reply": "2021-11-30T17:54:44.980370Z",
     "shell.execute_reply.started": "2021-11-30T17:54:44.969085Z"
    },
    "tags": []
   },
   "outputs": [],
   "source": [
    "def vel_terms_calc(cell_size, clus_cube_size):\n",
    "    \n",
    "    #calculating the differential in the Eq. 1\n",
    "    dy_cubed = cell_size**3\n",
    "    \n",
    "    #specifing position of the clusters\n",
    "    Rclus_x = np.zeros((clus_cube_size//cell_size, clus_cube_size//cell_size, clus_cube_size//cell_size))\n",
    "    Rclus_x[:] = clus_cube_size//2\n",
    "    Rclus_y = np.zeros((clus_cube_size//cell_size, clus_cube_size//cell_size, clus_cube_size//cell_size))\n",
    "    Rclus_y[:] = clus_cube_size//2\n",
    "    Rclus_z = np.zeros((clus_cube_size//cell_size, clus_cube_size//cell_size, clus_cube_size//cell_size))\n",
    "    Rclus_z[:] = clus_cube_size//2\n",
    "\n",
    "    #generating meshgrid containing coordinates of the centers of cells\n",
    "    Rcell_x = np.zeros((clus_cube_size//cell_size, clus_cube_size//cell_size, clus_cube_size//cell_size))\n",
    "    Rcell_y = np.zeros((clus_cube_size//cell_size, clus_cube_size//cell_size, clus_cube_size//cell_size))\n",
    "    Rcell_z = np.zeros((clus_cube_size//cell_size, clus_cube_size//cell_size, clus_cube_size//cell_size))\n",
    "\n",
    "    for i, val in enumerate(range(cell_size//2, clus_cube_size, cell_size)):\n",
    "        Rcell_x[i,:,:] = val\n",
    "        Rcell_y[:,i,:] = val\n",
    "        Rcell_z[:,:,i] = val\n",
    "\n",
    "    #evaluating the term in the denominator of Eq. 1 of Tanimura et al. 2020\n",
    "    denom = np.sqrt((Rcell_x - Rclus_x)**2 + (Rcell_y - Rclus_y)**2 + (Rcell_z - Rclus_z)**2)**(3)\n",
    "\n",
    "    #evaluating the direction term in the numerator of Eq. 1\n",
    "    numer_x = Rcell_x - Rclus_x\n",
    "    numer_y = Rcell_y - Rclus_y\n",
    "    numer_z = Rcell_z - Rclus_z\n",
    "    \n",
    "    return (dy_cubed, numer_x, numer_y, numer_z, denom)\n"
   ]
  },
  {
   "cell_type": "markdown",
   "metadata": {},
   "source": [
    "**Calculating velocity of clusters according to Eq. 1**"
   ]
  },
  {
   "cell_type": "code",
   "execution_count": 25,
   "metadata": {
    "execution": {
     "iopub.execute_input": "2021-11-30T17:54:44.981931Z",
     "iopub.status.busy": "2021-11-30T17:54:44.981755Z",
     "iopub.status.idle": "2021-11-30T17:54:44.994861Z",
     "shell.execute_reply": "2021-11-30T17:54:44.994303Z",
     "shell.execute_reply.started": "2021-11-30T17:54:44.981907Z"
    },
    "tags": []
   },
   "outputs": [],
   "source": [
    "def clus_velocity_calc(clus_x, clus_y, clus_z, rho_gal_mean, cell_size, vel_terms, sigma_in_pix, \n",
    "                       clus_cube_size, df_gal_padded):\n",
    "    \n",
    "    delta_matter, delta_matter_error = overdensity_field_calc(clus_x, clus_y, clus_z, rho_gal_mean, cell_size, sigma_in_pix, \n",
    "                                          clus_cube_size, df_gal_padded)\n",
    "    \n",
    "    \n",
    "    dy_cubed, numer_x, numer_y, numer_z, denom = vel_terms\n",
    "    \n",
    "       \n",
    "    #estimating velocity in x direction\n",
    "    integrand_x = dy_cubed * delta_matter * (numer_x/(h*1e3)) / denom #in units of Mpc    \n",
    "    integrand_x_error = dy_cubed * delta_matter_error * (numer_x/(h*1e3)) / denom\n",
    "    \n",
    "    dist = np.cbrt(denom)\n",
    "    integrand_x = integrand_x[dist < (clus_cube_size//2)]\n",
    "    integrand_x_error = integrand_x_error[dist < (clus_cube_size//2)]\n",
    "    \n",
    "    vx_est = pre_fac * np.sum(integrand_x)\n",
    "    vx_est_error = pre_fac * np.sqrt(np.sum(integrand_x_error**2))\n",
    "    \n",
    "        \n",
    "    #estimating velocity in y direction\n",
    "    integrand_y = dy_cubed * delta_matter * (numer_y/(h*1e3)) / denom #in units of Mpc    \n",
    "    integrand_y_error = dy_cubed * delta_matter_error * (numer_y/(h*1e3)) / denom\n",
    "    \n",
    "       \n",
    "    integrand_y = integrand_y[dist < (clus_cube_size//2)]\n",
    "    integrand_y_error = integrand_y_error[dist < (clus_cube_size//2)]\n",
    "    \n",
    "    vy_est = pre_fac * np.sum(integrand_y)\n",
    "    vy_est_error = pre_fac * np.sqrt(np.sum(integrand_y_error**2))\n",
    "    \n",
    "    \n",
    "    #estimating velocity in z direction\n",
    "    integrand_z = dy_cubed * delta_matter * (numer_z/(h*1e3)) / denom #in units of Mpc   \n",
    "    integrand_z_error = dy_cubed * delta_matter_error * (numer_z/(h*1e3)) / denom\n",
    "    \n",
    "    integrand_z = integrand_z[dist < (clus_cube_size//2)]\n",
    "    integrand_z_error = integrand_z_error[dist < (clus_cube_size//2)]\n",
    "    \n",
    "    vz_est = pre_fac * np.sum(integrand_z)\n",
    "    vz_est_error = pre_fac * np.sqrt(np.sum(integrand_z_error**2))\n",
    "    \n",
    "    \n",
    "    return(vx_est, vy_est, vz_est, vx_est_error, vy_est_error, vz_est_error)\n"
   ]
  },
  {
   "cell_type": "markdown",
   "metadata": {},
   "source": [
    "**Calculating sigma for smoothing**"
   ]
  },
  {
   "cell_type": "code",
   "execution_count": 26,
   "metadata": {
    "execution": {
     "iopub.execute_input": "2021-11-30T17:54:44.995823Z",
     "iopub.status.busy": "2021-11-30T17:54:44.995648Z",
     "iopub.status.idle": "2021-11-30T17:54:45.002445Z",
     "shell.execute_reply": "2021-11-30T17:54:45.001900Z",
     "shell.execute_reply.started": "2021-11-30T17:54:44.995800Z"
    },
    "tags": []
   },
   "outputs": [],
   "source": [
    "def sigma_calc(cell_size):\n",
    "    \n",
    "    FWHM = 2000                           #h^-1 kpc, of Gaussian kernel, taken by Tanimura et al. 2020\n",
    "    FWHM_in_pix = FWHM/cell_size          #in pixel units\n",
    "    sigma_in_pix = FWHM_in_pix/(2.35482)  #in pixel units\n",
    "    \n",
    "    return sigma_in_pix"
   ]
  },
  {
   "cell_type": "code",
   "execution_count": 27,
   "metadata": {
    "execution": {
     "iopub.execute_input": "2021-11-30T17:54:45.003388Z",
     "iopub.status.busy": "2021-11-30T17:54:45.003215Z",
     "iopub.status.idle": "2021-11-30T17:54:45.012142Z",
     "shell.execute_reply": "2021-11-30T17:54:45.011594Z",
     "shell.execute_reply.started": "2021-11-30T17:54:45.003366Z"
    },
    "tags": []
   },
   "outputs": [],
   "source": [
    "def lmfit_func(x_values, y_values, errors = None):\n",
    "    model = LinearModel()\n",
    "    \n",
    "    fit_params = model.guess(y_values, x = x_values)\n",
    "#     fit_params['intercept'].set(value = 0, vary = False)\n",
    "    \n",
    "    if errors is None:\n",
    "        errors = np.ones(x_values.shape)\n",
    "    \n",
    "    result = model.fit(y_values, \n",
    "                       params = fit_params, \n",
    "                       x = x_values, weights = 1/errors)\n",
    "      \n",
    "\n",
    "    return result  \n"
   ]
  },
  {
   "cell_type": "code",
   "execution_count": 84,
   "metadata": {
    "execution": {
     "iopub.execute_input": "2021-12-02T09:28:16.736547Z",
     "iopub.status.busy": "2021-12-02T09:28:16.736319Z",
     "iopub.status.idle": "2021-12-02T09:28:16.742569Z",
     "shell.execute_reply": "2021-12-02T09:28:16.742090Z",
     "shell.execute_reply.started": "2021-12-02T09:28:16.736520Z"
    },
    "tags": []
   },
   "outputs": [],
   "source": [
    "def linmix_func(x_values, y_values, errors):\n",
    "    t_i = time.time()\n",
    "    \n",
    "    value = 10\n",
    "    niceValue = os.nice(value)\n",
    "    print(\"\\nCurrent nice value of the process:\", niceValue)\n",
    "        \n",
    "\n",
    "    lm = linmix.LinMix(x_values, y_values, ysig = errors)\n",
    "    lm.run_mcmc(maxiter=10000, silent = True)\n",
    "\n",
    "    print(time.time() - t_i)\n",
    "    print(len(lm.chain))\n",
    "    \n",
    "    niceValue = os.nice(-value)\n",
    "    print(\"\\nCurrent nice value of the process:\", niceValue)\n",
    "    \n",
    "   \n",
    "    return lm.chain"
   ]
  },
  {
   "cell_type": "code",
   "execution_count": 63,
   "metadata": {
    "execution": {
     "iopub.execute_input": "2021-12-02T06:15:42.937666Z",
     "iopub.status.busy": "2021-12-02T06:15:42.937381Z",
     "iopub.status.idle": "2021-12-02T06:15:42.943355Z",
     "shell.execute_reply": "2021-12-02T06:15:42.942830Z",
     "shell.execute_reply.started": "2021-12-02T06:15:42.937638Z"
    },
    "tags": []
   },
   "outputs": [],
   "source": [
    "def scipy_curve_fit_func(x_values, y_values, y_errors = None):\n",
    "    \n",
    "    def linear_func(x, m, c):\n",
    "        return m*x + c\n",
    "    \n",
    "    if y_errors is None:\n",
    "        param = curve_fit(linear_func, x_values, y_values)\n",
    "        \n",
    "    else:\n",
    "        param = curve_fit(linear_func, x_values, y_values, sigma = y_errors, \n",
    "                          bounds = ([-np.inf, -1e-4], [np.inf, 1e-4]),\n",
    "                          absolute_sigma = True )\n",
    "        \n",
    "    slope, intercept = param[0]\n",
    "    slope_err, intercept_err = (np.sqrt(param[1][0,0]), \n",
    "                                   np.sqrt(param[1][1,1]))\n",
    "    \n",
    "    return slope, slope_err, intercept, intercept_err"
   ]
  },
  {
   "cell_type": "markdown",
   "metadata": {},
   "source": [
    "**Plotting the scatter plots & histograms for assesment of velocity estimates**"
   ]
  },
  {
   "cell_type": "code",
   "execution_count": 77,
   "metadata": {
    "execution": {
     "iopub.execute_input": "2021-12-02T07:28:34.262635Z",
     "iopub.status.busy": "2021-12-02T07:28:34.262266Z",
     "iopub.status.idle": "2021-12-02T07:28:34.279237Z",
     "shell.execute_reply": "2021-12-02T07:28:34.278639Z",
     "shell.execute_reply.started": "2021-12-02T07:28:34.262576Z"
    },
    "tags": []
   },
   "outputs": [],
   "source": [
    "def plotting_func(df_clusters_est_err, cell_size, clus_cube_size_actual):\n",
    "    \n",
    "    fig = plt.figure(dpi = dpi*1.5, \n",
    "                     facecolor=(1, 1, 1))\n",
    "    \n",
    "    cluster_jump = 1\n",
    "    x_pos_text = 0.37\n",
    "    text_font_size = 8\n",
    "    \n",
    "    low_lim, high_lim = -1500, 1500\n",
    "    \n",
    "    x_range = np.arange(low_lim, high_lim+1, 5)   \n",
    "    \n",
    "    def fit_func(x, m, c):\n",
    "        return m*x + c\n",
    "\n",
    "    \n",
    "    plt.errorbar(df_clusters_est_err['v_los[km/s]'][::cluster_jump], \n",
    "                 df_clusters_est_err['v_los_est[km/s]'][::cluster_jump], \n",
    "                 yerr = df_clusters_est_err['v_los_est_err[km/s]'][::cluster_jump], \n",
    "                 alpha = 0.2, markeredgewidth = 0, markersize = 8,\n",
    "                 fmt='.', ecolor='C6')        \n",
    "    \n",
    "    plt.xlabel('V$_\\mathrm{los, true}$ (km/s)')\n",
    "    plt.ylabel('V$_\\mathrm{los, est}$ (km/s)')\n",
    "    \n",
    "    plt.gca().set_xticks(range(low_lim, high_lim + 1, high_lim//2))\n",
    "    plt.gca().set_yticks(range(low_lim, high_lim + 1, high_lim//2))\n",
    "    plt.xlim(low_lim, high_lim)\n",
    "    plt.ylim(low_lim,high_lim)\n",
    "    plt.gca().set_aspect('equal', adjustable='box')\n",
    "    \n",
    "#     plt.suptitle(f'Sphere radius: {clus_cube_size//2e3} ' + 'h$^{-1}$Mpc |' + \n",
    "#                  f' Cell: {cell_size//1e3}' + ' h$^{-1}$Mpc |' +\n",
    "#                  f' Mean density using whole simulation box')\n",
    "    \n",
    "    x_pos_text = 0.37\n",
    "    plt.text(x_pos_text, 0.12, \n",
    "             f'Clusters: {len(df_clusters_est_err)} ({len(df_clusters_est_err)//cluster_jump} shown)', \n",
    "             transform=plt.gca().transAxes, fontsize = 0.7 * text_font_size)\n",
    "    \n",
    "    slope, slope_err, intercept, intercept_err = scipy_curve_fit_func(\n",
    "                                     df_clusters_est_err['v_los[km/s]'], \n",
    "                                     df_clusters_est_err['v_los_est[km/s]'],\n",
    "                                     df_clusters_est_err['v_los_est_err[km/s]'])\n",
    "\n",
    "    \n",
    "    \n",
    "    plt.plot(x_range, fit_func(x_range, slope, intercept), \n",
    "             label = 'Linear fit - scipy', c = 'C2')\n",
    "    \n",
    "       \n",
    "    plt.text(x_pos_text, 0.08, \n",
    "             f\"Slope: {round(slope, 2)} $\\pm$ \" + \n",
    "             f\"{round(slope_err, 2)} (scipy)\", \n",
    "             transform=plt.gca().transAxes, fontsize = 0.7 * text_font_size)\n",
    "    \n",
    "    plt.text(x_pos_text, 0.04, \n",
    "             f\"Intercept: {round(intercept, 2)} $\\pm$ \" + \n",
    "             f\"{round(intercept_err, 2)} (scipy)\", \n",
    "             transform=plt.gca().transAxes, fontsize = 0.7 * text_font_size)\n",
    "\n",
    "    \n",
    "    plt.plot(x_range, x_range, label = '1-1 line', c = 'C1', alpha = 0.25, \n",
    "             ls = 'dashed')\n",
    "    plt.legend(loc = 'upper left', fontsize = text_font_size)\n",
    "#     plt.title('V$_{\\mathrm{los}}$')\n",
    "    \n",
    " \n",
    "    plt.tight_layout()\n",
    "    \n",
    "#     plt.savefig(f'Plots/big-sim-box/v_scatter_hist/{clus_cube_size_actual}/v_scatter_hist_{cell_size}_correct_f_intercept_0.png')\n",
    "    plt.close()\n",
    "#     plt.show()\n",
    "\n",
    "    return slope, slope_err, intercept, intercept_err"
   ]
  },
  {
   "cell_type": "code",
   "execution_count": 82,
   "metadata": {
    "execution": {
     "iopub.execute_input": "2021-12-02T07:54:30.472251Z",
     "iopub.status.busy": "2021-12-02T07:54:30.472001Z",
     "iopub.status.idle": "2021-12-02T09:28:15.273604Z",
     "shell.execute_reply": "2021-12-02T09:28:15.272432Z",
     "shell.execute_reply.started": "2021-12-02T07:54:30.472222Z"
    },
    "tags": []
   },
   "outputs": [
    {
     "name": "stdout",
     "output_type": "stream",
     "text": [
      "5624.775950431824\n",
      "85600\n"
     ]
    }
   ],
   "source": [
    "param_los_linmix = linmix_func(df_clusters_est_err['v_los[km/s]'], \n",
    "                                   df_clusters_est_err['v_los_est[km/s]']\n",
    "                                 , df_clusters_est_err['v_los_est_err[km/s]']\n",
    "                                )"
   ]
  },
  {
   "cell_type": "code",
   "execution_count": 83,
   "metadata": {
    "execution": {
     "iopub.execute_input": "2021-12-02T09:28:15.275718Z",
     "iopub.status.busy": "2021-12-02T09:28:15.275501Z",
     "iopub.status.idle": "2021-12-02T09:28:16.734648Z",
     "shell.execute_reply": "2021-12-02T09:28:16.733995Z",
     "shell.execute_reply.started": "2021-12-02T09:28:15.275680Z"
    }
   },
   "outputs": [
    {
     "name": "stdout",
     "output_type": "stream",
     "text": [
      "85600\n",
      "Quantiles:\n",
      "[(0.16, 1.052849808446517), (0.84, 1.0771102154541445)]\n",
      "Quantiles:\n",
      "[(0.16, 89.70425412923719), (0.84, 95.8305962970838)]\n",
      "Quantiles:\n",
      "[(0.16, 10.180671125547418), (0.84, 92.70535144657728)]\n"
     ]
    },
    {
     "data": {
      "image/png": "[encoded data removed]",
      "text/plain": [
       "<Figure size 547.2x547.2 with 9 Axes>"
      ]
     },
     "metadata": {
      "needs_background": "light"
     },
     "output_type": "display_data"
    }
   ],
   "source": [
    "print(len(param_los_linmix))\n",
    "\n",
    "index_90 = int(len(param_los_linmix) * 0.9)\n",
    "combined = np.transpose(np.vstack((param_los_linmix['beta'][-index_90:], \n",
    "                                   param_los_linmix['alpha'][-index_90:],\n",
    "                                   param_los_linmix['sigsqr'][-index_90:])))\n",
    "\n",
    "\n",
    "corner.corner(combined, bins = 20, labels = ['Slope', 'Intercept', 'Scatter'], \n",
    "              levels=[1-np.exp(-0.5), 1-np.exp(-2)], \n",
    "              quantiles = ([0.16, 0.84]),\n",
    "              verbose = True, title_fmt = '.2f', \n",
    "              color = 'brown', show_titles=True);\n",
    "# plt.gcf().patch.set_facecolor('white')\n",
    "#     plt.suptitle(f'Cell size: {cell_size}', fontsize = 16)\n",
    "plt.text(-0.3, 2.7, f'Cell size: {int(cell_size/1e3)} Mpc', fontsize = 18, \n",
    "         transform=plt.gca().transAxes)\n",
    "\n",
    "plt.savefig(f'Plots/big-sim-box/v_scatter_hist/{clus_cube_size_actual}/corner_{cell_size}.png')"
   ]
  },
  {
   "cell_type": "markdown",
   "metadata": {
    "execution": {
     "iopub.execute_input": "2021-08-31T10:30:36.252388Z",
     "iopub.status.busy": "2021-08-31T10:30:36.252116Z",
     "iopub.status.idle": "2021-08-31T10:30:36.258034Z",
     "shell.execute_reply": "2021-08-31T10:30:36.256871Z",
     "shell.execute_reply.started": "2021-08-31T10:30:36.252360Z"
    },
    "tags": []
   },
   "source": [
    "**Examining the effects of cluster cube & cell sizes variation on velocity estimates**"
   ]
  },
  {
   "cell_type": "code",
   "execution_count": 64,
   "metadata": {
    "execution": {
     "iopub.execute_input": "2021-12-02T06:15:51.049848Z",
     "iopub.status.busy": "2021-12-02T06:15:51.049584Z",
     "iopub.status.idle": "2021-12-02T06:15:51.848489Z",
     "shell.execute_reply": "2021-12-02T06:15:51.847942Z",
     "shell.execute_reply.started": "2021-12-02T06:15:51.049821Z"
    },
    "tags": []
   },
   "outputs": [
    {
     "data": {
      "text/plain": [
       "(1.1030206127926383,\n",
       " 0.012135067592117485,\n",
       " 9.999999999377492e-05,\n",
       " 3.530998690181356)"
      ]
     },
     "execution_count": 64,
     "metadata": {},
     "output_type": "execute_result"
    },
    {
     "data": {
      "image/png": "[encoded data removed]",
      "text/plain": [
       "<Figure size 810x540 with 1 Axes>"
      ]
     },
     "metadata": {},
     "output_type": "display_data"
    }
   ],
   "source": [
    "plotting_func(df_clusters_est_err, \n",
    "                                                                   cell_size, \n",
    "                                                                   clus_cube_size_actual)"
   ]
  },
  {
   "cell_type": "code",
   "execution_count": 87,
   "metadata": {
    "execution": {
     "iopub.execute_input": "2021-12-13T12:13:09.526374Z",
     "iopub.status.busy": "2021-12-13T12:13:09.526094Z",
     "iopub.status.idle": "2021-12-13T12:36:13.341485Z",
     "shell.execute_reply": "2021-12-13T12:36:13.337696Z",
     "shell.execute_reply.started": "2021-12-13T12:13:09.526346Z"
    },
    "tags": []
   },
   "outputs": [
    {
     "name": "stdout",
     "output_type": "stream",
     "text": [
      "10000 300000\n",
      "32.77156043052673\n",
      "\n",
      "\n",
      "10000 400000\n",
      "41.01972055435181\n",
      "\n",
      "\n",
      "10000 500000\n",
      "54.4135468006134\n",
      "\n",
      "\n",
      "10000 600000\n",
      "75.19867897033691\n",
      "\n",
      "\n",
      "10000 700000\n",
      "101.37324023246765\n",
      "\n",
      "\n",
      "10000 800000\n",
      "146.19120717048645\n",
      "\n",
      "\n",
      "10000 900000\n",
      "180.61505842208862\n",
      "\n",
      "\n",
      "10000 1000000\n",
      "275.6433172225952\n",
      "\n",
      "\n",
      "10000 1100000\n",
      "476.515736579895\n",
      "\n",
      "\n",
      "CPU times: user 8min 2s, sys: 9min 19s, total: 17min 22s\n",
      "Wall time: 23min 3s\n"
     ]
    }
   ],
   "source": [
    "%%time\n",
    "\n",
    "cube_cell_size_assess = pd.DataFrame(columns=['Cell Size', \n",
    "                                'Cube Size', 'Clusters',  'Slope - Vlos', 'Slope_Err - Vlos', \n",
    "                                'r - Vlos', 'Mean - Vlos_err'])\n",
    "\n",
    "\n",
    "clus_cube_sizes = [300000, 400000, 500000, 600000, 700000, 800000, 900000, 1000000, 1100000]\n",
    "# clus_cube_sizes = [500000]\n",
    "for clus_cube_size in clus_cube_sizes:\n",
    "#     for cell_size in [2000, 4000, 5000, 8000, 10000, 20000]:                       #h^-1 kpc, size of pixel or cell\n",
    "    for cell_size in [10000]:                       #h^-1 kpc, size of pixel or cell\n",
    "        \n",
    "        t = time.time()        \n",
    "        print(cell_size, clus_cube_size)\n",
    "        clus_cube_size_actual = clus_cube_size\n",
    "        \n",
    "        no_of_cells = clus_cube_size//cell_size     \n",
    "        sigma_in_pix = sigma_calc(cell_size)\n",
    "        df_gal_padded = edge_pads_adder(clus_cube_size)\n",
    "        rho_gal_mean = delta_gal_mean_func(cell_size)\n",
    "        vel_terms = vel_terms_calc(cell_size, clus_cube_size)        \n",
    "        no_of_clus = len(df_clusters_center)\n",
    "\n",
    "        clus_param = list(zip(df_clusters_center['x[kpc/h]'], \n",
    "                              df_clusters_center['y[kpc/h]'], \n",
    "                              df_clusters_center['z[kpc/h]'], \n",
    "                              [rho_gal_mean] * no_of_clus, \n",
    "                              [cell_size] * no_of_clus, \n",
    "                              [vel_terms] * no_of_clus, \n",
    "                              [sigma_in_pix] * no_of_clus,\n",
    "                              [clus_cube_size] * no_of_clus, \n",
    "                              [df_gal_padded] * no_of_clus))\n",
    "        \n",
    "        cores = 84        \n",
    "        pool = multi.Pool(processes = cores)\n",
    "        v_est = pool.starmap(clus_velocity_calc, clus_param)\n",
    "\n",
    "        df_clusters_est_err = df_clusters_center.copy()\n",
    "        \n",
    "        df_clusters_est_err['vx_est[km/s]'] = [i[0] for i in v_est]\n",
    "        df_clusters_est_err['vy_est[km/s]'] = [i[1] for i in v_est]\n",
    "        df_clusters_est_err['vz_est[km/s]'] = [i[2] for i in v_est]\n",
    "\n",
    "        df_clusters_est_err['vx_est_err[km/s]'] = [i[3] for i in v_est]\n",
    "        df_clusters_est_err['vy_est_err[km/s]'] = [i[4] for i in v_est]\n",
    "        df_clusters_est_err['vz_est_err[km/s]'] = [i[5] for i in v_est]\n",
    "        \n",
    "        \n",
    "        df_clusters_est_err['r_mag[kpc/h]'] = np.sqrt(df_clusters_est_err['x[kpc/h]']**2 +\n",
    "                                                      df_clusters_est_err['y[kpc/h]']**2 +\n",
    "                                                      df_clusters_est_err['z[kpc/h]']**2)\n",
    "        \n",
    "        \n",
    "        df_clusters_est_err['v_los[km/s]'] = (((df_clusters_est_err['vx[km/s]'] * df_clusters_est_err['x[kpc/h]']) +\n",
    "                                               (df_clusters_est_err['vy[km/s]'] * df_clusters_est_err['y[kpc/h]']) +\n",
    "                                               (df_clusters_est_err['vz[km/s]'] * df_clusters_est_err['z[kpc/h]'])) /\n",
    "                                                df_clusters_est_err['r_mag[kpc/h]'])\n",
    "        \n",
    "        df_clusters_est_err['v_los_est[km/s]'] = (((df_clusters_est_err['vx_est[km/s]'] * df_clusters_est_err['x[kpc/h]']) +\n",
    "                                                   (df_clusters_est_err['vy_est[km/s]'] * df_clusters_est_err['y[kpc/h]']) +\n",
    "                                                   (df_clusters_est_err['vz_est[km/s]'] * df_clusters_est_err['z[kpc/h]'])) /\n",
    "                                                    df_clusters_est_err['r_mag[kpc/h]'])\n",
    "        \n",
    "        df_clusters_est_err['v_los_est_err[km/s]'] = np.sqrt((df_clusters_est_err['vx_est_err[km/s]'] * df_clusters_est_err['x[kpc/h]'] / df_clusters_est_err['r_mag[kpc/h]'])**2 +\n",
    "                                                             (df_clusters_est_err['vy_est_err[km/s]'] * df_clusters_est_err['y[kpc/h]'] / df_clusters_est_err['r_mag[kpc/h]'])**2 +\n",
    "                                                             (df_clusters_est_err['vz_est_err[km/s]'] * df_clusters_est_err['z[kpc/h]'] / df_clusters_est_err['r_mag[kpc/h]'])**2)\n",
    "\n",
    "        \n",
    "        slope, slope_err, intercept, intercept_err = plotting_func(df_clusters_est_err, \n",
    "                                                                   cell_size, \n",
    "                                                                   clus_cube_size_actual)\n",
    "        \n",
    "#         clear_output(wait=True)\n",
    "               \n",
    "        \n",
    "        cube_cell_size_assess = cube_cell_size_assess.append({'Cell Size': cell_size,\n",
    "                'Cube Size': clus_cube_size,\n",
    "                'Clusters': no_of_clus,\n",
    "                                                                                \n",
    "                'Slope - Vlos': slope,                                                                             \n",
    "                'Slope_Err - Vlos': slope_err, \n",
    "                'r - Vlos': np.corrcoef(df_clusters_est_err['v_los[km/s]'], df_clusters_est_err['v_los_est[km/s]'])[1,0],\n",
    "                'Mean - Vlos_err': np.mean(df_clusters_est_err['v_los_est_err[km/s]'])\n",
    "                                                                               }, \n",
    "                ignore_index=True)\n",
    "        \n",
    "        clus_cube_size = clus_cube_size_actual\n",
    "        print(time.time() - t)\n",
    "        print('\\n')\n",
    "        "
   ]
  },
  {
   "cell_type": "markdown",
   "metadata": {},
   "source": [
    "**17 Nov 2021**\n",
    "A:\n",
    "- Use (0,0) as the pivot point. Fitted line must pass through (0,0). One should do it because slope and intercept are degenerate parameters. They are not independent. By fixing the pivot, you cut down the degeneracy.\n",
    "- Better do it with linmix since then we see how degerate slope and intercept are."
   ]
  },
  {
   "cell_type": "code",
   "execution_count": 93,
   "metadata": {
    "execution": {
     "iopub.execute_input": "2021-12-13T12:37:37.877512Z",
     "iopub.status.busy": "2021-12-13T12:37:37.877199Z",
     "iopub.status.idle": "2021-12-13T12:37:37.897838Z",
     "shell.execute_reply": "2021-12-13T12:37:37.896294Z",
     "shell.execute_reply.started": "2021-12-13T12:37:37.877484Z"
    },
    "tags": []
   },
   "outputs": [
    {
     "data": {
      "text/html": [
       "<div>\n",
       "<style scoped>\n",
       "    .dataframe tbody tr th:only-of-type {\n",
       "        vertical-align: middle;\n",
       "    }\n",
       "\n",
       "    .dataframe tbody tr th {\n",
       "        vertical-align: top;\n",
       "    }\n",
       "\n",
       "    .dataframe thead th {\n",
       "        text-align: right;\n",
       "    }\n",
       "</style>\n",
       "<table border=\"1\" class=\"dataframe\">\n",
       "  <thead>\n",
       "    <tr style=\"text-align: right;\">\n",
       "      <th></th>\n",
       "      <th>Cell Size</th>\n",
       "      <th>Cube Size</th>\n",
       "      <th>Clusters</th>\n",
       "      <th>Slope - Vlos</th>\n",
       "      <th>Slope_Err - Vlos</th>\n",
       "      <th>r - Vlos</th>\n",
       "      <th>Mean - Vlos_err</th>\n",
       "    </tr>\n",
       "  </thead>\n",
       "  <tbody>\n",
       "    <tr>\n",
       "      <th>0</th>\n",
       "      <td>10000.0</td>\n",
       "      <td>300000.0</td>\n",
       "      <td>6080.0</td>\n",
       "      <td>0.994649</td>\n",
       "      <td>0.012032</td>\n",
       "      <td>0.817459</td>\n",
       "      <td>281.025468</td>\n",
       "    </tr>\n",
       "    <tr>\n",
       "      <th>1</th>\n",
       "      <td>10000.0</td>\n",
       "      <td>400000.0</td>\n",
       "      <td>6080.0</td>\n",
       "      <td>1.026621</td>\n",
       "      <td>0.012067</td>\n",
       "      <td>0.834145</td>\n",
       "      <td>281.801029</td>\n",
       "    </tr>\n",
       "    <tr>\n",
       "      <th>2</th>\n",
       "      <td>10000.0</td>\n",
       "      <td>500000.0</td>\n",
       "      <td>6080.0</td>\n",
       "      <td>1.056174</td>\n",
       "      <td>0.012089</td>\n",
       "      <td>0.845348</td>\n",
       "      <td>282.275241</td>\n",
       "    </tr>\n",
       "    <tr>\n",
       "      <th>3</th>\n",
       "      <td>10000.0</td>\n",
       "      <td>600000.0</td>\n",
       "      <td>6080.0</td>\n",
       "      <td>1.081865</td>\n",
       "      <td>0.012103</td>\n",
       "      <td>0.853112</td>\n",
       "      <td>282.586467</td>\n",
       "    </tr>\n",
       "    <tr>\n",
       "      <th>4</th>\n",
       "      <td>10000.0</td>\n",
       "      <td>700000.0</td>\n",
       "      <td>6080.0</td>\n",
       "      <td>1.099540</td>\n",
       "      <td>0.012113</td>\n",
       "      <td>0.857668</td>\n",
       "      <td>282.811324</td>\n",
       "    </tr>\n",
       "    <tr>\n",
       "      <th>5</th>\n",
       "      <td>10000.0</td>\n",
       "      <td>800000.0</td>\n",
       "      <td>6080.0</td>\n",
       "      <td>1.110955</td>\n",
       "      <td>0.012121</td>\n",
       "      <td>0.860303</td>\n",
       "      <td>282.978303</td>\n",
       "    </tr>\n",
       "    <tr>\n",
       "      <th>6</th>\n",
       "      <td>10000.0</td>\n",
       "      <td>900000.0</td>\n",
       "      <td>6080.0</td>\n",
       "      <td>1.112544</td>\n",
       "      <td>0.012127</td>\n",
       "      <td>0.860541</td>\n",
       "      <td>283.109372</td>\n",
       "    </tr>\n",
       "    <tr>\n",
       "      <th>7</th>\n",
       "      <td>10000.0</td>\n",
       "      <td>1000000.0</td>\n",
       "      <td>6080.0</td>\n",
       "      <td>1.111041</td>\n",
       "      <td>0.012131</td>\n",
       "      <td>0.859886</td>\n",
       "      <td>283.213424</td>\n",
       "    </tr>\n",
       "    <tr>\n",
       "      <th>8</th>\n",
       "      <td>10000.0</td>\n",
       "      <td>1100000.0</td>\n",
       "      <td>6080.0</td>\n",
       "      <td>1.103021</td>\n",
       "      <td>0.012135</td>\n",
       "      <td>0.858611</td>\n",
       "      <td>283.298849</td>\n",
       "    </tr>\n",
       "  </tbody>\n",
       "</table>\n",
       "</div>"
      ],
      "text/plain": [
       "   Cell Size  Cube Size  Clusters  Slope - Vlos  Slope_Err - Vlos  r - Vlos  \\\n",
       "0    10000.0   300000.0    6080.0      0.994649          0.012032  0.817459   \n",
       "1    10000.0   400000.0    6080.0      1.026621          0.012067  0.834145   \n",
       "2    10000.0   500000.0    6080.0      1.056174          0.012089  0.845348   \n",
       "3    10000.0   600000.0    6080.0      1.081865          0.012103  0.853112   \n",
       "4    10000.0   700000.0    6080.0      1.099540          0.012113  0.857668   \n",
       "5    10000.0   800000.0    6080.0      1.110955          0.012121  0.860303   \n",
       "6    10000.0   900000.0    6080.0      1.112544          0.012127  0.860541   \n",
       "7    10000.0  1000000.0    6080.0      1.111041          0.012131  0.859886   \n",
       "8    10000.0  1100000.0    6080.0      1.103021          0.012135  0.858611   \n",
       "\n",
       "   Mean - Vlos_err  \n",
       "0       281.025468  \n",
       "1       281.801029  \n",
       "2       282.275241  \n",
       "3       282.586467  \n",
       "4       282.811324  \n",
       "5       282.978303  \n",
       "6       283.109372  \n",
       "7       283.213424  \n",
       "8       283.298849  "
      ]
     },
     "execution_count": 93,
     "metadata": {},
     "output_type": "execute_result"
    }
   ],
   "source": [
    "cube_cell_size_assess = cube_cell_size_assess.rename(columns={\"Mean - Vlos\": \"Mean - Vlos_err\"})\n",
    "cube_cell_size_assess"
   ]
  },
  {
   "cell_type": "code",
   "execution_count": 90,
   "metadata": {
    "execution": {
     "iopub.execute_input": "2021-12-13T12:36:15.158330Z",
     "iopub.status.busy": "2021-12-13T12:36:15.158058Z",
     "iopub.status.idle": "2021-12-13T12:36:15.172018Z",
     "shell.execute_reply": "2021-12-13T12:36:15.171351Z",
     "shell.execute_reply.started": "2021-12-13T12:36:15.158295Z"
    },
    "tags": []
   },
   "outputs": [
    {
     "data": {
      "text/html": [
       "<div>\n",
       "<style scoped>\n",
       "    .dataframe tbody tr th:only-of-type {\n",
       "        vertical-align: middle;\n",
       "    }\n",
       "\n",
       "    .dataframe tbody tr th {\n",
       "        vertical-align: top;\n",
       "    }\n",
       "\n",
       "    .dataframe thead th {\n",
       "        text-align: right;\n",
       "    }\n",
       "</style>\n",
       "<table border=\"1\" class=\"dataframe\">\n",
       "  <thead>\n",
       "    <tr style=\"text-align: right;\">\n",
       "      <th></th>\n",
       "      <th>Cell Size</th>\n",
       "      <th>Cube Size</th>\n",
       "      <th>Clusters</th>\n",
       "      <th>Slope - Vlos</th>\n",
       "      <th>Slope_Err - Vlos</th>\n",
       "      <th>r - Vlos</th>\n",
       "      <th>Mean - Vlos</th>\n",
       "    </tr>\n",
       "  </thead>\n",
       "  <tbody>\n",
       "    <tr>\n",
       "      <th>0</th>\n",
       "      <td>10000.0</td>\n",
       "      <td>300000.0</td>\n",
       "      <td>6080.0</td>\n",
       "      <td>0.994649</td>\n",
       "      <td>0.012032</td>\n",
       "      <td>0.817459</td>\n",
       "      <td>281.025468</td>\n",
       "    </tr>\n",
       "    <tr>\n",
       "      <th>1</th>\n",
       "      <td>10000.0</td>\n",
       "      <td>400000.0</td>\n",
       "      <td>6080.0</td>\n",
       "      <td>1.026621</td>\n",
       "      <td>0.012067</td>\n",
       "      <td>0.834145</td>\n",
       "      <td>281.801029</td>\n",
       "    </tr>\n",
       "    <tr>\n",
       "      <th>2</th>\n",
       "      <td>10000.0</td>\n",
       "      <td>500000.0</td>\n",
       "      <td>6080.0</td>\n",
       "      <td>1.056174</td>\n",
       "      <td>0.012089</td>\n",
       "      <td>0.845348</td>\n",
       "      <td>282.275241</td>\n",
       "    </tr>\n",
       "    <tr>\n",
       "      <th>3</th>\n",
       "      <td>10000.0</td>\n",
       "      <td>600000.0</td>\n",
       "      <td>6080.0</td>\n",
       "      <td>1.081865</td>\n",
       "      <td>0.012103</td>\n",
       "      <td>0.853112</td>\n",
       "      <td>282.586467</td>\n",
       "    </tr>\n",
       "    <tr>\n",
       "      <th>4</th>\n",
       "      <td>10000.0</td>\n",
       "      <td>700000.0</td>\n",
       "      <td>6080.0</td>\n",
       "      <td>1.099540</td>\n",
       "      <td>0.012113</td>\n",
       "      <td>0.857668</td>\n",
       "      <td>282.811324</td>\n",
       "    </tr>\n",
       "    <tr>\n",
       "      <th>5</th>\n",
       "      <td>10000.0</td>\n",
       "      <td>800000.0</td>\n",
       "      <td>6080.0</td>\n",
       "      <td>1.110955</td>\n",
       "      <td>0.012121</td>\n",
       "      <td>0.860303</td>\n",
       "      <td>282.978303</td>\n",
       "    </tr>\n",
       "    <tr>\n",
       "      <th>6</th>\n",
       "      <td>10000.0</td>\n",
       "      <td>900000.0</td>\n",
       "      <td>6080.0</td>\n",
       "      <td>1.112544</td>\n",
       "      <td>0.012127</td>\n",
       "      <td>0.860541</td>\n",
       "      <td>283.109372</td>\n",
       "    </tr>\n",
       "    <tr>\n",
       "      <th>7</th>\n",
       "      <td>10000.0</td>\n",
       "      <td>1000000.0</td>\n",
       "      <td>6080.0</td>\n",
       "      <td>1.111041</td>\n",
       "      <td>0.012131</td>\n",
       "      <td>0.859886</td>\n",
       "      <td>283.213424</td>\n",
       "    </tr>\n",
       "    <tr>\n",
       "      <th>8</th>\n",
       "      <td>10000.0</td>\n",
       "      <td>1100000.0</td>\n",
       "      <td>6080.0</td>\n",
       "      <td>1.103021</td>\n",
       "      <td>0.012135</td>\n",
       "      <td>0.858611</td>\n",
       "      <td>283.298849</td>\n",
       "    </tr>\n",
       "  </tbody>\n",
       "</table>\n",
       "</div>"
      ],
      "text/plain": [
       "   Cell Size  Cube Size  Clusters  Slope - Vlos  Slope_Err - Vlos  r - Vlos  \\\n",
       "0    10000.0   300000.0    6080.0      0.994649          0.012032  0.817459   \n",
       "1    10000.0   400000.0    6080.0      1.026621          0.012067  0.834145   \n",
       "2    10000.0   500000.0    6080.0      1.056174          0.012089  0.845348   \n",
       "3    10000.0   600000.0    6080.0      1.081865          0.012103  0.853112   \n",
       "4    10000.0   700000.0    6080.0      1.099540          0.012113  0.857668   \n",
       "5    10000.0   800000.0    6080.0      1.110955          0.012121  0.860303   \n",
       "6    10000.0   900000.0    6080.0      1.112544          0.012127  0.860541   \n",
       "7    10000.0  1000000.0    6080.0      1.111041          0.012131  0.859886   \n",
       "8    10000.0  1100000.0    6080.0      1.103021          0.012135  0.858611   \n",
       "\n",
       "   Mean - Vlos  \n",
       "0   281.025468  \n",
       "1   281.801029  \n",
       "2   282.275241  \n",
       "3   282.586467  \n",
       "4   282.811324  \n",
       "5   282.978303  \n",
       "6   283.109372  \n",
       "7   283.213424  \n",
       "8   283.298849  "
      ]
     },
     "execution_count": 90,
     "metadata": {},
     "output_type": "execute_result"
    }
   ],
   "source": [
    "cube_cell_size_assess"
   ]
  },
  {
   "cell_type": "code",
   "execution_count": 44,
   "metadata": {
    "execution": {
     "iopub.execute_input": "2021-11-30T19:46:29.711187Z",
     "iopub.status.busy": "2021-11-30T19:46:29.710970Z",
     "iopub.status.idle": "2021-11-30T19:46:29.727992Z",
     "shell.execute_reply": "2021-11-30T19:46:29.727290Z",
     "shell.execute_reply.started": "2021-11-30T19:46:29.711145Z"
    },
    "tags": []
   },
   "outputs": [
    {
     "data": {
      "text/html": [
       "<div>\n",
       "<style scoped>\n",
       "    .dataframe tbody tr th:only-of-type {\n",
       "        vertical-align: middle;\n",
       "    }\n",
       "\n",
       "    .dataframe tbody tr th {\n",
       "        vertical-align: top;\n",
       "    }\n",
       "\n",
       "    .dataframe thead th {\n",
       "        text-align: right;\n",
       "    }\n",
       "</style>\n",
       "<table border=\"1\" class=\"dataframe\">\n",
       "  <thead>\n",
       "    <tr style=\"text-align: right;\">\n",
       "      <th></th>\n",
       "      <th>Cell Size</th>\n",
       "      <th>Cube Size</th>\n",
       "      <th>Clusters</th>\n",
       "      <th>Slope - Vlos</th>\n",
       "      <th>Slope_Err - Vlos</th>\n",
       "      <th>r - Vlos</th>\n",
       "    </tr>\n",
       "  </thead>\n",
       "  <tbody>\n",
       "    <tr>\n",
       "      <th>0</th>\n",
       "      <td>2000.0</td>\n",
       "      <td>480000.0</td>\n",
       "      <td>6080.0</td>\n",
       "      <td>1.333221</td>\n",
       "      <td>0.149861</td>\n",
       "      <td>0.333319</td>\n",
       "    </tr>\n",
       "    <tr>\n",
       "      <th>1</th>\n",
       "      <td>4000.0</td>\n",
       "      <td>480000.0</td>\n",
       "      <td>6080.0</td>\n",
       "      <td>1.055942</td>\n",
       "      <td>0.040101</td>\n",
       "      <td>0.627661</td>\n",
       "    </tr>\n",
       "    <tr>\n",
       "      <th>2</th>\n",
       "      <td>5000.0</td>\n",
       "      <td>480000.0</td>\n",
       "      <td>6080.0</td>\n",
       "      <td>0.973197</td>\n",
       "      <td>0.026770</td>\n",
       "      <td>0.707259</td>\n",
       "    </tr>\n",
       "    <tr>\n",
       "      <th>3</th>\n",
       "      <td>8000.0</td>\n",
       "      <td>480000.0</td>\n",
       "      <td>6080.0</td>\n",
       "      <td>0.812310</td>\n",
       "      <td>0.012008</td>\n",
       "      <td>0.812518</td>\n",
       "    </tr>\n",
       "    <tr>\n",
       "      <th>4</th>\n",
       "      <td>10000.0</td>\n",
       "      <td>480000.0</td>\n",
       "      <td>6080.0</td>\n",
       "      <td>0.743688</td>\n",
       "      <td>0.008501</td>\n",
       "      <td>0.843206</td>\n",
       "    </tr>\n",
       "    <tr>\n",
       "      <th>5</th>\n",
       "      <td>20000.0</td>\n",
       "      <td>480000.0</td>\n",
       "      <td>6080.0</td>\n",
       "      <td>0.562059</td>\n",
       "      <td>0.003534</td>\n",
       "      <td>0.849356</td>\n",
       "    </tr>\n",
       "  </tbody>\n",
       "</table>\n",
       "</div>"
      ],
      "text/plain": [
       "   Cell Size  Cube Size  Clusters  Slope - Vlos  Slope_Err - Vlos  r - Vlos\n",
       "0     2000.0   480000.0    6080.0      1.333221          0.149861  0.333319\n",
       "1     4000.0   480000.0    6080.0      1.055942          0.040101  0.627661\n",
       "2     5000.0   480000.0    6080.0      0.973197          0.026770  0.707259\n",
       "3     8000.0   480000.0    6080.0      0.812310          0.012008  0.812518\n",
       "4    10000.0   480000.0    6080.0      0.743688          0.008501  0.843206\n",
       "5    20000.0   480000.0    6080.0      0.562059          0.003534  0.849356"
      ]
     },
     "execution_count": 44,
     "metadata": {},
     "output_type": "execute_result"
    }
   ],
   "source": [
    "cube_cell_size_assess"
   ]
  },
  {
   "cell_type": "code",
   "execution_count": 76,
   "metadata": {
    "execution": {
     "iopub.execute_input": "2021-12-02T07:21:46.964030Z",
     "iopub.status.busy": "2021-12-02T07:21:46.963742Z",
     "iopub.status.idle": "2021-12-02T07:21:46.972508Z",
     "shell.execute_reply": "2021-12-02T07:21:46.971244Z",
     "shell.execute_reply.started": "2021-12-02T07:21:46.964002Z"
    },
    "tags": []
   },
   "outputs": [],
   "source": [
    "cube_cell_size_assess.to_csv(f'./cell_sphere_trends/data/slope_and_r_{clus_cube_size}_correct_f_intercept_fixed.csv')"
   ]
  },
  {
   "cell_type": "code",
   "execution_count": 94,
   "metadata": {
    "execution": {
     "iopub.execute_input": "2021-12-13T12:38:01.576947Z",
     "iopub.status.busy": "2021-12-13T12:38:01.576663Z",
     "iopub.status.idle": "2021-12-13T12:38:01.584520Z",
     "shell.execute_reply": "2021-12-13T12:38:01.583938Z",
     "shell.execute_reply.started": "2021-12-13T12:38:01.576918Z"
    },
    "tags": []
   },
   "outputs": [],
   "source": [
    "cube_cell_size_assess.to_csv(f'./cell_sphere_trends/data/slope_and_r_cell_{cell_size}_correct_f_intercept_fixed.csv')"
   ]
  },
  {
   "cell_type": "code",
   "execution_count": 3,
   "metadata": {
    "execution": {
     "iopub.execute_input": "2021-11-30T17:43:13.479439Z",
     "iopub.status.busy": "2021-11-30T17:43:13.479201Z",
     "iopub.status.idle": "2021-11-30T17:43:13.486466Z",
     "shell.execute_reply": "2021-11-30T17:43:13.485979Z",
     "shell.execute_reply.started": "2021-11-30T17:43:13.479413Z"
    },
    "tags": []
   },
   "outputs": [
    {
     "name": "stdout",
     "output_type": "stream",
     "text": [
      "1 250.0\n",
      "2 125.0\n",
      "3 83.33333333333333\n",
      "4 62.5\n",
      "5 50.0\n",
      "6 41.666666666666664\n",
      "7 35.714285714285715\n",
      "8 31.25\n",
      "9 27.77777777777778\n",
      "10 25.0\n",
      "11 22.727272727272727\n",
      "12 20.833333333333332\n",
      "13 19.23076923076923\n",
      "14 17.857142857142858\n",
      "15 16.666666666666668\n",
      "16 15.625\n",
      "17 14.705882352941176\n",
      "18 13.88888888888889\n",
      "19 13.157894736842104\n"
     ]
    }
   ],
   "source": [
    "for i in range(1, 20):\n",
    "    print(i, 250/i)\n",
    "    "
   ]
  },
  {
   "cell_type": "code",
   "execution_count": 5,
   "metadata": {
    "execution": {
     "iopub.execute_input": "2021-11-30T17:46:06.472529Z",
     "iopub.status.busy": "2021-11-30T17:46:06.472296Z",
     "iopub.status.idle": "2021-11-30T17:46:06.480772Z",
     "shell.execute_reply": "2021-11-30T17:46:06.480285Z",
     "shell.execute_reply.started": "2021-11-30T17:46:06.472504Z"
    },
    "tags": []
   },
   "outputs": [
    {
     "name": "stdout",
     "output_type": "stream",
     "text": [
      "1 240.0\n",
      "2 120.0\n",
      "3 80.0\n",
      "4 60.0\n",
      "5 48.0\n",
      "6 40.0\n",
      "7 34.285714285714285\n",
      "8 30.0\n",
      "9 26.666666666666668\n",
      "10 24.0\n",
      "11 21.818181818181817\n",
      "12 20.0\n",
      "13 18.46153846153846\n",
      "14 17.142857142857142\n",
      "15 16.0\n",
      "16 15.0\n",
      "17 14.117647058823529\n",
      "18 13.333333333333334\n",
      "19 12.631578947368421\n",
      "20 12.0\n"
     ]
    }
   ],
   "source": [
    "for i in range(1, 21):\n",
    "    print(i, 240/i)\n",
    "    "
   ]
  },
  {
   "cell_type": "code",
   "execution_count": 46,
   "metadata": {
    "execution": {
     "iopub.execute_input": "2021-11-30T21:09:04.929488Z",
     "iopub.status.busy": "2021-11-30T21:09:04.929200Z",
     "iopub.status.idle": "2021-11-30T21:09:04.934282Z",
     "shell.execute_reply": "2021-11-30T21:09:04.933793Z",
     "shell.execute_reply.started": "2021-11-30T21:09:04.929459Z"
    },
    "tags": []
   },
   "outputs": [
    {
     "name": "stdout",
     "output_type": "stream",
     "text": [
      "150 15.0\n",
      "200 20.0\n",
      "250 25.0\n",
      "300 30.0\n",
      "350 35.0\n",
      "400 40.0\n",
      "450 45.0\n",
      "500 50.0\n"
     ]
    }
   ],
   "source": [
    "for i in range(150, 550, 50):\n",
    "    print(i, i/10)\n",
    "    "
   ]
  },
  {
   "cell_type": "code",
   "execution_count": null,
   "metadata": {},
   "outputs": [],
   "source": []
  }
 ],
 "metadata": {
  "kernelspec": {
   "display_name": "Python 3",
   "language": "python",
   "name": "python3"
  },
  "language_info": {
   "codemirror_mode": {
    "name": "ipython",
    "version": 3
   },
   "file_extension": ".py",
   "mimetype": "text/x-python",
   "name": "python",
   "nbconvert_exporter": "python",
   "pygments_lexer": "ipython3",
   "version": "3.8.10"
  }
 },
 "nbformat": 4,
 "nbformat_minor": 4
}
