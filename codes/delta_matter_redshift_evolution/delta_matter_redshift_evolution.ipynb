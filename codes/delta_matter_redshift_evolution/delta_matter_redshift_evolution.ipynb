{
 "cells": [
  {
   "cell_type": "code",
   "execution_count": 29,
   "id": "4705f85f-3306-4a01-bf9a-3a43963ad69a",
   "metadata": {
    "execution": {
     "iopub.execute_input": "2021-08-31T12:39:36.748807Z",
     "iopub.status.busy": "2021-08-31T12:39:36.748482Z",
     "iopub.status.idle": "2021-08-31T12:39:40.686835Z",
     "shell.execute_reply": "2021-08-31T12:39:40.685833Z",
     "shell.execute_reply.started": "2021-08-31T12:39:36.748777Z"
    },
    "tags": []
   },
   "outputs": [],
   "source": [
    "import numpy as np \n",
    "import pandas as pd \n",
    "import matplotlib.pyplot as plt\n",
    "\n",
    "from astropy.cosmology import WMAP7 as cosmo_wmap7\n",
    "from astropy.cosmology import z_at_value\n",
    "from astropy import units as u"
   ]
  },
  {
   "cell_type": "markdown",
   "id": "1fd13ee0-cb7d-47ec-9ac8-2b35a0f6271f",
   "metadata": {},
   "source": [
    "**Comoving distance to the Magneticum box**"
   ]
  },
  {
   "cell_type": "code",
   "execution_count": 13,
   "id": "26669c08-e548-402c-86f4-f9714decd8fa",
   "metadata": {
    "execution": {
     "iopub.execute_input": "2021-08-31T08:29:12.701510Z",
     "iopub.status.busy": "2021-08-31T08:29:12.701178Z",
     "iopub.status.idle": "2021-08-31T08:29:12.706796Z",
     "shell.execute_reply": "2021-08-31T08:29:12.706276Z",
     "shell.execute_reply.started": "2021-08-31T08:29:12.701480Z"
    },
    "tags": []
   },
   "outputs": [
    {
     "data": {
      "text/latex": [
       "$1637.8274 \\; \\mathrm{Mpc}$"
      ],
      "text/plain": [
       "<Quantity 1637.82739092 Mpc>"
      ]
     },
     "execution_count": 13,
     "metadata": {},
     "output_type": "execute_result"
    }
   ],
   "source": [
    "z_sim = 0.42372720\n",
    "r_sim = cosmo_wmap7.comoving_distance(z_sim) \n",
    "r_sim"
   ]
  },
  {
   "cell_type": "code",
   "execution_count": 8,
   "id": "f0321bff-4d70-465e-bec1-4d8691c5a44e",
   "metadata": {
    "execution": {
     "iopub.execute_input": "2021-08-31T08:25:21.684742Z",
     "iopub.status.busy": "2021-08-31T08:25:21.684441Z",
     "iopub.status.idle": "2021-08-31T08:25:21.695781Z",
     "shell.execute_reply": "2021-08-31T08:25:21.694950Z",
     "shell.execute_reply.started": "2021-08-31T08:25:21.684713Z"
    },
    "tags": []
   },
   "outputs": [
    {
     "data": {
      "text/plain": [
       "0.42372720553998233"
      ]
     },
     "execution_count": 8,
     "metadata": {},
     "output_type": "execute_result"
    }
   ],
   "source": [
    "z_at_value(cosmo_wmap7.comoving_distance, r_sim) "
   ]
  },
  {
   "cell_type": "markdown",
   "id": "7afbe78d-40bf-4c5e-8d01-ebe1559cc473",
   "metadata": {},
   "source": [
    "**Calculation of redshift interval**"
   ]
  },
  {
   "cell_type": "code",
   "execution_count": 24,
   "id": "a781784e-343e-4273-9098-3c8f124b19e6",
   "metadata": {
    "execution": {
     "iopub.execute_input": "2021-08-31T08:34:22.307521Z",
     "iopub.status.busy": "2021-08-31T08:34:22.307191Z",
     "iopub.status.idle": "2021-08-31T08:34:22.318255Z",
     "shell.execute_reply": "2021-08-31T08:34:22.317719Z",
     "shell.execute_reply.started": "2021-08-31T08:34:22.307491Z"
    },
    "tags": []
   },
   "outputs": [
    {
     "data": {
      "text/plain": [
       "0.5600485449750474"
      ]
     },
     "execution_count": 24,
     "metadata": {},
     "output_type": "execute_result"
    }
   ],
   "source": [
    "z_up = z_at_value(cosmo_wmap7.comoving_distance, r_sim + (320 * u.Mpc / cosmo_wmap7.h)) \n",
    "z_up"
   ]
  },
  {
   "cell_type": "code",
   "execution_count": 25,
   "id": "ab6d4459-246b-4360-837d-c69d1e959b85",
   "metadata": {
    "execution": {
     "iopub.execute_input": "2021-08-31T08:34:22.900630Z",
     "iopub.status.busy": "2021-08-31T08:34:22.900303Z",
     "iopub.status.idle": "2021-08-31T08:34:22.910094Z",
     "shell.execute_reply": "2021-08-31T08:34:22.909498Z",
     "shell.execute_reply.started": "2021-08-31T08:34:22.900601Z"
    },
    "tags": []
   },
   "outputs": [
    {
     "data": {
      "text/plain": [
       "0.2968578613644829"
      ]
     },
     "execution_count": 25,
     "metadata": {},
     "output_type": "execute_result"
    }
   ],
   "source": [
    "z_low = z_at_value(cosmo_wmap7.comoving_distance, r_sim - (320 * u.Mpc / cosmo_wmap7.h)) \n",
    "z_low"
   ]
  },
  {
   "cell_type": "code",
   "execution_count": 27,
   "id": "f942c5d4-2ef7-4b9d-808b-f2bf498593a7",
   "metadata": {
    "execution": {
     "iopub.execute_input": "2021-08-31T08:34:36.509522Z",
     "iopub.status.busy": "2021-08-31T08:34:36.509155Z",
     "iopub.status.idle": "2021-08-31T08:34:36.515057Z",
     "shell.execute_reply": "2021-08-31T08:34:36.514285Z",
     "shell.execute_reply.started": "2021-08-31T08:34:36.509491Z"
    },
    "tags": []
   },
   "outputs": [
    {
     "data": {
      "text/plain": [
       "0.2631906836105645"
      ]
     },
     "execution_count": 27,
     "metadata": {},
     "output_type": "execute_result"
    }
   ],
   "source": [
    "dz = z_up - z_low\n",
    "dz"
   ]
  },
  {
   "cell_type": "markdown",
   "id": "f05a939a-b68e-44b3-a113-fc48dda9a9b3",
   "metadata": {},
   "source": [
    "**Calculation of difference in matter density parameter**"
   ]
  },
  {
   "cell_type": "code",
   "execution_count": 35,
   "id": "3dd069d1-89f0-4b28-90c3-7434b1f2ed75",
   "metadata": {
    "execution": {
     "iopub.execute_input": "2021-08-31T12:44:46.099089Z",
     "iopub.status.busy": "2021-08-31T12:44:46.098691Z",
     "iopub.status.idle": "2021-08-31T12:44:46.103351Z",
     "shell.execute_reply": "2021-08-31T12:44:46.102842Z",
     "shell.execute_reply.started": "2021-08-31T12:44:46.099058Z"
    },
    "tags": []
   },
   "outputs": [
    {
     "data": {
      "text/plain": [
       "0.272"
      ]
     },
     "execution_count": 35,
     "metadata": {},
     "output_type": "execute_result"
    }
   ],
   "source": [
    "cosmo_wmap7.Om(0)"
   ]
  },
  {
   "cell_type": "code",
   "execution_count": 32,
   "id": "f44e6e2b-25d0-4205-ba1a-414db004a3f7",
   "metadata": {
    "execution": {
     "iopub.execute_input": "2021-08-31T12:43:02.219422Z",
     "iopub.status.busy": "2021-08-31T12:43:02.219024Z",
     "iopub.status.idle": "2021-08-31T12:43:02.223699Z",
     "shell.execute_reply": "2021-08-31T12:43:02.223234Z",
     "shell.execute_reply.started": "2021-08-31T12:43:02.219393Z"
    },
    "tags": []
   },
   "outputs": [
    {
     "data": {
      "text/plain": [
       "0.4489589776342019"
      ]
     },
     "execution_count": 32,
     "metadata": {},
     "output_type": "execute_result"
    }
   ],
   "source": [
    "omega_m_low = cosmo_wmap7.Om(z_low)\n",
    "omega_m_low"
   ]
  },
  {
   "cell_type": "code",
   "execution_count": 33,
   "id": "660565ef-e090-42a1-9f7f-c5e9075bee63",
   "metadata": {
    "execution": {
     "iopub.execute_input": "2021-08-31T12:43:23.199688Z",
     "iopub.status.busy": "2021-08-31T12:43:23.199350Z",
     "iopub.status.idle": "2021-08-31T12:43:23.206162Z",
     "shell.execute_reply": "2021-08-31T12:43:23.205383Z",
     "shell.execute_reply.started": "2021-08-31T12:43:23.199660Z"
    },
    "tags": []
   },
   "outputs": [
    {
     "data": {
      "text/plain": [
       "0.586394953570787"
      ]
     },
     "execution_count": 33,
     "metadata": {},
     "output_type": "execute_result"
    }
   ],
   "source": [
    "omega_m_up = cosmo_wmap7.Om(z_up)\n",
    "omega_m_up"
   ]
  },
  {
   "cell_type": "code",
   "execution_count": 34,
   "id": "086f891f-ae38-4461-ac22-b77687cdd4a3",
   "metadata": {
    "execution": {
     "iopub.execute_input": "2021-08-31T12:43:46.744592Z",
     "iopub.status.busy": "2021-08-31T12:43:46.744295Z",
     "iopub.status.idle": "2021-08-31T12:43:46.749523Z",
     "shell.execute_reply": "2021-08-31T12:43:46.749011Z",
     "shell.execute_reply.started": "2021-08-31T12:43:46.744564Z"
    },
    "tags": []
   },
   "outputs": [
    {
     "data": {
      "text/plain": [
       "0.13743597593658508"
      ]
     },
     "execution_count": 34,
     "metadata": {},
     "output_type": "execute_result"
    }
   ],
   "source": [
    "omega_m_up - omega_m_low"
   ]
  },
  {
   "cell_type": "code",
   "execution_count": 30,
   "id": "97a9d0a5-2723-4481-a010-451beaba0700",
   "metadata": {
    "execution": {
     "iopub.execute_input": "2021-08-31T12:39:43.630057Z",
     "iopub.status.busy": "2021-08-31T12:39:43.629730Z",
     "iopub.status.idle": "2021-08-31T12:39:45.248171Z",
     "shell.execute_reply": "2021-08-31T12:39:45.247453Z",
     "shell.execute_reply.started": "2021-08-31T12:39:43.630026Z"
    },
    "tags": []
   },
   "outputs": [
    {
     "data": {
      "text/html": [
       "<div>\n",
       "<style scoped>\n",
       "    .dataframe tbody tr th:only-of-type {\n",
       "        vertical-align: middle;\n",
       "    }\n",
       "\n",
       "    .dataframe tbody tr th {\n",
       "        vertical-align: top;\n",
       "    }\n",
       "\n",
       "    .dataframe thead th {\n",
       "        text-align: right;\n",
       "    }\n",
       "</style>\n",
       "<table border=\"1\" class=\"dataframe\">\n",
       "  <thead>\n",
       "    <tr style=\"text-align: right;\">\n",
       "      <th></th>\n",
       "      <th>x[kpc/h]</th>\n",
       "      <th>y[kpc/h]</th>\n",
       "      <th>z[kpc/h]</th>\n",
       "      <th>m[Msol/h]</th>\n",
       "      <th>host</th>\n",
       "      <th>dist[kpc/h]</th>\n",
       "      <th>vx[km/s]</th>\n",
       "      <th>vy[km/s]</th>\n",
       "      <th>vz[km/s]</th>\n",
       "    </tr>\n",
       "  </thead>\n",
       "  <tbody>\n",
       "    <tr>\n",
       "      <th>count</th>\n",
       "      <td>93097.000000</td>\n",
       "      <td>93097.000000</td>\n",
       "      <td>93097.000000</td>\n",
       "      <td>9.309700e+04</td>\n",
       "      <td>93097.000000</td>\n",
       "      <td>93097.000000</td>\n",
       "      <td>93097.000000</td>\n",
       "      <td>93097.000000</td>\n",
       "      <td>93097.000000</td>\n",
       "    </tr>\n",
       "    <tr>\n",
       "      <th>mean</th>\n",
       "      <td>325576.133087</td>\n",
       "      <td>322500.028738</td>\n",
       "      <td>320613.762863</td>\n",
       "      <td>3.993206e+11</td>\n",
       "      <td>36294.172057</td>\n",
       "      <td>49.532974</td>\n",
       "      <td>0.763965</td>\n",
       "      <td>0.349477</td>\n",
       "      <td>-0.509183</td>\n",
       "    </tr>\n",
       "    <tr>\n",
       "      <th>std</th>\n",
       "      <td>184863.273960</td>\n",
       "      <td>182799.587421</td>\n",
       "      <td>183249.915097</td>\n",
       "      <td>3.995129e+11</td>\n",
       "      <td>21403.382524</td>\n",
       "      <td>179.779705</td>\n",
       "      <td>351.345586</td>\n",
       "      <td>343.572230</td>\n",
       "      <td>328.125457</td>\n",
       "    </tr>\n",
       "    <tr>\n",
       "      <th>min</th>\n",
       "      <td>1.864417</td>\n",
       "      <td>10.164207</td>\n",
       "      <td>0.260974</td>\n",
       "      <td>1.800010e+11</td>\n",
       "      <td>0.000000</td>\n",
       "      <td>0.000000</td>\n",
       "      <td>-2896.388700</td>\n",
       "      <td>-2323.086700</td>\n",
       "      <td>-2275.444800</td>\n",
       "    </tr>\n",
       "    <tr>\n",
       "      <th>25%</th>\n",
       "      <td>163866.950000</td>\n",
       "      <td>166201.380000</td>\n",
       "      <td>162514.560000</td>\n",
       "      <td>2.161480e+11</td>\n",
       "      <td>15329.000000</td>\n",
       "      <td>0.000000</td>\n",
       "      <td>-219.363920</td>\n",
       "      <td>-215.157970</td>\n",
       "      <td>-201.740720</td>\n",
       "    </tr>\n",
       "    <tr>\n",
       "      <th>50%</th>\n",
       "      <td>332449.620000</td>\n",
       "      <td>329260.160000</td>\n",
       "      <td>319925.780000</td>\n",
       "      <td>2.784900e+11</td>\n",
       "      <td>41555.000000</td>\n",
       "      <td>0.000000</td>\n",
       "      <td>-2.822351</td>\n",
       "      <td>2.646382</td>\n",
       "      <td>-3.028148</td>\n",
       "    </tr>\n",
       "    <tr>\n",
       "      <th>75%</th>\n",
       "      <td>483949.000000</td>\n",
       "      <td>475466.120000</td>\n",
       "      <td>478698.410000</td>\n",
       "      <td>4.192930e+11</td>\n",
       "      <td>57237.000000</td>\n",
       "      <td>0.000000</td>\n",
       "      <td>216.770710</td>\n",
       "      <td>214.257250</td>\n",
       "      <td>200.506210</td>\n",
       "    </tr>\n",
       "    <tr>\n",
       "      <th>max</th>\n",
       "      <td>639996.190000</td>\n",
       "      <td>639980.940000</td>\n",
       "      <td>639993.120000</td>\n",
       "      <td>1.077460e+13</td>\n",
       "      <td>57237.000000</td>\n",
       "      <td>2471.570000</td>\n",
       "      <td>2423.330800</td>\n",
       "      <td>3048.129900</td>\n",
       "      <td>2638.449000</td>\n",
       "    </tr>\n",
       "  </tbody>\n",
       "</table>\n",
       "</div>"
      ],
      "text/plain": [
       "            x[kpc/h]       y[kpc/h]       z[kpc/h]     m[Msol/h]  \\\n",
       "count   93097.000000   93097.000000   93097.000000  9.309700e+04   \n",
       "mean   325576.133087  322500.028738  320613.762863  3.993206e+11   \n",
       "std    184863.273960  182799.587421  183249.915097  3.995129e+11   \n",
       "min         1.864417      10.164207       0.260974  1.800010e+11   \n",
       "25%    163866.950000  166201.380000  162514.560000  2.161480e+11   \n",
       "50%    332449.620000  329260.160000  319925.780000  2.784900e+11   \n",
       "75%    483949.000000  475466.120000  478698.410000  4.192930e+11   \n",
       "max    639996.190000  639980.940000  639993.120000  1.077460e+13   \n",
       "\n",
       "               host   dist[kpc/h]      vx[km/s]      vy[km/s]      vz[km/s]  \n",
       "count  93097.000000  93097.000000  93097.000000  93097.000000  93097.000000  \n",
       "mean   36294.172057     49.532974      0.763965      0.349477     -0.509183  \n",
       "std    21403.382524    179.779705    351.345586    343.572230    328.125457  \n",
       "min        0.000000      0.000000  -2896.388700  -2323.086700  -2275.444800  \n",
       "25%    15329.000000      0.000000   -219.363920   -215.157970   -201.740720  \n",
       "50%    41555.000000      0.000000     -2.822351      2.646382     -3.028148  \n",
       "75%    57237.000000      0.000000    216.770710    214.257250    200.506210  \n",
       "max    57237.000000   2471.570000   2423.330800   3048.129900   2638.449000  "
      ]
     },
     "execution_count": 30,
     "metadata": {},
     "output_type": "execute_result"
    }
   ],
   "source": [
    "data_address = '../Data/'\n",
    "df_gal = pd.read_csv(data_address + 'massive_galaxies_10_11.25.csv')      #massive_galaxies.csv contains galaxies with mass greater than 1.8 ×10^{11} h^{−1} M_sun as done by Tanimura et al. (2020)\n",
    "df_gal.describe()"
   ]
  },
  {
   "cell_type": "code",
   "execution_count": null,
   "id": "faad0839-bf41-4500-a4ef-c2fafd846019",
   "metadata": {},
   "outputs": [],
   "source": []
  }
 ],
 "metadata": {
  "kernelspec": {
   "display_name": "Python 3",
   "language": "python",
   "name": "python3"
  },
  "language_info": {
   "codemirror_mode": {
    "name": "ipython",
    "version": 3
   },
   "file_extension": ".py",
   "mimetype": "text/x-python",
   "name": "python",
   "nbconvert_exporter": "python",
   "pygments_lexer": "ipython3",
   "version": "3.8.10"
  }
 },
 "nbformat": 4,
 "nbformat_minor": 5
}
