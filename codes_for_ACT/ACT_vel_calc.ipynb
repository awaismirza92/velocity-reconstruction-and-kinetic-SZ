{
 "cells": [
  {
   "cell_type": "code",
   "execution_count": 21,
   "id": "6d67b2e5-c563-43c7-9e14-e367a0dc90db",
   "metadata": {
    "execution": {
     "iopub.execute_input": "2021-08-30T19:16:01.393105Z",
     "iopub.status.busy": "2021-08-30T19:16:01.392817Z",
     "iopub.status.idle": "2021-08-30T19:16:01.730775Z",
     "shell.execute_reply": "2021-08-30T19:16:01.730098Z",
     "shell.execute_reply.started": "2021-08-30T19:16:01.393076Z"
    },
    "tags": []
   },
   "outputs": [],
   "source": [
    "import numpy as np \n",
    "import pandas as pd \n",
    "import multiprocessing as multi\n",
    "import matplotlib.pyplot as plt\n",
    "from scipy.optimize import curve_fit\n",
    "import time\n",
    "from astropy.cosmology import Planck18 as cosmo"
   ]
  },
  {
   "cell_type": "code",
   "execution_count": 2,
   "id": "b19af76f-3ffa-42b7-a9a7-86af865f2aa7",
   "metadata": {
    "execution": {
     "iopub.execute_input": "2021-08-30T18:25:56.092695Z",
     "iopub.status.busy": "2021-08-30T18:25:56.092507Z",
     "iopub.status.idle": "2021-08-30T18:25:56.230093Z",
     "shell.execute_reply": "2021-08-30T18:25:56.228923Z",
     "shell.execute_reply.started": "2021-08-30T18:25:56.092668Z"
    },
    "tags": []
   },
   "outputs": [],
   "source": [
    "%%capture PC_name \n",
    "!hostname"
   ]
  },
  {
   "cell_type": "markdown",
   "id": "c9e6b94d-1224-4f2d-99a5-18b50ba47399",
   "metadata": {},
   "source": [
    "**Setting notebook parameters**"
   ]
  },
  {
   "cell_type": "code",
   "execution_count": 3,
   "id": "e96c5999-7951-4e67-9151-59ac15e3a74c",
   "metadata": {
    "execution": {
     "iopub.execute_input": "2021-08-30T18:25:56.886483Z",
     "iopub.status.busy": "2021-08-30T18:25:56.886177Z",
     "iopub.status.idle": "2021-08-30T18:25:56.893968Z",
     "shell.execute_reply": "2021-08-30T18:25:56.892943Z",
     "shell.execute_reply.started": "2021-08-30T18:25:56.886449Z"
    },
    "tags": []
   },
   "outputs": [
    {
     "name": "stdout",
     "output_type": "stream",
     "text": [
      "arc10\n",
      "42\n"
     ]
    }
   ],
   "source": [
    "#setting dots per inch for images\n",
    "dpi = 90\n",
    "\n",
    "#setting number of processors for multiprocessing\n",
    "PC_name_str = PC_name.stdout[0:-2]\n",
    "\n",
    "if (PC_name_str == 'arc10'or PC_name_str == 'science11' or \n",
    "        PC_name_str == 'science10'):\n",
    "    cores = 42        \n",
    "#     cores = multi.cpu_count()\n",
    "    \n",
    "else:\n",
    "    cores = multi.cpu_count()\n",
    "\n",
    "print(PC_name_str)\n",
    "print(cores)"
   ]
  },
  {
   "cell_type": "code",
   "execution_count": 52,
   "id": "4faa6da5-099f-4111-93ef-fd00bee73fda",
   "metadata": {
    "execution": {
     "iopub.execute_input": "2021-08-30T20:08:16.047521Z",
     "iopub.status.busy": "2021-08-30T20:08:16.047254Z",
     "iopub.status.idle": "2021-08-30T20:08:17.838135Z",
     "shell.execute_reply": "2021-08-30T20:08:17.837625Z",
     "shell.execute_reply.started": "2021-08-30T20:08:16.047494Z"
    },
    "tags": []
   },
   "outputs": [
    {
     "data": {
      "text/html": [
       "<div>\n",
       "<style scoped>\n",
       "    .dataframe tbody tr th:only-of-type {\n",
       "        vertical-align: middle;\n",
       "    }\n",
       "\n",
       "    .dataframe tbody tr th {\n",
       "        vertical-align: top;\n",
       "    }\n",
       "\n",
       "    .dataframe thead th {\n",
       "        text-align: right;\n",
       "    }\n",
       "</style>\n",
       "<table border=\"1\" class=\"dataframe\">\n",
       "  <thead>\n",
       "    <tr style=\"text-align: right;\">\n",
       "      <th></th>\n",
       "      <th>RA</th>\n",
       "      <th>DEC</th>\n",
       "      <th>Z</th>\n",
       "      <th>r_comov[Mpc/h]</th>\n",
       "      <th>X_comov[Mpc/h]</th>\n",
       "      <th>Y_comov[Mpc/h]</th>\n",
       "      <th>Z_comov[Mpc/h]</th>\n",
       "    </tr>\n",
       "  </thead>\n",
       "  <tbody>\n",
       "    <tr>\n",
       "      <th>count</th>\n",
       "      <td>1325735.000</td>\n",
       "      <td>1325735.000</td>\n",
       "      <td>1325735.000</td>\n",
       "      <td>1325735.000</td>\n",
       "      <td>1325735.000</td>\n",
       "      <td>1325735.000</td>\n",
       "      <td>1325735.000</td>\n",
       "    </tr>\n",
       "    <tr>\n",
       "      <th>mean</th>\n",
       "      <td>178.676</td>\n",
       "      <td>23.417</td>\n",
       "      <td>0.452</td>\n",
       "      <td>2596.975</td>\n",
       "      <td>-594.580</td>\n",
       "      <td>-74.705</td>\n",
       "      <td>976.706</td>\n",
       "    </tr>\n",
       "    <tr>\n",
       "      <th>std</th>\n",
       "      <td>92.194</td>\n",
       "      <td>18.180</td>\n",
       "      <td>0.157</td>\n",
       "      <td>823.919</td>\n",
       "      <td>1964.434</td>\n",
       "      <td>1263.945</td>\n",
       "      <td>808.397</td>\n",
       "    </tr>\n",
       "    <tr>\n",
       "      <th>min</th>\n",
       "      <td>0.000</td>\n",
       "      <td>-10.997</td>\n",
       "      <td>0.000</td>\n",
       "      <td>0.032</td>\n",
       "      <td>-4993.670</td>\n",
       "      <td>-4315.740</td>\n",
       "      <td>-805.466</td>\n",
       "    </tr>\n",
       "    <tr>\n",
       "      <th>25%</th>\n",
       "      <td>135.845</td>\n",
       "      <td>8.361</td>\n",
       "      <td>0.347</td>\n",
       "      <td>2083.786</td>\n",
       "      <td>-2049.560</td>\n",
       "      <td>-983.879</td>\n",
       "      <td>307.587</td>\n",
       "    </tr>\n",
       "    <tr>\n",
       "      <th>50%</th>\n",
       "      <td>181.891</td>\n",
       "      <td>21.477</td>\n",
       "      <td>0.486</td>\n",
       "      <td>2808.285</td>\n",
       "      <td>-1230.263</td>\n",
       "      <td>-33.060</td>\n",
       "      <td>847.189</td>\n",
       "    </tr>\n",
       "    <tr>\n",
       "      <th>75%</th>\n",
       "      <td>227.366</td>\n",
       "      <td>35.940</td>\n",
       "      <td>0.563</td>\n",
       "      <td>3185.174</td>\n",
       "      <td>1177.849</td>\n",
       "      <td>835.904</td>\n",
       "      <td>1535.834</td>\n",
       "    </tr>\n",
       "    <tr>\n",
       "      <th>max</th>\n",
       "      <td>359.999</td>\n",
       "      <td>68.738</td>\n",
       "      <td>1.137</td>\n",
       "      <td>5500.920</td>\n",
       "      <td>4902.803</td>\n",
       "      <td>4241.546</td>\n",
       "      <td>4441.835</td>\n",
       "    </tr>\n",
       "  </tbody>\n",
       "</table>\n",
       "</div>"
      ],
      "text/plain": [
       "                RA          DEC            Z r_comov[Mpc/h] X_comov[Mpc/h]  \\\n",
       "count  1325735.000  1325735.000  1325735.000    1325735.000    1325735.000   \n",
       "mean       178.676       23.417        0.452       2596.975       -594.580   \n",
       "std         92.194       18.180        0.157        823.919       1964.434   \n",
       "min          0.000      -10.997        0.000          0.032      -4993.670   \n",
       "25%        135.845        8.361        0.347       2083.786      -2049.560   \n",
       "50%        181.891       21.477        0.486       2808.285      -1230.263   \n",
       "75%        227.366       35.940        0.563       3185.174       1177.849   \n",
       "max        359.999       68.738        1.137       5500.920       4902.803   \n",
       "\n",
       "      Y_comov[Mpc/h] Z_comov[Mpc/h]  \n",
       "count    1325735.000    1325735.000  \n",
       "mean         -74.705        976.706  \n",
       "std         1263.945        808.397  \n",
       "min        -4315.740       -805.466  \n",
       "25%         -983.879        307.587  \n",
       "50%          -33.060        847.189  \n",
       "75%          835.904       1535.834  \n",
       "max         4241.546       4441.835  "
      ]
     },
     "execution_count": 52,
     "metadata": {},
     "output_type": "execute_result"
    }
   ],
   "source": [
    "df_sdss_gals = pd.read_csv('../codes_for_SDSS/Data/SAS_FITS/galaxy_DR12v5_CMASSLOWZTOT_all_sky_Comov.csv',\n",
    "                         index_col = 0)\n",
    "df_sdss_gals.describe().apply(lambda s: s.apply('{0:.3f}'.format))"
   ]
  },
  {
   "cell_type": "code",
   "execution_count": 56,
   "id": "da662f54-99a8-4355-a750-b621e43f0661",
   "metadata": {
    "execution": {
     "iopub.execute_input": "2021-08-30T20:09:59.367589Z",
     "iopub.status.busy": "2021-08-30T20:09:59.367288Z",
     "iopub.status.idle": "2021-08-30T20:09:59.396698Z",
     "shell.execute_reply": "2021-08-30T20:09:59.396044Z",
     "shell.execute_reply.started": "2021-08-30T20:09:59.367535Z"
    },
    "tags": []
   },
   "outputs": [
    {
     "data": {
      "text/html": [
       "<div>\n",
       "<style scoped>\n",
       "    .dataframe tbody tr th:only-of-type {\n",
       "        vertical-align: middle;\n",
       "    }\n",
       "\n",
       "    .dataframe tbody tr th {\n",
       "        vertical-align: top;\n",
       "    }\n",
       "\n",
       "    .dataframe thead th {\n",
       "        text-align: right;\n",
       "    }\n",
       "</style>\n",
       "<table border=\"1\" class=\"dataframe\">\n",
       "  <thead>\n",
       "    <tr style=\"text-align: right;\">\n",
       "      <th></th>\n",
       "      <th>RA</th>\n",
       "      <th>DEC</th>\n",
       "      <th>Z</th>\n",
       "      <th>r_comov[Mpc/h]</th>\n",
       "      <th>X_comov[Mpc/h]</th>\n",
       "      <th>Y_comov[Mpc/h]</th>\n",
       "      <th>Z_comov[Mpc/h]</th>\n",
       "      <th>x_comov[kpc/h]</th>\n",
       "      <th>X_comov[kpc/h]</th>\n",
       "      <th>Y_comov[kpc/h]</th>\n",
       "      <th>Z_comov[kpc/h]</th>\n",
       "    </tr>\n",
       "  </thead>\n",
       "  <tbody>\n",
       "    <tr>\n",
       "      <th>0</th>\n",
       "      <td>195.071285</td>\n",
       "      <td>-0.590771</td>\n",
       "      <td>0.465648</td>\n",
       "      <td>2704.395477</td>\n",
       "      <td>-2611.233755</td>\n",
       "      <td>-703.161177</td>\n",
       "      <td>-27.884270</td>\n",
       "      <td>-2.611234e+06</td>\n",
       "      <td>-2.611234e+06</td>\n",
       "      <td>-703161.177447</td>\n",
       "      <td>-27884.269664</td>\n",
       "    </tr>\n",
       "    <tr>\n",
       "      <th>1</th>\n",
       "      <td>195.022992</td>\n",
       "      <td>-0.610999</td>\n",
       "      <td>0.565802</td>\n",
       "      <td>3197.099944</td>\n",
       "      <td>-3087.653536</td>\n",
       "      <td>-828.662392</td>\n",
       "      <td>-34.093028</td>\n",
       "      <td>-3.087654e+06</td>\n",
       "      <td>-3.087654e+06</td>\n",
       "      <td>-828662.392027</td>\n",
       "      <td>-34093.027531</td>\n",
       "    </tr>\n",
       "    <tr>\n",
       "      <th>2</th>\n",
       "      <td>195.079741</td>\n",
       "      <td>0.348981</td>\n",
       "      <td>0.612211</td>\n",
       "      <td>3415.450663</td>\n",
       "      <td>-3297.777358</td>\n",
       "      <td>-888.557803</td>\n",
       "      <td>20.802909</td>\n",
       "      <td>-3.297777e+06</td>\n",
       "      <td>-3.297777e+06</td>\n",
       "      <td>-888557.802646</td>\n",
       "      <td>20802.909209</td>\n",
       "    </tr>\n",
       "    <tr>\n",
       "      <th>3</th>\n",
       "      <td>195.170574</td>\n",
       "      <td>0.359864</td>\n",
       "      <td>0.502060</td>\n",
       "      <td>2886.985908</td>\n",
       "      <td>-2786.322445</td>\n",
       "      <td>-755.490623</td>\n",
       "      <td>18.132505</td>\n",
       "      <td>-2.786322e+06</td>\n",
       "      <td>-2.786322e+06</td>\n",
       "      <td>-755490.623176</td>\n",
       "      <td>18132.505089</td>\n",
       "    </tr>\n",
       "    <tr>\n",
       "      <th>4</th>\n",
       "      <td>195.204289</td>\n",
       "      <td>0.347267</td>\n",
       "      <td>0.559173</td>\n",
       "      <td>3165.404974</td>\n",
       "      <td>-3054.549769</td>\n",
       "      <td>-830.148348</td>\n",
       "      <td>19.185261</td>\n",
       "      <td>-3.054550e+06</td>\n",
       "      <td>-3.054550e+06</td>\n",
       "      <td>-830148.348049</td>\n",
       "      <td>19185.260862</td>\n",
       "    </tr>\n",
       "  </tbody>\n",
       "</table>\n",
       "</div>"
      ],
      "text/plain": [
       "           RA       DEC         Z  r_comov[Mpc/h]  X_comov[Mpc/h]  \\\n",
       "0  195.071285 -0.590771  0.465648     2704.395477    -2611.233755   \n",
       "1  195.022992 -0.610999  0.565802     3197.099944    -3087.653536   \n",
       "2  195.079741  0.348981  0.612211     3415.450663    -3297.777358   \n",
       "3  195.170574  0.359864  0.502060     2886.985908    -2786.322445   \n",
       "4  195.204289  0.347267  0.559173     3165.404974    -3054.549769   \n",
       "\n",
       "   Y_comov[Mpc/h]  Z_comov[Mpc/h]  x_comov[kpc/h]  X_comov[kpc/h]  \\\n",
       "0     -703.161177      -27.884270   -2.611234e+06   -2.611234e+06   \n",
       "1     -828.662392      -34.093028   -3.087654e+06   -3.087654e+06   \n",
       "2     -888.557803       20.802909   -3.297777e+06   -3.297777e+06   \n",
       "3     -755.490623       18.132505   -2.786322e+06   -2.786322e+06   \n",
       "4     -830.148348       19.185261   -3.054550e+06   -3.054550e+06   \n",
       "\n",
       "   Y_comov[kpc/h]  Z_comov[kpc/h]  \n",
       "0  -703161.177447   -27884.269664  \n",
       "1  -828662.392027   -34093.027531  \n",
       "2  -888557.802646    20802.909209  \n",
       "3  -755490.623176    18132.505089  \n",
       "4  -830148.348049    19185.260862  "
      ]
     },
     "execution_count": 56,
     "metadata": {},
     "output_type": "execute_result"
    }
   ],
   "source": [
    "df_sdss_gals['X_comov[kpc/h]'] = df_sdss_gals['X_comov[Mpc/h]']*1e3\n",
    "df_sdss_gals['Y_comov[kpc/h]'] = df_sdss_gals['Y_comov[Mpc/h]']*1e3\n",
    "df_sdss_gals['Z_comov[kpc/h]'] = df_sdss_gals['Z_comov[Mpc/h]']*1e3\n",
    "df_sdss_gals.head()"
   ]
  },
  {
   "cell_type": "code",
   "execution_count": 5,
   "id": "8b7afdd2-4c90-404b-aa08-3a2d0cf23c66",
   "metadata": {
    "execution": {
     "iopub.execute_input": "2021-08-30T18:27:29.374173Z",
     "iopub.status.busy": "2021-08-30T18:27:29.373913Z",
     "iopub.status.idle": "2021-08-30T18:27:29.410354Z",
     "shell.execute_reply": "2021-08-30T18:27:29.409878Z",
     "shell.execute_reply.started": "2021-08-30T18:27:29.374130Z"
    },
    "tags": []
   },
   "outputs": [
    {
     "data": {
      "text/html": [
       "<div>\n",
       "<style scoped>\n",
       "    .dataframe tbody tr th:only-of-type {\n",
       "        vertical-align: middle;\n",
       "    }\n",
       "\n",
       "    .dataframe tbody tr th {\n",
       "        vertical-align: top;\n",
       "    }\n",
       "\n",
       "    .dataframe thead th {\n",
       "        text-align: right;\n",
       "    }\n",
       "</style>\n",
       "<table border=\"1\" class=\"dataframe\">\n",
       "  <thead>\n",
       "    <tr style=\"text-align: right;\">\n",
       "      <th></th>\n",
       "      <th>RADeg</th>\n",
       "      <th>decDeg</th>\n",
       "      <th>redshift</th>\n",
       "      <th>M500</th>\n",
       "      <th>r_comov[Mpc/h]</th>\n",
       "      <th>x_comov[Mpc/h]</th>\n",
       "      <th>y_comov[Mpc/h]</th>\n",
       "      <th>z_comov[Mpc/h]</th>\n",
       "    </tr>\n",
       "  </thead>\n",
       "  <tbody>\n",
       "    <tr>\n",
       "      <th>count</th>\n",
       "      <td>4195.000000</td>\n",
       "      <td>4195.000000</td>\n",
       "      <td>4195.000000</td>\n",
       "      <td>4195.000000</td>\n",
       "      <td>4195.000000</td>\n",
       "      <td>4195.000000</td>\n",
       "      <td>4195.000000</td>\n",
       "      <td>4195.000000</td>\n",
       "    </tr>\n",
       "    <tr>\n",
       "      <th>mean</th>\n",
       "      <td>151.193567</td>\n",
       "      <td>-11.682177</td>\n",
       "      <td>0.550965</td>\n",
       "      <td>2.621147</td>\n",
       "      <td>3030.791002</td>\n",
       "      <td>471.456800</td>\n",
       "      <td>324.588298</td>\n",
       "      <td>-565.562838</td>\n",
       "    </tr>\n",
       "    <tr>\n",
       "      <th>std</th>\n",
       "      <td>117.664528</td>\n",
       "      <td>24.306970</td>\n",
       "      <td>0.260175</td>\n",
       "      <td>1.092935</td>\n",
       "      <td>1210.984726</td>\n",
       "      <td>2364.292580</td>\n",
       "      <td>1635.569100</td>\n",
       "      <td>1319.756732</td>\n",
       "    </tr>\n",
       "    <tr>\n",
       "      <th>min</th>\n",
       "      <td>0.020896</td>\n",
       "      <td>-59.987040</td>\n",
       "      <td>0.035200</td>\n",
       "      <td>1.042072</td>\n",
       "      <td>228.608662</td>\n",
       "      <td>-6163.229233</td>\n",
       "      <td>-5208.507048</td>\n",
       "      <td>-5650.519796</td>\n",
       "    </tr>\n",
       "    <tr>\n",
       "      <th>25%</th>\n",
       "      <td>39.386235</td>\n",
       "      <td>-34.828811</td>\n",
       "      <td>0.354170</td>\n",
       "      <td>1.961358</td>\n",
       "      <td>2120.021116</td>\n",
       "      <td>-1613.598656</td>\n",
       "      <td>-775.581220</td>\n",
       "      <td>-1455.432920</td>\n",
       "    </tr>\n",
       "    <tr>\n",
       "      <th>50%</th>\n",
       "      <td>144.342767</td>\n",
       "      <td>-2.252158</td>\n",
       "      <td>0.519816</td>\n",
       "      <td>2.361268</td>\n",
       "      <td>2974.576250</td>\n",
       "      <td>1069.530532</td>\n",
       "      <td>384.114036</td>\n",
       "      <td>-99.930771</td>\n",
       "    </tr>\n",
       "    <tr>\n",
       "      <th>75%</th>\n",
       "      <td>232.604297</td>\n",
       "      <td>8.957936</td>\n",
       "      <td>0.709455</td>\n",
       "      <td>2.937229</td>\n",
       "      <td>3853.453854</td>\n",
       "      <td>2242.835822</td>\n",
       "      <td>1467.460902</td>\n",
       "      <td>367.275769</td>\n",
       "    </tr>\n",
       "    <tr>\n",
       "      <th>max</th>\n",
       "      <td>359.988280</td>\n",
       "      <td>20.486048</td>\n",
       "      <td>1.910000</td>\n",
       "      <td>13.442958</td>\n",
       "      <td>7645.791379</td>\n",
       "      <td>6535.053581</td>\n",
       "      <td>5109.411777</td>\n",
       "      <td>2019.742158</td>\n",
       "    </tr>\n",
       "  </tbody>\n",
       "</table>\n",
       "</div>"
      ],
      "text/plain": [
       "             RADeg       decDeg     redshift         M500  r_comov[Mpc/h]  \\\n",
       "count  4195.000000  4195.000000  4195.000000  4195.000000     4195.000000   \n",
       "mean    151.193567   -11.682177     0.550965     2.621147     3030.791002   \n",
       "std     117.664528    24.306970     0.260175     1.092935     1210.984726   \n",
       "min       0.020896   -59.987040     0.035200     1.042072      228.608662   \n",
       "25%      39.386235   -34.828811     0.354170     1.961358     2120.021116   \n",
       "50%     144.342767    -2.252158     0.519816     2.361268     2974.576250   \n",
       "75%     232.604297     8.957936     0.709455     2.937229     3853.453854   \n",
       "max     359.988280    20.486048     1.910000    13.442958     7645.791379   \n",
       "\n",
       "       x_comov[Mpc/h]  y_comov[Mpc/h]  z_comov[Mpc/h]  \n",
       "count     4195.000000     4195.000000     4195.000000  \n",
       "mean       471.456800      324.588298     -565.562838  \n",
       "std       2364.292580     1635.569100     1319.756732  \n",
       "min      -6163.229233    -5208.507048    -5650.519796  \n",
       "25%      -1613.598656     -775.581220    -1455.432920  \n",
       "50%       1069.530532      384.114036      -99.930771  \n",
       "75%       2242.835822     1467.460902      367.275769  \n",
       "max       6535.053581     5109.411777     2019.742158  "
      ]
     },
     "execution_count": 5,
     "metadata": {},
     "output_type": "execute_result"
    }
   ],
   "source": [
    "df_act_clus = pd.read_csv('Data/ACT_DR5_Clusters_Comov.csv', index_col = 0)\n",
    "df_act_clus.describe()"
   ]
  },
  {
   "cell_type": "code",
   "execution_count": 57,
   "id": "7602f516-1be3-4b06-b318-42075b62b054",
   "metadata": {
    "execution": {
     "iopub.execute_input": "2021-08-30T20:11:18.865215Z",
     "iopub.status.busy": "2021-08-30T20:11:18.864902Z",
     "iopub.status.idle": "2021-08-30T20:11:18.891449Z",
     "shell.execute_reply": "2021-08-30T20:11:18.890794Z",
     "shell.execute_reply.started": "2021-08-30T20:11:18.865188Z"
    },
    "tags": []
   },
   "outputs": [
    {
     "data": {
      "text/html": [
       "<div>\n",
       "<style scoped>\n",
       "    .dataframe tbody tr th:only-of-type {\n",
       "        vertical-align: middle;\n",
       "    }\n",
       "\n",
       "    .dataframe tbody tr th {\n",
       "        vertical-align: top;\n",
       "    }\n",
       "\n",
       "    .dataframe thead th {\n",
       "        text-align: right;\n",
       "    }\n",
       "</style>\n",
       "<table border=\"1\" class=\"dataframe\">\n",
       "  <thead>\n",
       "    <tr style=\"text-align: right;\">\n",
       "      <th></th>\n",
       "      <th>RADeg</th>\n",
       "      <th>decDeg</th>\n",
       "      <th>redshift</th>\n",
       "      <th>M500</th>\n",
       "      <th>r_comov[Mpc/h]</th>\n",
       "      <th>x_comov[Mpc/h]</th>\n",
       "      <th>y_comov[Mpc/h]</th>\n",
       "      <th>z_comov[Mpc/h]</th>\n",
       "      <th>x_comov[kpc/h]</th>\n",
       "      <th>y_comov[kpc/h]</th>\n",
       "      <th>z_comov[kpc/h]</th>\n",
       "    </tr>\n",
       "  </thead>\n",
       "  <tbody>\n",
       "    <tr>\n",
       "      <th>0</th>\n",
       "      <td>0.020896</td>\n",
       "      <td>-38.626729</td>\n",
       "      <td>0.300599</td>\n",
       "      <td>1.683921</td>\n",
       "      <td>1825.260116</td>\n",
       "      <td>1425.946665</td>\n",
       "      <td>0.520058</td>\n",
       "      <td>-1139.407886</td>\n",
       "      <td>1.425947e+06</td>\n",
       "      <td>520.057670</td>\n",
       "      <td>-1.139408e+06</td>\n",
       "    </tr>\n",
       "    <tr>\n",
       "      <th>1</th>\n",
       "      <td>0.061318</td>\n",
       "      <td>-43.955645</td>\n",
       "      <td>0.878131</td>\n",
       "      <td>2.437253</td>\n",
       "      <td>4554.508919</td>\n",
       "      <td>3278.685902</td>\n",
       "      <td>3.508881</td>\n",
       "      <td>-3161.290549</td>\n",
       "      <td>3.278686e+06</td>\n",
       "      <td>3508.880938</td>\n",
       "      <td>-3.161291e+06</td>\n",
       "    </tr>\n",
       "    <tr>\n",
       "      <th>2</th>\n",
       "      <td>0.089905</td>\n",
       "      <td>-28.091255</td>\n",
       "      <td>0.282570</td>\n",
       "      <td>2.700574</td>\n",
       "      <td>1723.993853</td>\n",
       "      <td>1520.903339</td>\n",
       "      <td>2.386502</td>\n",
       "      <td>-811.789470</td>\n",
       "      <td>1.520903e+06</td>\n",
       "      <td>2386.502199</td>\n",
       "      <td>-8.117895e+05</td>\n",
       "    </tr>\n",
       "    <tr>\n",
       "      <th>3</th>\n",
       "      <td>0.113536</td>\n",
       "      <td>-1.044805</td>\n",
       "      <td>0.438800</td>\n",
       "      <td>1.493793</td>\n",
       "      <td>2567.184731</td>\n",
       "      <td>2566.752876</td>\n",
       "      <td>5.086245</td>\n",
       "      <td>-46.810749</td>\n",
       "      <td>2.566753e+06</td>\n",
       "      <td>5086.245373</td>\n",
       "      <td>-4.681075e+04</td>\n",
       "    </tr>\n",
       "    <tr>\n",
       "      <th>4</th>\n",
       "      <td>0.113978</td>\n",
       "      <td>-5.880626</td>\n",
       "      <td>0.201735</td>\n",
       "      <td>1.623578</td>\n",
       "      <td>1257.042246</td>\n",
       "      <td>1250.424611</td>\n",
       "      <td>2.487471</td>\n",
       "      <td>-128.791742</td>\n",
       "      <td>1.250425e+06</td>\n",
       "      <td>2487.470881</td>\n",
       "      <td>-1.287917e+05</td>\n",
       "    </tr>\n",
       "  </tbody>\n",
       "</table>\n",
       "</div>"
      ],
      "text/plain": [
       "      RADeg     decDeg  redshift      M500  r_comov[Mpc/h]  x_comov[Mpc/h]  \\\n",
       "0  0.020896 -38.626729  0.300599  1.683921     1825.260116     1425.946665   \n",
       "1  0.061318 -43.955645  0.878131  2.437253     4554.508919     3278.685902   \n",
       "2  0.089905 -28.091255  0.282570  2.700574     1723.993853     1520.903339   \n",
       "3  0.113536  -1.044805  0.438800  1.493793     2567.184731     2566.752876   \n",
       "4  0.113978  -5.880626  0.201735  1.623578     1257.042246     1250.424611   \n",
       "\n",
       "   y_comov[Mpc/h]  z_comov[Mpc/h]  x_comov[kpc/h]  y_comov[kpc/h]  \\\n",
       "0        0.520058    -1139.407886    1.425947e+06      520.057670   \n",
       "1        3.508881    -3161.290549    3.278686e+06     3508.880938   \n",
       "2        2.386502     -811.789470    1.520903e+06     2386.502199   \n",
       "3        5.086245      -46.810749    2.566753e+06     5086.245373   \n",
       "4        2.487471     -128.791742    1.250425e+06     2487.470881   \n",
       "\n",
       "   z_comov[kpc/h]  \n",
       "0   -1.139408e+06  \n",
       "1   -3.161291e+06  \n",
       "2   -8.117895e+05  \n",
       "3   -4.681075e+04  \n",
       "4   -1.287917e+05  "
      ]
     },
     "execution_count": 57,
     "metadata": {},
     "output_type": "execute_result"
    }
   ],
   "source": [
    "df_act_clus['x_comov[kpc/h]'] = df_act_clus['x_comov[Mpc/h]']*1e3\n",
    "df_act_clus['y_comov[kpc/h]'] = df_act_clus['y_comov[Mpc/h]']*1e3\n",
    "df_act_clus['z_comov[kpc/h]'] = df_act_clus['z_comov[Mpc/h]']*1e3\n",
    "df_act_clus.head()"
   ]
  },
  {
   "cell_type": "code",
   "execution_count": 104,
   "id": "4d74b643-80d7-4200-9ab6-e33d5c8213bd",
   "metadata": {
    "execution": {
     "iopub.execute_input": "2021-10-04T16:43:07.856794Z",
     "iopub.status.busy": "2021-10-04T16:43:07.856514Z",
     "iopub.status.idle": "2021-10-04T16:43:07.861951Z",
     "shell.execute_reply": "2021-10-04T16:43:07.861244Z",
     "shell.execute_reply.started": "2021-10-04T16:43:07.856766Z"
    },
    "tags": []
   },
   "outputs": [],
   "source": [
    "def pre_fac_func(z):\n",
    "    \n",
    "    f = cosmo.Om(z)**0.545\n",
    "    a = 1/(1+z)\n",
    "    H = cosmo.H(z).value\n",
    "    \n",
    "    pre_fac = (f * a * H / (4 * np.pi))           #in km s^−1 Mpc^−1 \n",
    "    \n",
    "    return pre_fac"
   ]
  },
  {
   "cell_type": "code",
   "execution_count": 100,
   "id": "4d44658e-165d-4a2a-84df-2ca717a26e2f",
   "metadata": {
    "execution": {
     "iopub.execute_input": "2021-10-04T16:38:55.541919Z",
     "iopub.status.busy": "2021-10-04T16:38:55.541439Z",
     "iopub.status.idle": "2021-10-04T16:38:55.568712Z",
     "shell.execute_reply": "2021-10-04T16:38:55.567925Z",
     "shell.execute_reply.started": "2021-10-04T16:38:55.541878Z"
    },
    "tags": []
   },
   "outputs": [
    {
     "data": {
      "text/plain": [
       "0.30966"
      ]
     },
     "execution_count": 100,
     "metadata": {},
     "output_type": "execute_result"
    }
   ],
   "source": [
    "cosmo.Om0"
   ]
  },
  {
   "cell_type": "code",
   "execution_count": 102,
   "id": "9add0030-9975-47db-9ceb-8eded148c787",
   "metadata": {
    "execution": {
     "iopub.execute_input": "2021-10-04T16:40:29.809097Z",
     "iopub.status.busy": "2021-10-04T16:40:29.808762Z",
     "iopub.status.idle": "2021-10-04T16:40:29.814176Z",
     "shell.execute_reply": "2021-10-04T16:40:29.813706Z",
     "shell.execute_reply.started": "2021-10-04T16:40:29.809068Z"
    },
    "tags": []
   },
   "outputs": [
    {
     "data": {
      "text/plain": [
       "0.6009362572181041"
      ]
     },
     "execution_count": 102,
     "metadata": {},
     "output_type": "execute_result"
    }
   ],
   "source": [
    "cosmo.Om(0.5)"
   ]
  },
  {
   "cell_type": "code",
   "execution_count": 64,
   "id": "6d1c311a-452c-4672-8e47-365bc984e179",
   "metadata": {
    "execution": {
     "iopub.execute_input": "2021-08-30T20:13:58.551222Z",
     "iopub.status.busy": "2021-08-30T20:13:58.550967Z",
     "iopub.status.idle": "2021-08-30T20:13:58.557718Z",
     "shell.execute_reply": "2021-08-30T20:13:58.557212Z",
     "shell.execute_reply.started": "2021-08-30T20:13:58.551195Z"
    },
    "tags": []
   },
   "outputs": [
    {
     "data": {
      "text/plain": [
       "2.5147943204092167"
      ]
     },
     "execution_count": 64,
     "metadata": {},
     "output_type": "execute_result"
    }
   ],
   "source": [
    "pre_fac_func(z)"
   ]
  },
  {
   "cell_type": "code",
   "execution_count": 58,
   "id": "ec726154-1b75-402f-9fbd-b0754dbb9920",
   "metadata": {
    "execution": {
     "iopub.execute_input": "2021-08-30T20:13:51.739068Z",
     "iopub.status.busy": "2021-08-30T20:13:51.738696Z",
     "iopub.status.idle": "2021-08-30T20:13:51.744683Z",
     "shell.execute_reply": "2021-08-30T20:13:51.744193Z",
     "shell.execute_reply.started": "2021-08-30T20:13:51.739039Z"
    },
    "tags": []
   },
   "outputs": [],
   "source": [
    "def gehrels_confidence_limits(gals_in_cell):\n",
    "    \n",
    "    #Using Eq. 9 of Gehrels(1985)\n",
    "    S = 1 #determining 1 sigma error bars\n",
    "    gals_in_cell_up = (gals_in_cell + 1) * (1 - (1 /(9 * (gals_in_cell + 1))) + (S / (3 * np.sqrt(gals_in_cell + 1))))**3\n",
    "    \n",
    "    gals_in_cell_copy = gals_in_cell.copy() #To avoid division by zero error\n",
    "    gals_in_cell_copy[gals_in_cell == 0] = 1.5\n",
    "    \n",
    "    #using Eq. 14 of Gehrels(1985)\n",
    "    gals_in_cell_low = gals_in_cell_copy * (1 - (1 / (9 * gals_in_cell_copy)) - (S / (3 * np.sqrt(gals_in_cell_copy))))**3 #beta is 0 for S = 1\n",
    "    \n",
    "    gals_in_cell_low[gals_in_cell == 0] = 0\n",
    "    \n",
    "    gals_in_cell_up_err = gals_in_cell_up - gals_in_cell\n",
    "    gals_in_cell_low_err = gals_in_cell - gals_in_cell_low\n",
    "    \n",
    "    return gals_in_cell_up_err, gals_in_cell_low_err"
   ]
  },
  {
   "cell_type": "code",
   "execution_count": 59,
   "id": "a1f4e447-f6fc-4608-b25b-49583aae1861",
   "metadata": {
    "execution": {
     "iopub.execute_input": "2021-08-30T20:13:52.218311Z",
     "iopub.status.busy": "2021-08-30T20:13:52.218069Z",
     "iopub.status.idle": "2021-08-30T20:13:52.229023Z",
     "shell.execute_reply": "2021-08-30T20:13:52.228513Z",
     "shell.execute_reply.started": "2021-08-30T20:13:52.218285Z"
    },
    "tags": []
   },
   "outputs": [],
   "source": [
    "def delta_gal_mean_func(df_act_clus_available, cell_size, radius):\n",
    "    \n",
    "    delta_gal_cube = np.zeros(len(df_act_clus_available))\n",
    "    \n",
    "    for i, clus in df_act_clus_available.iterrows():\n",
    "        df_gals_around = df_sdss_gals[(df_sdss_gals['X_comov[kpc/h]'] < (clus['x_comov[kpc/h]'] + radius)) &\n",
    "                                      (df_sdss_gals['X_comov[kpc/h]'] > (clus['x_comov[kpc/h]'] - radius)) &\n",
    "                                      (df_sdss_gals['Y_comov[kpc/h]'] < (clus['y_comov[kpc/h]'] + radius)) &\n",
    "                                      (df_sdss_gals['Y_comov[kpc/h]'] > (clus['y_comov[kpc/h]'] - radius)) &\n",
    "                                      (df_sdss_gals['Z_comov[kpc/h]'] < (clus['z_comov[kpc/h]'] + radius)) &\n",
    "                                      (df_sdss_gals['Z_comov[kpc/h]'] > (clus['z_comov[kpc/h]'] - radius))].copy()\n",
    "        \n",
    "        \n",
    "        #moving the galxies cube to lie within 0 to 240,000 h^-1 kpc \n",
    "        df_gals_around['X_comov[kpc/h]'] -= (clus['x_comov[kpc/h]'] - radius)\n",
    "        df_gals_around['Y_comov[kpc/h]'] -= (clus['y_comov[kpc/h]'] - radius)\n",
    "        df_gals_around['Z_comov[kpc/h]'] -= (clus['z_comov[kpc/h]'] - radius)\n",
    "\n",
    "        df_gals_around['X_comov[kpc/h]'] = df_gals_around['X_comov[kpc/h]'] / cell_size\n",
    "        df_gals_around['Y_comov[kpc/h]'] = df_gals_around['Y_comov[kpc/h]'] / cell_size\n",
    "        df_gals_around['Z_comov[kpc/h]'] = df_gals_around['Z_comov[kpc/h]'] / cell_size\n",
    "\n",
    "        #making tuples, converting tuples to cell coordinates\n",
    "        df_gals_around[\"cell\"] = list(zip(df_gals_around['X_comov[kpc/h]'].astype(int), \n",
    "                                          df_gals_around['Y_comov[kpc/h]'].astype(int), \n",
    "                                          df_gals_around['Z_comov[kpc/h]'].astype(int)))\n",
    "        \n",
    "        diameter = radius * 2\n",
    "        #array to store number of galaxies in the cells\n",
    "        gals_in_cell = np.zeros((diameter//cell_size, diameter//cell_size, diameter//cell_size))\n",
    "\n",
    "        #counting number of galaxies in the cells\n",
    "        for cell in df_gals_around[\"cell\"]:\n",
    "            x, y, z = cell\n",
    "    \n",
    "            try:\n",
    "                gals_in_cell[x, y, z] += 1\n",
    "\n",
    "            except:\n",
    "                print('\\n')\n",
    "                print(i)\n",
    "                print(gals_in_cell.shape)\n",
    "                print(x, y, z)\n",
    "                print(df_act_clus_available.loc[[i]])\n",
    "                raise SystemExit\n",
    "\n",
    "        delta_gal_cube[i] = np.mean(gals_in_cell)\n",
    "    \n",
    "    return np.mean(delta_gal_cube)"
   ]
  },
  {
   "cell_type": "code",
   "execution_count": 121,
   "id": "a9d9b384-8c43-4f8b-8300-a1f7b5a4de9d",
   "metadata": {
    "execution": {
     "iopub.execute_input": "2021-10-04T17:16:28.041066Z",
     "iopub.status.busy": "2021-10-04T17:16:28.040757Z",
     "iopub.status.idle": "2021-10-04T17:16:28.058627Z",
     "shell.execute_reply": "2021-10-04T17:16:28.057803Z",
     "shell.execute_reply.started": "2021-10-04T17:16:28.041034Z"
    },
    "tags": []
   },
   "outputs": [],
   "source": [
    "def overdensity_field_calc(clus_x, clus_y, clus_z, cell_size, clus_cube_size, \n",
    "                           dist):\n",
    "\n",
    "    #converting strings into floats\n",
    "    clus_x = float(clus_x); clus_y = float(clus_y); clus_z = float(clus_z)\n",
    "    \n",
    "    #filtering galaxies in a cube of 240,000 h^-1 kpc around the given cluster\n",
    "    df_gal_select = df_sdss_gals[(df_sdss_gals['X_comov[kpc/h]'] > (clus_x - clus_cube_size//2)) & \n",
    "                                 (df_sdss_gals['X_comov[kpc/h]'] < (clus_x + clus_cube_size//2)) & \n",
    "                                 (df_sdss_gals['Y_comov[kpc/h]'] > (clus_y - clus_cube_size//2)) & \n",
    "                                 (df_sdss_gals['Y_comov[kpc/h]'] < (clus_y + clus_cube_size//2)) & \n",
    "                                 (df_sdss_gals['Z_comov[kpc/h]'] > (clus_z - clus_cube_size//2)) & \n",
    "                                 (df_sdss_gals['Z_comov[kpc/h]'] < (clus_z + clus_cube_size//2))]\n",
    "        \n",
    "    #making copy to extract coordinates of cells containing the galaxies\n",
    "    df_gal_cube = df_gal_select.copy()\n",
    "    \n",
    "    #moving the galxies cube to lie within 0 to 240,000 h^-1 kpc \n",
    "    df_gal_cube['X_comov[kpc/h]'] -= (clus_x - (clus_cube_size//2))\n",
    "    df_gal_cube['Y_comov[kpc/h]'] -= (clus_y - (clus_cube_size//2))\n",
    "    df_gal_cube['Z_comov[kpc/h]'] -= (clus_z - (clus_cube_size//2))\n",
    "\n",
    "    #dividing by 5000 (integer-div) so we get cell coordinates\n",
    "    df_gal_cube['X_comov[kpc/h]'] = df_gal_cube['X_comov[kpc/h]'] // cell_size\n",
    "    df_gal_cube['Y_comov[kpc/h]'] = df_gal_cube['Y_comov[kpc/h]'] // cell_size\n",
    "    df_gal_cube['Z_comov[kpc/h]'] = df_gal_cube['Z_comov[kpc/h]'] // cell_size\n",
    "    \n",
    "    #making tuples, converting tuples to cell coordinates\n",
    "    df_gal_cube[\"cell\"] = list(zip(df_gal_cube['X_comov[kpc/h]'].astype(int), \n",
    "                                   df_gal_cube['Y_comov[kpc/h]'].astype(int), \n",
    "                                   df_gal_cube['Z_comov[kpc/h]'].astype(int)))\n",
    "    \n",
    "    #array to store number of galaxies in the cells\n",
    "    gals_in_cell = np.zeros((clus_cube_size//cell_size, \n",
    "                             clus_cube_size//cell_size, \n",
    "                             clus_cube_size//cell_size))\n",
    "    \n",
    "    #counting number of galaxies in the cells\n",
    "    for i, cell in enumerate(df_gal_cube[\"cell\"]):\n",
    "        x, y, z = cell\n",
    "        \n",
    "        try:\n",
    "            gals_in_cell[x, y, z] += 1\n",
    "            \n",
    "        except:\n",
    "            print('\\n')\n",
    "            print(i)\n",
    "            print(clus_cube_size)\n",
    "            print(cell_size)\n",
    "            print(clus_cube_size//cell_size)\n",
    "            print(gals_in_cell.shape)\n",
    "            print(x, y, z)\n",
    "            print(clus_x, clus_y, clus_z)\n",
    "            print(df_gal_select.loc[[i]])\n",
    "            raise SystemExit\n",
    "            \n",
    "            \n",
    "            \n",
    "        \n",
    "    gals_in_cell_up_err, gals_in_cell_low_err = gehrels_confidence_limits(gals_in_cell)\n",
    "    gals_in_cell_avg_err = (gals_in_cell_low_err + gals_in_cell_up_err) / 2 \n",
    "    \n",
    "    #calculating mean galaxy density\n",
    "    rho_gal_mean = np.mean(gals_in_cell[dist < (clus_cube_size//2)])\n",
    "    \n",
    "    #determining the overdensity of galaxies    \n",
    "    delta_gal = (gals_in_cell/rho_gal_mean) - 1\n",
    "    delta_gal_error = gals_in_cell_avg_err/rho_gal_mean  \n",
    "    \n",
    "\n",
    "    delta_gal_smooth = delta_gal.copy() #to avoid error calculation since \n",
    "    #smoothing not affecting velocities much (apparently, not at all with 2 Mpc)\n",
    "        \n",
    "    #obtaining matter overdensity from galaxies overdensity\n",
    "    delta_matter = delta_gal_smooth / b\n",
    "    delta_matter_error = delta_gal_error / b\n",
    "    \n",
    "    return delta_matter, delta_matter_error\n"
   ]
  },
  {
   "cell_type": "code",
   "execution_count": 120,
   "id": "fe2f1c5b-6635-44b1-a578-737fade5c968",
   "metadata": {
    "execution": {
     "iopub.execute_input": "2021-10-04T17:15:22.096052Z",
     "iopub.status.busy": "2021-10-04T17:15:22.095756Z",
     "iopub.status.idle": "2021-10-04T17:15:22.107821Z",
     "shell.execute_reply": "2021-10-04T17:15:22.107067Z",
     "shell.execute_reply.started": "2021-10-04T17:15:22.096021Z"
    },
    "tags": []
   },
   "outputs": [
    {
     "data": {
      "text/plain": [
       "array([7, 9, 5, 6])"
      ]
     },
     "execution_count": 120,
     "metadata": {},
     "output_type": "execute_result"
    }
   ],
   "source": [
    "np.random.seed(25)\n",
    "a = np.random.randint(1, 10, size = (3,3))\n",
    "b = np.random.randint(1, 10, size = (3,3))\n",
    "# b[:] = \n",
    "a[b<5]"
   ]
  },
  {
   "cell_type": "markdown",
   "id": "d723605c-75f5-4da7-b0a4-ebe03c124cd7",
   "metadata": {},
   "source": [
    "**Calculating differential, numerator & denominator for Eq. 1**"
   ]
  },
  {
   "cell_type": "code",
   "execution_count": 61,
   "id": "f039a52c-3277-4d1f-8f30-f64b7bce7819",
   "metadata": {
    "execution": {
     "iopub.execute_input": "2021-08-30T20:13:54.304078Z",
     "iopub.status.busy": "2021-08-30T20:13:54.303803Z",
     "iopub.status.idle": "2021-08-30T20:13:54.313326Z",
     "shell.execute_reply": "2021-08-30T20:13:54.312671Z",
     "shell.execute_reply.started": "2021-08-30T20:13:54.304050Z"
    },
    "tags": []
   },
   "outputs": [],
   "source": [
    "def vel_terms_calc(cell_size, clus_cube_size):\n",
    "    \n",
    "    #calculating the differential in the Eq. 1\n",
    "    dy_cubed = cell_size**3\n",
    "    \n",
    "    #specifing position of the clusters\n",
    "    Rclus_x = np.zeros((clus_cube_size//cell_size, clus_cube_size//cell_size, clus_cube_size//cell_size))\n",
    "    Rclus_x[:] = clus_cube_size//2\n",
    "    Rclus_y = np.zeros((clus_cube_size//cell_size, clus_cube_size//cell_size, clus_cube_size//cell_size))\n",
    "    Rclus_y[:] = clus_cube_size//2\n",
    "    Rclus_z = np.zeros((clus_cube_size//cell_size, clus_cube_size//cell_size, clus_cube_size//cell_size))\n",
    "    Rclus_z[:] = clus_cube_size//2\n",
    "\n",
    "    #generating meshgrid containing coordinates of the centers of cells\n",
    "    Rcell_x = np.zeros((clus_cube_size//cell_size, clus_cube_size//cell_size, clus_cube_size//cell_size))\n",
    "    Rcell_y = np.zeros((clus_cube_size//cell_size, clus_cube_size//cell_size, clus_cube_size//cell_size))\n",
    "    Rcell_z = np.zeros((clus_cube_size//cell_size, clus_cube_size//cell_size, clus_cube_size//cell_size))\n",
    "\n",
    "    for i, val in enumerate(range(cell_size//2, clus_cube_size, cell_size)):\n",
    "        Rcell_x[i,:,:] = val\n",
    "        Rcell_y[:,i,:] = val\n",
    "        Rcell_z[:,:,i] = val\n",
    "\n",
    "    #evaluating the term in the denominator of Eq. 1 of Tanimura et al. 2020\n",
    "    denom = np.sqrt((Rcell_x - Rclus_x)**2 + (Rcell_y - Rclus_y)**2 + (Rcell_z - Rclus_z)**2)**(3)\n",
    "\n",
    "    #evaluating the direction term in the numerator of Eq. 1\n",
    "    numer_x = Rcell_x - Rclus_x\n",
    "    numer_y = Rcell_y - Rclus_y\n",
    "    numer_z = Rcell_z - Rclus_z\n",
    "    \n",
    "    return (dy_cubed, numer_x, numer_y, numer_z, denom)\n"
   ]
  },
  {
   "cell_type": "markdown",
   "id": "c49faaf1-b2ca-455f-b420-97714a69bb85",
   "metadata": {},
   "source": [
    "**Calculating velocity of clusters according to Eq. 1**"
   ]
  },
  {
   "cell_type": "code",
   "execution_count": 122,
   "id": "d7437d5c-398a-4c9a-90bb-766b5e7dcaec",
   "metadata": {
    "execution": {
     "iopub.execute_input": "2021-10-04T17:16:49.586269Z",
     "iopub.status.busy": "2021-10-04T17:16:49.585977Z",
     "iopub.status.idle": "2021-10-04T17:16:49.602752Z",
     "shell.execute_reply": "2021-10-04T17:16:49.601892Z",
     "shell.execute_reply.started": "2021-10-04T17:16:49.586238Z"
    },
    "tags": []
   },
   "outputs": [],
   "source": [
    "def clus_velocity_calc(clus_x, clus_y, clus_z, redshift, cell_size, vel_terms, \n",
    "                       clus_cube_size):\n",
    "    \n",
    "    \n",
    "    dy_cubed, numer_x, numer_y, numer_z, denom = vel_terms\n",
    "    dist = np.cbrt(denom)\n",
    "    \n",
    "    \n",
    "    delta_matter, delta_matter_error = overdensity_field_calc(clus_x, clus_y, clus_z, cell_size,  \n",
    "                                          clus_cube_size, dist)\n",
    "    \n",
    "    \n",
    "    \n",
    "    \n",
    "    pre_fac = pre_fac_func(redshift)\n",
    "       \n",
    "    #estimating velocity in x direction\n",
    "    integrand_x = dy_cubed * delta_matter * (numer_x/(cosmo.h*1e3)) / denom #in units of Mpc    \n",
    "    integrand_x_error = dy_cubed * delta_matter_error * (numer_x/(cosmo.h*1e3)) / denom\n",
    "        \n",
    "    integrand_x = integrand_x[dist < (clus_cube_size//2)]\n",
    "    integrand_x_error = integrand_x_error[dist < (clus_cube_size//2)]\n",
    "    \n",
    "    vx_est = pre_fac * np.sum(integrand_x)\n",
    "    vx_est_error = pre_fac * np.sqrt(np.sum(integrand_x_error**2))\n",
    "    \n",
    "        \n",
    "    #estimating velocity in y direction\n",
    "    integrand_y = dy_cubed * delta_matter * (numer_y/(cosmo.h*1e3)) / denom #in units of Mpc    \n",
    "    integrand_y_error = dy_cubed * delta_matter_error * (numer_y/(cosmo.h*1e3)) / denom\n",
    "    \n",
    "       \n",
    "    integrand_y = integrand_y[dist < (clus_cube_size//2)]\n",
    "    integrand_y_error = integrand_y_error[dist < (clus_cube_size//2)]\n",
    "    \n",
    "    vy_est = pre_fac * np.sum(integrand_y)\n",
    "    vy_est_error = pre_fac * np.sqrt(np.sum(integrand_y_error**2))\n",
    "    \n",
    "    \n",
    "    #estimating velocity in z direction\n",
    "    integrand_z = dy_cubed * delta_matter * (numer_z/(cosmo.h*1e3)) / denom #in units of Mpc   \n",
    "    integrand_z_error = dy_cubed * delta_matter_error * (numer_z/(cosmo.h*1e3)) / denom\n",
    "    \n",
    "    integrand_z = integrand_z[dist < (clus_cube_size//2)]\n",
    "    integrand_z_error = integrand_z_error[dist < (clus_cube_size//2)]\n",
    "    \n",
    "    vz_est = pre_fac * np.sum(integrand_z)\n",
    "    vz_est_error = pre_fac * np.sqrt(np.sum(integrand_z_error**2))\n",
    "    \n",
    "    \n",
    "    return(vx_est, vy_est, vz_est, vx_est_error, vy_est_error, vz_est_error)\n"
   ]
  },
  {
   "cell_type": "code",
   "execution_count": 84,
   "id": "beaffa31-8a5a-4654-ba7d-8a14b302952f",
   "metadata": {
    "execution": {
     "iopub.execute_input": "2021-08-31T06:58:09.001011Z",
     "iopub.status.busy": "2021-08-31T06:58:09.000771Z",
     "iopub.status.idle": "2021-08-31T06:58:09.005072Z",
     "shell.execute_reply": "2021-08-31T06:58:09.004568Z",
     "shell.execute_reply.started": "2021-08-31T06:58:09.000985Z"
    },
    "tags": []
   },
   "outputs": [],
   "source": [
    "def df_clus_available_func(radius):\n",
    "    \n",
    "    df_act_clus = pd.read_csv(f'Data/z_gt_4_lt_7/ACT_clus_available_{radius}.csv',\n",
    "                                           index_col = 0)\n",
    "\n",
    "    df_act_clus['x_comov[kpc/h]'] = df_act_clus['x_comov[Mpc/h]']*1e3\n",
    "    df_act_clus['y_comov[kpc/h]'] = df_act_clus['y_comov[Mpc/h]']*1e3\n",
    "    df_act_clus['z_comov[kpc/h]'] = df_act_clus['z_comov[Mpc/h]']*1e3\n",
    "    \n",
    "    return df_act_clus"
   ]
  },
  {
   "cell_type": "code",
   "execution_count": 98,
   "id": "07f8de81-833b-40e1-8cdc-24f9795fcbc0",
   "metadata": {
    "execution": {
     "iopub.execute_input": "2021-09-14T13:48:29.130960Z",
     "iopub.status.busy": "2021-09-14T13:48:29.130587Z",
     "iopub.status.idle": "2021-09-14T13:48:29.139661Z",
     "shell.execute_reply": "2021-09-14T13:48:29.138824Z",
     "shell.execute_reply.started": "2021-09-14T13:48:29.130927Z"
    },
    "tags": []
   },
   "outputs": [],
   "source": [
    "def plotting_func(df_clusters_est_err, cell_size, clus_cube_size):\n",
    "    \n",
    "    plt.figure(dpi = dpi)\n",
    "    \n",
    "    plt.hist(df_clusters_est_err['v_los_est[km/s]'], bins = 100)\n",
    "    plt.xlabel('V$_{\\mathrm{los}}$ (km/s)')\n",
    "    plt.ylabel('No of clusters')\n",
    "    \n",
    "    plt.title('Reconstructed velocity | ' + \n",
    "              f'Cell size: {int(cell_size/1e3)} Mpc/h')\n",
    "    \n",
    "    plt.tight_layout()\n",
    "    plt.savefig(f'Plots/z_gt_4_lt_7/vel_hist_{cell_size}.jpg', dpi = dpi)\n",
    "    \n",
    "    \n",
    "    plt.figure(dpi = dpi)\n",
    "    \n",
    "    plt.hist(df_clusters_est_err['v_los_est_err[km/s]'], bins = 100)\n",
    "    plt.xlabel('Error in V$_{\\mathrm{los}}$ (km/s)')\n",
    "    plt.ylabel('No of clusters')\n",
    "#     plt.xlim(0, 40000)\n",
    "    \n",
    "    plt.title('Errors in reconstructed velocity | ' + \n",
    "              f'Cell size: {int(cell_size/1e3)} Mpc/h')\n",
    "    \n",
    "    plt.tight_layout()\n",
    "    plt.savefig(f'Plots/z_gt_4_lt_7/error_hist_{cell_size}.jpg', dpi = dpi)\n",
    "    "
   ]
  },
  {
   "cell_type": "code",
   "execution_count": 96,
   "id": "49018548-3af4-44a7-a170-fe07902e554b",
   "metadata": {
    "execution": {
     "iopub.execute_input": "2021-09-14T13:44:32.727631Z",
     "iopub.status.busy": "2021-09-14T13:44:32.727056Z",
     "iopub.status.idle": "2021-09-14T13:44:34.009955Z",
     "shell.execute_reply": "2021-09-14T13:44:34.009310Z",
     "shell.execute_reply.started": "2021-09-14T13:44:32.727574Z"
    },
    "tags": []
   },
   "outputs": [
    {
     "data": {
      "image/png": "[encoded data removed]",
      "text/plain": [
       "<Figure size 540x360 with 1 Axes>"
      ]
     },
     "metadata": {
      "needs_background": "light"
     },
     "output_type": "display_data"
    },
    {
     "data": {
      "image/png": "[encoded data removed]",
      "text/plain": [
       "<Figure size 540x360 with 1 Axes>"
      ]
     },
     "metadata": {
      "needs_background": "light"
     },
     "output_type": "display_data"
    }
   ],
   "source": [
    "plotting_func(df_clusters_est_err, cell_size, clus_cube_size)\n"
   ]
  },
  {
   "cell_type": "code",
   "execution_count": 92,
   "id": "5b28ce6c-f322-472e-87df-a3f4e6acbb51",
   "metadata": {
    "execution": {
     "iopub.execute_input": "2021-09-14T13:29:11.825373Z",
     "iopub.status.busy": "2021-09-14T13:29:11.825023Z",
     "iopub.status.idle": "2021-09-14T13:35:54.741446Z",
     "shell.execute_reply": "2021-09-14T13:35:54.740617Z",
     "shell.execute_reply.started": "2021-09-14T13:29:11.825340Z"
    },
    "tags": []
   },
   "outputs": [
    {
     "name": "stdout",
     "output_type": "stream",
     "text": [
      "5000 700000\n",
      "Time taken: 384.4026930332184\n",
      "\n",
      "\n",
      "10000 700000\n",
      "Time taken: 17.423668384552002\n",
      "\n",
      "\n",
      "CPU times: user 27.1 s, sys: 1min 5s, total: 1min 33s\n",
      "Wall time: 6min 42s\n"
     ]
    },
    {
     "data": {
      "image/png": "[encoded data removed]",
      "text/plain": [
       "<Figure size 540x360 with 1 Axes>"
      ]
     },
     "metadata": {
      "needs_background": "light"
     },
     "output_type": "display_data"
    },
    {
     "data": {
      "image/png": "[encoded data removed]",
      "text/plain": [
       "<Figure size 540x360 with 1 Axes>"
      ]
     },
     "metadata": {
      "needs_background": "light"
     },
     "output_type": "display_data"
    },
    {
     "data": {
      "image/png": "[encoded data removed]",
      "text/plain": [
       "<Figure size 540x360 with 1 Axes>"
      ]
     },
     "metadata": {
      "needs_background": "light"
     },
     "output_type": "display_data"
    },
    {
     "data": {
      "image/png": "[encoded data removed]",
      "text/plain": [
       "<Figure size 540x360 with 1 Axes>"
      ]
     },
     "metadata": {
      "needs_background": "light"
     },
     "output_type": "display_data"
    }
   ],
   "source": [
    "%%time\n",
    "cores = 64\n",
    "b = 2                                #bias for LOWZ & CMASS galaxies as taken by Tanimura et al. 2020\n",
    "\n",
    "clus_mass_bins_results = pd.DataFrame(columns=['Cell Size',\n",
    "                                'Cube Size', 'Clusters', \n",
    "                                'Slope - Vlos', 'Error - Slope - Vlos', \n",
    "                                'Intercept - Vlos', 'Scatter - Vlos'])\n",
    "\n",
    "\n",
    "# clus_cube_sizes = [400000, 500000, 60000]\n",
    "for clus_cube_size in [700000]:\n",
    "    for cell_size in [5000, 10000]:                       #kpc/h, size of pixel or cell\n",
    "#     for cell_size in [10000]: \n",
    "        \n",
    "        t = time.time()                 \n",
    "        print(cell_size, clus_cube_size)\n",
    "        \n",
    "        radius = int(clus_cube_size//2e3)        \n",
    "        df_act_clus_available = df_clus_available_func(radius)\n",
    "                \n",
    "               \n",
    "        vel_terms = vel_terms_calc(cell_size, clus_cube_size)        \n",
    "        no_of_clus = len(df_act_clus_available)\n",
    "\n",
    "        clus_param = list(zip(df_act_clus_available['x_comov[kpc/h]'], \n",
    "                                df_act_clus_available['y_comov[kpc/h]'], \n",
    "                                df_act_clus_available['z_comov[kpc/h]'], \n",
    "                                df_act_clus_available['redshift'], \n",
    "                                [cell_size] * no_of_clus,\n",
    "                                [vel_terms]  * no_of_clus, \n",
    "                                [clus_cube_size] * no_of_clus\n",
    "                               ))\n",
    "        pool = multi.Pool(processes = cores)\n",
    "        v_est = pool.starmap(clus_velocity_calc, clus_param)\n",
    "\n",
    "        \n",
    "        df_clusters_est_err = df_act_clus_available.copy()    \n",
    "\n",
    "        df_clusters_est_err['vx_est[km/s]'] = [i[0] for i in v_est]\n",
    "        df_clusters_est_err['vy_est[km/s]'] = [i[1] for i in v_est]\n",
    "        df_clusters_est_err['vz_est[km/s]'] = [i[2] for i in v_est]\n",
    "\n",
    "        df_clusters_est_err['vx_est_err[km/s]'] = [i[3] for i in v_est]\n",
    "        df_clusters_est_err['vy_est_err[km/s]'] = [i[4] for i in v_est]\n",
    "        df_clusters_est_err['vz_est_err[km/s]'] = [i[5] for i in v_est]\n",
    "        \n",
    "        df_clusters_est_err['r_mag[kpc/h]'] = np.sqrt(df_clusters_est_err['x_comov[kpc/h]']**2 +\n",
    "                                                      df_clusters_est_err['y_comov[kpc/h]']**2 +\n",
    "                                                      df_clusters_est_err['z_comov[kpc/h]']**2)\n",
    "        \n",
    "        df_clusters_est_err['v_los_est[km/s]'] = (((df_clusters_est_err['vx_est[km/s]'] * df_clusters_est_err['x_comov[kpc/h]']) +\n",
    "                                                   (df_clusters_est_err['vy_est[km/s]'] * df_clusters_est_err['y_comov[kpc/h]']) +\n",
    "                                                   (df_clusters_est_err['vz_est[km/s]'] * df_clusters_est_err['z_comov[kpc/h]'])) /\n",
    "                                                    df_clusters_est_err['r_mag[kpc/h]'])\n",
    "        \n",
    "        df_clusters_est_err['v_los_est_err[km/s]'] = \\\n",
    "            np.sqrt((df_clusters_est_err['vx_est_err[km/s]'] * df_clusters_est_err['x_comov[kpc/h]'] / df_clusters_est_err['r_mag[kpc/h]'])**2 +\n",
    "                    (df_clusters_est_err['vy_est_err[km/s]'] * df_clusters_est_err['y_comov[kpc/h]'] / df_clusters_est_err['r_mag[kpc/h]'])**2 +\n",
    "                    (df_clusters_est_err['vz_est_err[km/s]'] * df_clusters_est_err['z_comov[kpc/h]'] / df_clusters_est_err['r_mag[kpc/h]'])**2)\n",
    "\n",
    "        \n",
    "        plotting_func(df_clusters_est_err, cell_size, clus_cube_size)\n",
    "        \n",
    "        \n",
    "        df_clusters_est_err.to_csv(f'Data/with_vels/z_gt_4_lt_7_{radius}_{cell_size}.csv')\n",
    "        \n",
    "# #         clear_output(wait=True)\n",
    "        \n",
    "                \n",
    "\n",
    "\n",
    "        \n",
    "#         clus_mass_bins_results = clus_mass_bins_results.append({'Cell Size': cell_size,\n",
    "#                 'Cube Size': clus_cube_size,\n",
    "#                 'Clusters': no_of_clus,\n",
    "                                                                                                                                                                    \n",
    "#                 'Slope - Vlos': round(param_los_scipy[0][0], 3),  \n",
    "#                 'Error - Slope - Vlos': round(np.sqrt(param_los_scipy[1][0, 0]), 3), \n",
    "#                 'Intercept - Vlos': round(param_los_scipy[0][1], 3),\n",
    "#                 'Scatter - Vlos': 'Not-calculated',\n",
    "               \n",
    "#                                                                                }, \n",
    "#                 ignore_index=True)\n",
    "        \n",
    "        \n",
    "        print('Time taken:', time.time() - t)\n",
    "        print('\\n')\n",
    "        "
   ]
  },
  {
   "cell_type": "code",
   "execution_count": 99,
   "id": "b65b6fae-bd65-44e4-8875-f60eea8d97c9",
   "metadata": {
    "execution": {
     "iopub.execute_input": "2021-09-14T13:48:39.010920Z",
     "iopub.status.busy": "2021-09-14T13:48:39.010651Z",
     "iopub.status.idle": "2021-09-14T13:48:54.394580Z",
     "shell.execute_reply": "2021-09-14T13:48:54.393461Z",
     "shell.execute_reply.started": "2021-09-14T13:48:39.010891Z"
    },
    "tags": []
   },
   "outputs": [
    {
     "name": "stdout",
     "output_type": "stream",
     "text": [
      "5000 200000\n",
      "Time taken: 6.774780988693237\n",
      "\n",
      "\n",
      "10000 200000\n",
      "Time taken: 7.256169080734253\n",
      "\n",
      "\n",
      "CPU times: user 4.66 s, sys: 4.5 s, total: 9.16 s\n",
      "Wall time: 14 s\n"
     ]
    },
    {
     "data": {
      "image/png": "[encoded data removed]",
      "text/plain": [
       "<Figure size 540x360 with 1 Axes>"
      ]
     },
     "metadata": {
      "needs_background": "light"
     },
     "output_type": "display_data"
    },
    {
     "data": {
      "image/png": "[encoded data removed]",
      "text/plain": [
       "<Figure size 540x360 with 1 Axes>"
      ]
     },
     "metadata": {
      "needs_background": "light"
     },
     "output_type": "display_data"
    },
    {
     "data": {
      "image/png": "[encoded data removed]",
      "text/plain": [
       "<Figure size 540x360 with 1 Axes>"
      ]
     },
     "metadata": {
      "needs_background": "light"
     },
     "output_type": "display_data"
    },
    {
     "data": {
      "image/png": "[encoded data removed]",
      "text/plain": [
       "<Figure size 540x360 with 1 Axes>"
      ]
     },
     "metadata": {
      "needs_background": "light"
     },
     "output_type": "display_data"
    }
   ],
   "source": [
    "%%time\n",
    "cores = 64\n",
    "b = 2                                #bias for LOWZ & CMASS galaxies as taken by Tanimura et al. 2020\n",
    "\n",
    "clus_mass_bins_results = pd.DataFrame(columns=['Cell Size',\n",
    "                                'Cube Size', 'Clusters', \n",
    "                                'Slope - Vlos', 'Error - Slope - Vlos', \n",
    "                                'Intercept - Vlos', 'Scatter - Vlos'])\n",
    "\n",
    "\n",
    "# clus_cube_sizes = [400000, 500000, 60000]\n",
    "for clus_cube_size in [200000]:\n",
    "    for cell_size in [5000, 10000]:                       #kpc/h, size of pixel or cell\n",
    "#     for cell_size in [10000]: \n",
    "        \n",
    "        t = time.time()                 \n",
    "        print(cell_size, clus_cube_size)\n",
    "        \n",
    "        radius = int(clus_cube_size//2e3)        \n",
    "        df_act_clus_available = df_clus_available_func(radius)\n",
    "                \n",
    "               \n",
    "        vel_terms = vel_terms_calc(cell_size, clus_cube_size)        \n",
    "        no_of_clus = len(df_act_clus_available)\n",
    "\n",
    "        clus_param = list(zip(df_act_clus_available['x_comov[kpc/h]'], \n",
    "                                df_act_clus_available['y_comov[kpc/h]'], \n",
    "                                df_act_clus_available['z_comov[kpc/h]'], \n",
    "                                df_act_clus_available['redshift'], \n",
    "                                [cell_size] * no_of_clus,\n",
    "                                [vel_terms]  * no_of_clus, \n",
    "                                [clus_cube_size] * no_of_clus\n",
    "                               ))\n",
    "        pool = multi.Pool(processes = cores)\n",
    "        v_est = pool.starmap(clus_velocity_calc, clus_param)\n",
    "\n",
    "        \n",
    "        df_clusters_est_err = df_act_clus_available.copy()    \n",
    "\n",
    "        df_clusters_est_err['vx_est[km/s]'] = [i[0] for i in v_est]\n",
    "        df_clusters_est_err['vy_est[km/s]'] = [i[1] for i in v_est]\n",
    "        df_clusters_est_err['vz_est[km/s]'] = [i[2] for i in v_est]\n",
    "\n",
    "        df_clusters_est_err['vx_est_err[km/s]'] = [i[3] for i in v_est]\n",
    "        df_clusters_est_err['vy_est_err[km/s]'] = [i[4] for i in v_est]\n",
    "        df_clusters_est_err['vz_est_err[km/s]'] = [i[5] for i in v_est]\n",
    "        \n",
    "        df_clusters_est_err['r_mag[kpc/h]'] = np.sqrt(df_clusters_est_err['x_comov[kpc/h]']**2 +\n",
    "                                                      df_clusters_est_err['y_comov[kpc/h]']**2 +\n",
    "                                                      df_clusters_est_err['z_comov[kpc/h]']**2)\n",
    "        \n",
    "        df_clusters_est_err['v_los_est[km/s]'] = (((df_clusters_est_err['vx_est[km/s]'] * df_clusters_est_err['x_comov[kpc/h]']) +\n",
    "                                                   (df_clusters_est_err['vy_est[km/s]'] * df_clusters_est_err['y_comov[kpc/h]']) +\n",
    "                                                   (df_clusters_est_err['vz_est[km/s]'] * df_clusters_est_err['z_comov[kpc/h]'])) /\n",
    "                                                    df_clusters_est_err['r_mag[kpc/h]'])\n",
    "        \n",
    "        df_clusters_est_err['v_los_est_err[km/s]'] = \\\n",
    "            np.sqrt((df_clusters_est_err['vx_est_err[km/s]'] * df_clusters_est_err['x_comov[kpc/h]'] / df_clusters_est_err['r_mag[kpc/h]'])**2 +\n",
    "                    (df_clusters_est_err['vy_est_err[km/s]'] * df_clusters_est_err['y_comov[kpc/h]'] / df_clusters_est_err['r_mag[kpc/h]'])**2 +\n",
    "                    (df_clusters_est_err['vz_est_err[km/s]'] * df_clusters_est_err['z_comov[kpc/h]'] / df_clusters_est_err['r_mag[kpc/h]'])**2)\n",
    "\n",
    "        \n",
    "        plotting_func(df_clusters_est_err, cell_size, clus_cube_size)\n",
    "        \n",
    "        \n",
    "        df_clusters_est_err.to_csv(f'Data/with_vels/z_gt_4_lt_7_{radius}_{cell_size}.csv')\n",
    "        \n",
    "# #         clear_output(wait=True)\n",
    "        \n",
    "                \n",
    "\n",
    "\n",
    "        \n",
    "#         clus_mass_bins_results = clus_mass_bins_results.append({'Cell Size': cell_size,\n",
    "#                 'Cube Size': clus_cube_size,\n",
    "#                 'Clusters': no_of_clus,\n",
    "                                                                                                                                                                    \n",
    "#                 'Slope - Vlos': round(param_los_scipy[0][0], 3),  \n",
    "#                 'Error - Slope - Vlos': round(np.sqrt(param_los_scipy[1][0, 0]), 3), \n",
    "#                 'Intercept - Vlos': round(param_los_scipy[0][1], 3),\n",
    "#                 'Scatter - Vlos': 'Not-calculated',\n",
    "               \n",
    "#                                                                                }, \n",
    "#                 ignore_index=True)\n",
    "        \n",
    "        \n",
    "        print('Time taken:', time.time() - t)\n",
    "        print('\\n')\n",
    "        "
   ]
  },
  {
   "cell_type": "markdown",
   "id": "ef030b1b-776d-45da-b406-86bd86e5b96f",
   "metadata": {},
   "source": [
    "**1 Sep 2021**  \n",
    "- With 100 Mpc, looks much better. Still, the maximum is not at zero but very close. Yes, it's a matter of sampling. So, calculate moments. We'll see they reduce with (increasing) the number of clusters. "
   ]
  },
  {
   "cell_type": "code",
   "execution_count": 123,
   "id": "8f10cec4-d2d7-4501-9976-910cc828dd3b",
   "metadata": {
    "execution": {
     "iopub.execute_input": "2021-10-04T17:17:03.120757Z",
     "iopub.status.busy": "2021-10-04T17:17:03.120453Z",
     "iopub.status.idle": "2021-10-04T17:17:51.035108Z",
     "shell.execute_reply": "2021-10-04T17:17:51.034331Z",
     "shell.execute_reply.started": "2021-10-04T17:17:03.120724Z"
    },
    "tags": []
   },
   "outputs": [
    {
     "name": "stdout",
     "output_type": "stream",
     "text": [
      "5000 500000\n",
      "Time taken: 35.17619490623474\n",
      "\n",
      "\n",
      "10000 500000\n",
      "Time taken: 10.90898585319519\n",
      "\n",
      "\n",
      "CPU times: user 9.35 s, sys: 21.5 s, total: 30.9 s\n",
      "Wall time: 46.1 s\n"
     ]
    },
    {
     "data": {
      "image/png": "[encoded data removed]",
      "text/plain": [
       "<Figure size 540x360 with 1 Axes>"
      ]
     },
     "metadata": {
      "needs_background": "light"
     },
     "output_type": "display_data"
    },
    {
     "data": {
      "image/png": "[encoded data removed]",
      "text/plain": [
       "<Figure size 540x360 with 1 Axes>"
      ]
     },
     "metadata": {
      "needs_background": "light"
     },
     "output_type": "display_data"
    },
    {
     "data": {
      "image/png": "[encoded data removed]",
      "text/plain": [
       "<Figure size 540x360 with 1 Axes>"
      ]
     },
     "metadata": {
      "needs_background": "light"
     },
     "output_type": "display_data"
    },
    {
     "data": {
      "image/png": "[encoded data removed]",
      "text/plain": [
       "<Figure size 540x360 with 1 Axes>"
      ]
     },
     "metadata": {
      "needs_background": "light"
     },
     "output_type": "display_data"
    }
   ],
   "source": [
    "%%time\n",
    "cores = 64\n",
    "b = 2                                #bias for LOWZ & CMASS galaxies as taken by Tanimura et al. 2020\n",
    "\n",
    "clus_mass_bins_results = pd.DataFrame(columns=['Cell Size',\n",
    "                                'Cube Size', 'Clusters', \n",
    "                                'Slope - Vlos', 'Error - Slope - Vlos', \n",
    "                                'Intercept - Vlos', 'Scatter - Vlos'])\n",
    "\n",
    "\n",
    "# clus_cube_sizes = [400000, 500000, 60000]\n",
    "for clus_cube_size in [500000]:\n",
    "    for cell_size in [5000, 10000]:                       #kpc/h, size of pixel or cell\n",
    "#     for cell_size in [10000]: \n",
    "        \n",
    "        t = time.time()                 \n",
    "        print(cell_size, clus_cube_size)\n",
    "        \n",
    "        radius = int(clus_cube_size//2e3)        \n",
    "        df_act_clus_available = df_clus_available_func(radius)\n",
    "                \n",
    "               \n",
    "        vel_terms = vel_terms_calc(cell_size, clus_cube_size)        \n",
    "        no_of_clus = len(df_act_clus_available)\n",
    "\n",
    "        clus_param = list(zip(df_act_clus_available['x_comov[kpc/h]'], \n",
    "                                df_act_clus_available['y_comov[kpc/h]'], \n",
    "                                df_act_clus_available['z_comov[kpc/h]'], \n",
    "                                df_act_clus_available['redshift'], \n",
    "                                [cell_size] * no_of_clus,\n",
    "                                [vel_terms]  * no_of_clus, \n",
    "                                [clus_cube_size] * no_of_clus\n",
    "                               ))\n",
    "        pool = multi.Pool(processes = cores)\n",
    "        v_est = pool.starmap(clus_velocity_calc, clus_param)\n",
    "\n",
    "        \n",
    "        df_clusters_est_err = df_act_clus_available.copy()    \n",
    "\n",
    "        df_clusters_est_err['vx_est[km/s]'] = [i[0] for i in v_est]\n",
    "        df_clusters_est_err['vy_est[km/s]'] = [i[1] for i in v_est]\n",
    "        df_clusters_est_err['vz_est[km/s]'] = [i[2] for i in v_est]\n",
    "\n",
    "        df_clusters_est_err['vx_est_err[km/s]'] = [i[3] for i in v_est]\n",
    "        df_clusters_est_err['vy_est_err[km/s]'] = [i[4] for i in v_est]\n",
    "        df_clusters_est_err['vz_est_err[km/s]'] = [i[5] for i in v_est]\n",
    "        \n",
    "        df_clusters_est_err['r_mag[kpc/h]'] = np.sqrt(df_clusters_est_err['x_comov[kpc/h]']**2 +\n",
    "                                                      df_clusters_est_err['y_comov[kpc/h]']**2 +\n",
    "                                                      df_clusters_est_err['z_comov[kpc/h]']**2)\n",
    "        \n",
    "        df_clusters_est_err['v_los_est[km/s]'] = (((df_clusters_est_err['vx_est[km/s]'] * df_clusters_est_err['x_comov[kpc/h]']) +\n",
    "                                                   (df_clusters_est_err['vy_est[km/s]'] * df_clusters_est_err['y_comov[kpc/h]']) +\n",
    "                                                   (df_clusters_est_err['vz_est[km/s]'] * df_clusters_est_err['z_comov[kpc/h]'])) /\n",
    "                                                    df_clusters_est_err['r_mag[kpc/h]'])\n",
    "        \n",
    "        df_clusters_est_err['v_los_est_err[km/s]'] = \\\n",
    "            np.sqrt((df_clusters_est_err['vx_est_err[km/s]'] * df_clusters_est_err['x_comov[kpc/h]'] / df_clusters_est_err['r_mag[kpc/h]'])**2 +\n",
    "                    (df_clusters_est_err['vy_est_err[km/s]'] * df_clusters_est_err['y_comov[kpc/h]'] / df_clusters_est_err['r_mag[kpc/h]'])**2 +\n",
    "                    (df_clusters_est_err['vz_est_err[km/s]'] * df_clusters_est_err['z_comov[kpc/h]'] / df_clusters_est_err['r_mag[kpc/h]'])**2)\n",
    "\n",
    "        \n",
    "        plotting_func(df_clusters_est_err, cell_size, clus_cube_size)\n",
    "        \n",
    "        \n",
    "        df_clusters_est_err.to_csv(f'Data/with_vels/z_gt_4_lt_7_{radius}_{cell_size}.csv')\n",
    "        \n",
    "# #         clear_output(wait=True)\n",
    "        \n",
    "                \n",
    "\n",
    "\n",
    "        \n",
    "#         clus_mass_bins_results = clus_mass_bins_results.append({'Cell Size': cell_size,\n",
    "#                 'Cube Size': clus_cube_size,\n",
    "#                 'Clusters': no_of_clus,\n",
    "                                                                                                                                                                    \n",
    "#                 'Slope - Vlos': round(param_los_scipy[0][0], 3),  \n",
    "#                 'Error - Slope - Vlos': round(np.sqrt(param_los_scipy[1][0, 0]), 3), \n",
    "#                 'Intercept - Vlos': round(param_los_scipy[0][1], 3),\n",
    "#                 'Scatter - Vlos': 'Not-calculated',\n",
    "               \n",
    "#                                                                                }, \n",
    "#                 ignore_index=True)\n",
    "        \n",
    "        \n",
    "        print('Time taken:', time.time() - t)\n",
    "        print('\\n')\n",
    "        "
   ]
  },
  {
   "cell_type": "markdown",
   "id": "247017ed-4f37-47cc-ade5-20071530307a",
   "metadata": {},
   "source": [
    "**27 Aug 2021**  \n",
    "A: Delta has an evolution. It could be less on one side of the box and more on the other. Not accouting for it can create a velocity dipole. Should be discussed with Emilio. Good to mention we can get a bias from this mistake. Though, people must have been taking care of it even if they don't mention it.  \n",
    "**Task** There's no redshift evolution in 240 Mpc radius or diameter region. Worth trying to use only surrounding sphere to compute delta. Rerun one Magneticum result.  \n",
    "**Task** Scatterplot to see how delta mean change (how it fluctuates) for the cluster catalog from the Magneticum.  \n",
    "**Task** Check redshift intervel for Magneticum box. Must be .3 or .4. Have to plug in the distance formulat to get the redshift.  \n",
    "**Task** Also calculate Poisson errors to see if it is matching the ones from Magneticum.  \n",
    "**Task** Compare histograms of velocities from both Magneticum and SDSS for 5 Mpc, 10 Mpc and 20 Mpc.\n",
    "\n",
    "**1 Sep 2021**  \n",
    "A:\n",
    "- The errors are smaller with 10 Mpc (go to basically 5000) than 5 Mpc (goes to 15000). This is because we have more galaxies in each cell for 10 Mpc.  \n",
    "\n",
    "Getting true velocities\n",
    "\n",
    "- To get true velocity, a thought was to do brute force samping from a true distribution to reconstructed distribution.\n",
    "- We know how to go forward: we have a line with its own error: intercept error and slope error. So for each draw (of x which is v_true), we can always draw some random values of intercept and slope for each x axis value and on that add quadrature the scatter because scatter is also a Gaussion. And that will give you a y value. We can go from x to y. But how to go backwards from y to x?\n",
    "- If this is a straight line, one can make the equation work both ways. But regression with a scatter is not interchangeable. You cannot flip because you use the error model along the Y, and scatter model in the y direction, not the X direction. Here, you fit the regression for the y values with respect to x, not the other way. Our regression basically only tells us how to go to Y value from x but not the other way around.\n",
    "- If we want to map 10,000 distributions in X to see which one finally comes closest to Y that is not a very meaningful approach. It's not a well-defined. You never know if that is the solution right. You cannot just trial and error.. unless we have a theoretical model and we can define some chi square probability and do some MCMC kind of stuff. But we don't have any theoretical model for x velocities. \n",
    "- One easy way is to fit this regression in two parts. One is the bias part that is the deviation of the mean line from one is to one, that's the green line. Forget the errors for a moment. You get one unique definite X distribution whose errors are the same as the y distribution. \n",
    "- This error that we get is only from the error of galaxy count. There is an additional error because we don't have an infinite sample of galaxies cluster.. we have only a finite sample. So the determination of this green line also had an error and this error is encoded into the correlation coefficient. How much points scatter up and down from this. So (second part is) the error that is defined by the correlation coefficient, the scatter of the points. Then you can reverse map the Y distribution.\n",
    "- ACT team assume there is a random component that does not match and reduce their Signal to Noise, obtained after stacking, by multiplying it with the correlation co-efficient. This just means increasing the noise or error. This method does not take into account any bias.\n",
    "- Ideally, we wanted to do something more direct, use the full regression with its error to remap the reconstructed velocities to true velocity. If we figure out this method, it'd be great to compare it with the above easy method.\n",
    "- We found two biases: 1. using a larger cell, 2. having mass bias, different mass bins have different slopes. So we must take into account these two biases. From 800 cluster, maybe we can make three mass bins. Then we have to apply three different regressions for the three mass bins.\n",
    "\n",
    "Local density\n",
    "- Mention in the write-ups we are using local field to calculate mean density.\n",
    "\n",
    "**15 Sep 2021**  \n",
    "B:\n",
    "- Peculiar velocity and error magnitudes are acceptable numbers for these redshifts.\n",
    "- Vel bias of clusters moving towards us could be due to cosmic variance, small volume, sampling limitation, selectio bias or more galaxy density at lower redshift than higher. Probably, cosmic variance plus this large statistical variance at each bin point. Or edge effects (cluster close to boundary).\n",
    "- Direction bias understandable for 5 Mpc but not for 10 Mpc\n",
    "- 10 Mpc (guess) vel hist better. Must be having Kurtosis close to zero. Vel dist not expected to be Gaussian.\n",
    "- We can try 350 Mpc spheres. If we still see it, we can argue something is wrong with data. If it disappears, it means we need to correct for it when using smaller volumes.\n",
    "- **Task** Let's quantify this bias. Compute the second order moment of the distribution. First moment is also biased because of our choice of cell sizes, we never get perfectly one is to one line.\n",
    "- **Task** Check maximum (mode) of bins.\n",
    "- **Task** Identify issue with high error clusters."
   ]
  },
  {
   "cell_type": "code",
   "execution_count": 42,
   "id": "ad47027a-3bd7-4eb8-804f-1e1ad73abe70",
   "metadata": {
    "execution": {
     "iopub.execute_input": "2021-08-30T19:50:32.500823Z",
     "iopub.status.busy": "2021-08-30T19:50:32.500549Z",
     "iopub.status.idle": "2021-08-30T19:50:32.525041Z",
     "shell.execute_reply": "2021-08-30T19:50:32.524208Z",
     "shell.execute_reply.started": "2021-08-30T19:50:32.500797Z"
    },
    "tags": []
   },
   "outputs": [
    {
     "data": {
      "text/html": [
       "<div>\n",
       "<style scoped>\n",
       "    .dataframe tbody tr th:only-of-type {\n",
       "        vertical-align: middle;\n",
       "    }\n",
       "\n",
       "    .dataframe tbody tr th {\n",
       "        vertical-align: top;\n",
       "    }\n",
       "\n",
       "    .dataframe thead th {\n",
       "        text-align: right;\n",
       "    }\n",
       "</style>\n",
       "<table border=\"1\" class=\"dataframe\">\n",
       "  <thead>\n",
       "    <tr style=\"text-align: right;\">\n",
       "      <th></th>\n",
       "      <th>RADeg</th>\n",
       "      <th>decDeg</th>\n",
       "      <th>redshift</th>\n",
       "      <th>M500</th>\n",
       "      <th>r_comov[Mpc/h]</th>\n",
       "      <th>x_comov[Mpc/h]</th>\n",
       "      <th>y_comov[Mpc/h]</th>\n",
       "      <th>z_comov[Mpc/h]</th>\n",
       "      <th>inside_clus</th>\n",
       "      <th>gals_beyond_250Mpc</th>\n",
       "      <th>vx_est[km/s]</th>\n",
       "      <th>vy_est[km/s]</th>\n",
       "      <th>vz_est[km/s]</th>\n",
       "      <th>vx_est_err[km/s]</th>\n",
       "      <th>vy_est_err[km/s]</th>\n",
       "      <th>vz_est_err[km/s]</th>\n",
       "      <th>r_mag[Mpc/h]</th>\n",
       "      <th>v_los_est[km/s]</th>\n",
       "    </tr>\n",
       "  </thead>\n",
       "  <tbody>\n",
       "    <tr>\n",
       "      <th>0</th>\n",
       "      <td>0.113536</td>\n",
       "      <td>-1.044805</td>\n",
       "      <td>0.438800</td>\n",
       "      <td>1.493793</td>\n",
       "      <td>2567.184731</td>\n",
       "      <td>2566.752876</td>\n",
       "      <td>5.086245</td>\n",
       "      <td>-46.810749</td>\n",
       "      <td>True</td>\n",
       "      <td>[5764, 36714, 15413, 10670, 11580, 1016]</td>\n",
       "      <td>-1365364.0309864641 km / (Mpc s)</td>\n",
       "      <td>-45661.047140271294 km / (Mpc s)</td>\n",
       "      <td>1566984.8338355597 km / (Mpc s)</td>\n",
       "      <td>1552.2267354809183 km / (Mpc s)</td>\n",
       "      <td>1552.2267354809183 km / (Mpc s)</td>\n",
       "      <td>1552.2267354809183 km / (Mpc s)</td>\n",
       "      <td>2567.184731</td>\n",
       "      <td>-1393797.6445175903 km / (Mpc s)</td>\n",
       "    </tr>\n",
       "    <tr>\n",
       "      <th>1</th>\n",
       "      <td>0.179081</td>\n",
       "      <td>2.418384</td>\n",
       "      <td>0.422747</td>\n",
       "      <td>2.015433</td>\n",
       "      <td>2484.082955</td>\n",
       "      <td>2481.858364</td>\n",
       "      <td>7.757204</td>\n",
       "      <td>104.818959</td>\n",
       "      <td>True</td>\n",
       "      <td>[6339, 53731, 15274, 13416, 9820, 1546]</td>\n",
       "      <td>-1320132.3500595426 km / (Mpc s)</td>\n",
       "      <td>-48851.92127921548 km / (Mpc s)</td>\n",
       "      <td>1289439.5349670427 km / (Mpc s)</td>\n",
       "      <td>1554.8823795206933 km / (Mpc s)</td>\n",
       "      <td>1554.8823795206933 km / (Mpc s)</td>\n",
       "      <td>1554.8823795206933 km / (Mpc s)</td>\n",
       "      <td>2484.082955</td>\n",
       "      <td>-1264693.174871087 km / (Mpc s)</td>\n",
       "    </tr>\n",
       "    <tr>\n",
       "      <th>2</th>\n",
       "      <td>0.237445</td>\n",
       "      <td>-7.212459</td>\n",
       "      <td>0.551449</td>\n",
       "      <td>1.952599</td>\n",
       "      <td>3128.312832</td>\n",
       "      <td>3103.533166</td>\n",
       "      <td>12.861744</td>\n",
       "      <td>-392.756461</td>\n",
       "      <td>True</td>\n",
       "      <td>[1123, 4129, 5769, 1023, 10234, 1]</td>\n",
       "      <td>-1646915.3079876674 km / (Mpc s)</td>\n",
       "      <td>-54411.4077415099 km / (Mpc s)</td>\n",
       "      <td>1752628.5946039085 km / (Mpc s)</td>\n",
       "      <td>1540.4575351117192 km / (Mpc s)</td>\n",
       "      <td>1540.4575351117187 km / (Mpc s)</td>\n",
       "      <td>1540.4575351117192 km / (Mpc s)</td>\n",
       "      <td>3128.312832</td>\n",
       "      <td>-1854134.3597369983 km / (Mpc s)</td>\n",
       "    </tr>\n",
       "    <tr>\n",
       "      <th>3</th>\n",
       "      <td>0.362527</td>\n",
       "      <td>-0.038898</td>\n",
       "      <td>0.247143</td>\n",
       "      <td>1.834008</td>\n",
       "      <td>1521.952061</td>\n",
       "      <td>1521.921245</td>\n",
       "      <td>9.629776</td>\n",
       "      <td>-1.033244</td>\n",
       "      <td>True</td>\n",
       "      <td>[12203, 35227, 8684, 6300, 6347, 131]</td>\n",
       "      <td>-994057.8039217618 km / (Mpc s)</td>\n",
       "      <td>-52553.46801186755 km / (Mpc s)</td>\n",
       "      <td>1535612.696623163 km / (Mpc s)</td>\n",
       "      <td>1601.7439971269087 km / (Mpc s)</td>\n",
       "      <td>1601.743997126908 km / (Mpc s)</td>\n",
       "      <td>1601.743997126908 km / (Mpc s)</td>\n",
       "      <td>1521.952061</td>\n",
       "      <td>-995412.7138618196 km / (Mpc s)</td>\n",
       "    </tr>\n",
       "    <tr>\n",
       "      <th>4</th>\n",
       "      <td>0.482636</td>\n",
       "      <td>12.061679</td>\n",
       "      <td>0.199261</td>\n",
       "      <td>3.023410</td>\n",
       "      <td>1242.416151</td>\n",
       "      <td>1214.944494</td>\n",
       "      <td>10.234440</td>\n",
       "      <td>259.620922</td>\n",
       "      <td>True</td>\n",
       "      <td>[14161, 49788, 5883, 6218, 2987, 1885]</td>\n",
       "      <td>-940140.3343966682 km / (Mpc s)</td>\n",
       "      <td>-53936.33006031041 km / (Mpc s)</td>\n",
       "      <td>1027464.0788301586 km / (Mpc s)</td>\n",
       "      <td>1622.1737933115232 km / (Mpc s)</td>\n",
       "      <td>1622.1737933115226 km / (Mpc s)</td>\n",
       "      <td>1622.1737933115228 km / (Mpc s)</td>\n",
       "      <td>1242.416151</td>\n",
       "      <td>-705093.1842582013 km / (Mpc s)</td>\n",
       "    </tr>\n",
       "  </tbody>\n",
       "</table>\n",
       "</div>"
      ],
      "text/plain": [
       "      RADeg     decDeg  redshift      M500  r_comov[Mpc/h]  x_comov[Mpc/h]  \\\n",
       "0  0.113536  -1.044805  0.438800  1.493793     2567.184731     2566.752876   \n",
       "1  0.179081   2.418384  0.422747  2.015433     2484.082955     2481.858364   \n",
       "2  0.237445  -7.212459  0.551449  1.952599     3128.312832     3103.533166   \n",
       "3  0.362527  -0.038898  0.247143  1.834008     1521.952061     1521.921245   \n",
       "4  0.482636  12.061679  0.199261  3.023410     1242.416151     1214.944494   \n",
       "\n",
       "   y_comov[Mpc/h]  z_comov[Mpc/h]  inside_clus  \\\n",
       "0        5.086245      -46.810749         True   \n",
       "1        7.757204      104.818959         True   \n",
       "2       12.861744     -392.756461         True   \n",
       "3        9.629776       -1.033244         True   \n",
       "4       10.234440      259.620922         True   \n",
       "\n",
       "                         gals_beyond_250Mpc                      vx_est[km/s]  \\\n",
       "0  [5764, 36714, 15413, 10670, 11580, 1016]  -1365364.0309864641 km / (Mpc s)   \n",
       "1   [6339, 53731, 15274, 13416, 9820, 1546]  -1320132.3500595426 km / (Mpc s)   \n",
       "2        [1123, 4129, 5769, 1023, 10234, 1]  -1646915.3079876674 km / (Mpc s)   \n",
       "3     [12203, 35227, 8684, 6300, 6347, 131]   -994057.8039217618 km / (Mpc s)   \n",
       "4    [14161, 49788, 5883, 6218, 2987, 1885]   -940140.3343966682 km / (Mpc s)   \n",
       "\n",
       "                       vy_est[km/s]                     vz_est[km/s]  \\\n",
       "0  -45661.047140271294 km / (Mpc s)  1566984.8338355597 km / (Mpc s)   \n",
       "1   -48851.92127921548 km / (Mpc s)  1289439.5349670427 km / (Mpc s)   \n",
       "2    -54411.4077415099 km / (Mpc s)  1752628.5946039085 km / (Mpc s)   \n",
       "3   -52553.46801186755 km / (Mpc s)   1535612.696623163 km / (Mpc s)   \n",
       "4   -53936.33006031041 km / (Mpc s)  1027464.0788301586 km / (Mpc s)   \n",
       "\n",
       "                  vx_est_err[km/s]                 vy_est_err[km/s]  \\\n",
       "0  1552.2267354809183 km / (Mpc s)  1552.2267354809183 km / (Mpc s)   \n",
       "1  1554.8823795206933 km / (Mpc s)  1554.8823795206933 km / (Mpc s)   \n",
       "2  1540.4575351117192 km / (Mpc s)  1540.4575351117187 km / (Mpc s)   \n",
       "3  1601.7439971269087 km / (Mpc s)   1601.743997126908 km / (Mpc s)   \n",
       "4  1622.1737933115232 km / (Mpc s)  1622.1737933115226 km / (Mpc s)   \n",
       "\n",
       "                  vz_est_err[km/s]  r_mag[Mpc/h]  \\\n",
       "0  1552.2267354809183 km / (Mpc s)   2567.184731   \n",
       "1  1554.8823795206933 km / (Mpc s)   2484.082955   \n",
       "2  1540.4575351117192 km / (Mpc s)   3128.312832   \n",
       "3   1601.743997126908 km / (Mpc s)   1521.952061   \n",
       "4  1622.1737933115228 km / (Mpc s)   1242.416151   \n",
       "\n",
       "                    v_los_est[km/s]  \n",
       "0  -1393797.6445175903 km / (Mpc s)  \n",
       "1   -1264693.174871087 km / (Mpc s)  \n",
       "2  -1854134.3597369983 km / (Mpc s)  \n",
       "3   -995412.7138618196 km / (Mpc s)  \n",
       "4   -705093.1842582013 km / (Mpc s)  "
      ]
     },
     "execution_count": 42,
     "metadata": {},
     "output_type": "execute_result"
    }
   ],
   "source": [
    "df_clusters_est_err.head()"
   ]
  },
  {
   "cell_type": "code",
   "execution_count": null,
   "id": "cd3d9b91-2519-4c7e-b90c-486581b4361c",
   "metadata": {},
   "outputs": [],
   "source": []
  }
 ],
 "metadata": {
  "kernelspec": {
   "display_name": "Python 3",
   "language": "python",
   "name": "python3"
  },
  "language_info": {
   "codemirror_mode": {
    "name": "ipython",
    "version": 3
   },
   "file_extension": ".py",
   "mimetype": "text/x-python",
   "name": "python",
   "nbconvert_exporter": "python",
   "pygments_lexer": "ipython3",
   "version": "3.8.10"
  }
 },
 "nbformat": 4,
 "nbformat_minor": 5
}
