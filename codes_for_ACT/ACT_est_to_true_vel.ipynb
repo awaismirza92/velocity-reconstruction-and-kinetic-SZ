{
 "cells": [
  {
   "cell_type": "markdown",
   "id": "d57e23f3-c2c4-4b10-aa5e-1cbcc081c577",
   "metadata": {},
   "source": [
    "**17 Nov 2021**  \n",
    "A:\n",
    "-  We have a regression line and we have error range. After Monte Carloing with linmix code, we have 10,000 values. So we plot 10,000 lines here and find for each value 68% or 95% envelope of all values. That's what gives the shaded region. For each value on the y axis now, that is your estimated velocity from the SDSS, you get a series of possible x values from each of the lines in shaded region. The histogram (of x values) is the distribution pdf of the true values. Peak of this histogram is what should be used for dividing for kSZ (optical depths). The error also comes from the histogram which can be propaged onwards (to optical depth measurement).\n",
    "- Above technique not read in papers, but it should be okay, why not.\n",
    "- Just using the regression line to flip will not work because we have errors only in y (est vels).\n",
    "- Just 10k or 100k slope and intercept values needed. Scatter is already marginalized over so for each of these things (values), a line is plotted."
   ]
  }
 ],
 "metadata": {
  "kernelspec": {
   "display_name": "Python 3",
   "language": "python",
   "name": "python3"
  },
  "language_info": {
   "codemirror_mode": {
    "name": "ipython",
    "version": 3
   },
   "file_extension": ".py",
   "mimetype": "text/x-python",
   "name": "python",
   "nbconvert_exporter": "python",
   "pygments_lexer": "ipython3",
   "version": "3.8.10"
  }
 },
 "nbformat": 4,
 "nbformat_minor": 5
}
